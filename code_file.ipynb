{
  "cells": [
    {
      "cell_type": "code",
      "execution_count": 2,
      "id": "soRGj6bGYlZG",
      "metadata": {
        "colab": {
          "base_uri": "https://localhost:8080/"
        },
        "id": "soRGj6bGYlZG",
        "outputId": "ed2d5c7e-7891-4c59-f540-6464b6e67a8d"
      },
      "outputs": [
        {
          "output_type": "stream",
          "name": "stdout",
          "text": [
            "Drive already mounted at /content/drive; to attempt to forcibly remount, call drive.mount(\"/content/drive\", force_remount=True).\n"
          ]
        }
      ],
      "source": [
        "#Uncomment this line if you are connecting to Google Drive to access the files\n",
        "from google.colab import drive\n",
        "drive.mount('/content/drive')"
      ]
    },
    {
      "cell_type": "markdown",
      "id": "048826a3",
      "metadata": {
        "id": "048826a3"
      },
      "source": [
        "# **Import Standard Libraries**"
      ]
    },
    {
      "cell_type": "code",
      "execution_count": 3,
      "id": "8e563bff",
      "metadata": {
        "id": "8e563bff"
      },
      "outputs": [],
      "source": [
        "import numpy as np\n",
        "import pandas as pd\n",
        "import matplotlib.pyplot as plt\n",
        "import random\n",
        "from sklearn.model_selection import train_test_split\n",
        "seed = 277268\n",
        "random.seed(seed)\n",
        "\n",
        "import nltk\n",
        "import gensim\n",
        "import gensim.downloader as api\n",
        "from sklearn.metrics import classification_report\n",
        "import torch.optim as optim\n",
        "from nltk.tokenize import word_tokenize\n",
        "from gensim.models import word2vec\n",
        "from gensim.models.word2vec import Word2Vec\n",
        "from sklearn import metrics\n",
        "import torch\n",
        "import numpy as np\n",
        "from torch import nn\n",
        "from transformers import BertTokenizer, BertModel\n",
        "from torch.optim import Adam\n",
        "from tqdm import tqdm\n",
        "import gc\n",
        "import spacy\n",
        "import string"
      ]
    },
    {
      "cell_type": "code",
      "execution_count": 4,
      "id": "KBhScnqCHKwu",
      "metadata": {
        "colab": {
          "base_uri": "https://localhost:8080/"
        },
        "id": "KBhScnqCHKwu",
        "outputId": "8109cf01-f316-4c87-c207-1e8841e54512"
      },
      "outputs": [
        {
          "output_type": "stream",
          "name": "stderr",
          "text": [
            "[nltk_data] Downloading package punkt to /root/nltk_data...\n",
            "[nltk_data]   Unzipping tokenizers/punkt.zip.\n"
          ]
        },
        {
          "output_type": "execute_result",
          "data": {
            "text/plain": [
              "True"
            ]
          },
          "metadata": {},
          "execution_count": 4
        }
      ],
      "source": [
        "nltk.download('punkt')"
      ]
    },
    {
      "cell_type": "code",
      "execution_count": 5,
      "id": "7fYwwG6LNODw",
      "metadata": {
        "id": "7fYwwG6LNODw"
      },
      "outputs": [],
      "source": [
        "#Set seed to ensure the code and outputs are reproducible\n",
        "torch.manual_seed(seed)\n",
        "\n",
        "#Cuda algorithms\n",
        "torch.backends.cudnn.deterministic = True"
      ]
    },
    {
      "cell_type": "code",
      "execution_count": 6,
      "id": "d0458d67",
      "metadata": {
        "id": "d0458d67"
      },
      "outputs": [],
      "source": [
        "#Clear CUDA cache to free up memory\n",
        "torch.cuda.empty_cache()"
      ]
    },
    {
      "cell_type": "code",
      "execution_count": 7,
      "id": "sgCUzLlcjJiH",
      "metadata": {
        "colab": {
          "base_uri": "https://localhost:8080/"
        },
        "id": "sgCUzLlcjJiH",
        "outputId": "88df6331-abcf-4bae-dae0-1576fe1f87fd"
      },
      "outputs": [
        {
          "output_type": "stream",
          "name": "stdout",
          "text": [
            "GPU acceleration enabled\n",
            "cuda\n"
          ]
        }
      ],
      "source": [
        "#Adapted the code from AdvNlp week 10\n",
        "#Check if NVIDIA GPU is available\n",
        "#If yes, use CUDA to perform computations\n",
        "use_cuda = torch.cuda.is_available()\n",
        "\n",
        "if use_cuda:\n",
        "    print(\"GPU acceleration enabled\")\n",
        "else:\n",
        "    print(\"GPU acceleration NOT enabled. If using Colab, have you changed the runtime type and selected GPU as the hardware accelerator?\")\n",
        "\n",
        "device = torch.device(\"cuda\" if use_cuda else \"cpu\")\n",
        "print(device)"
      ]
    },
    {
      "cell_type": "markdown",
      "id": "fe7ee8a1",
      "metadata": {
        "id": "fe7ee8a1"
      },
      "source": [
        "# Reading the data in training and validation datasets"
      ]
    },
    {
      "cell_type": "code",
      "execution_count": 8,
      "id": "bb4147bd",
      "metadata": {
        "colab": {
          "base_uri": "https://localhost:8080/",
          "height": 258
        },
        "id": "bb4147bd",
        "outputId": "27e54407-e1d3-4162-fd06-c943f0dcc2e9"
      },
      "outputs": [
        {
          "output_type": "stream",
          "name": "stdout",
          "text": [
            "No. of records in the training dataset:label                2560\n",
            "tagged_in_context    2560\n",
            "dtype: int64\n"
          ]
        },
        {
          "output_type": "execute_result",
          "data": {
            "text/plain": [
              "            label                                  tagged_in_context\n",
              "0  not_propaganda         No, <BOS> he <EOS> will not be confirmed. \n",
              "1  not_propaganda  This declassification effort <BOS> won’t make ...\n",
              "2     flag_waving  \"The Obama administration misled the <BOS> Ame...\n",
              "3  not_propaganda  “It looks like we’re capturing the demise of t...\n",
              "4  not_propaganda           <BOS> Location: Westerville, Ohio <EOS> "
            ],
            "text/html": [
              "\n",
              "  <div id=\"df-100e3ed2-cc77-469c-a3b0-8b853ce4ad48\" class=\"colab-df-container\">\n",
              "    <div>\n",
              "<style scoped>\n",
              "    .dataframe tbody tr th:only-of-type {\n",
              "        vertical-align: middle;\n",
              "    }\n",
              "\n",
              "    .dataframe tbody tr th {\n",
              "        vertical-align: top;\n",
              "    }\n",
              "\n",
              "    .dataframe thead th {\n",
              "        text-align: right;\n",
              "    }\n",
              "</style>\n",
              "<table border=\"1\" class=\"dataframe\">\n",
              "  <thead>\n",
              "    <tr style=\"text-align: right;\">\n",
              "      <th></th>\n",
              "      <th>label</th>\n",
              "      <th>tagged_in_context</th>\n",
              "    </tr>\n",
              "  </thead>\n",
              "  <tbody>\n",
              "    <tr>\n",
              "      <th>0</th>\n",
              "      <td>not_propaganda</td>\n",
              "      <td>No, &lt;BOS&gt; he &lt;EOS&gt; will not be confirmed.</td>\n",
              "    </tr>\n",
              "    <tr>\n",
              "      <th>1</th>\n",
              "      <td>not_propaganda</td>\n",
              "      <td>This declassification effort &lt;BOS&gt; won’t make ...</td>\n",
              "    </tr>\n",
              "    <tr>\n",
              "      <th>2</th>\n",
              "      <td>flag_waving</td>\n",
              "      <td>\"The Obama administration misled the &lt;BOS&gt; Ame...</td>\n",
              "    </tr>\n",
              "    <tr>\n",
              "      <th>3</th>\n",
              "      <td>not_propaganda</td>\n",
              "      <td>“It looks like we’re capturing the demise of t...</td>\n",
              "    </tr>\n",
              "    <tr>\n",
              "      <th>4</th>\n",
              "      <td>not_propaganda</td>\n",
              "      <td>&lt;BOS&gt; Location: Westerville, Ohio &lt;EOS&gt;</td>\n",
              "    </tr>\n",
              "  </tbody>\n",
              "</table>\n",
              "</div>\n",
              "    <div class=\"colab-df-buttons\">\n",
              "\n",
              "  <div class=\"colab-df-container\">\n",
              "    <button class=\"colab-df-convert\" onclick=\"convertToInteractive('df-100e3ed2-cc77-469c-a3b0-8b853ce4ad48')\"\n",
              "            title=\"Convert this dataframe to an interactive table.\"\n",
              "            style=\"display:none;\">\n",
              "\n",
              "  <svg xmlns=\"http://www.w3.org/2000/svg\" height=\"24px\" viewBox=\"0 -960 960 960\">\n",
              "    <path d=\"M120-120v-720h720v720H120Zm60-500h600v-160H180v160Zm220 220h160v-160H400v160Zm0 220h160v-160H400v160ZM180-400h160v-160H180v160Zm440 0h160v-160H620v160ZM180-180h160v-160H180v160Zm440 0h160v-160H620v160Z\"/>\n",
              "  </svg>\n",
              "    </button>\n",
              "\n",
              "  <style>\n",
              "    .colab-df-container {\n",
              "      display:flex;\n",
              "      gap: 12px;\n",
              "    }\n",
              "\n",
              "    .colab-df-convert {\n",
              "      background-color: #E8F0FE;\n",
              "      border: none;\n",
              "      border-radius: 50%;\n",
              "      cursor: pointer;\n",
              "      display: none;\n",
              "      fill: #1967D2;\n",
              "      height: 32px;\n",
              "      padding: 0 0 0 0;\n",
              "      width: 32px;\n",
              "    }\n",
              "\n",
              "    .colab-df-convert:hover {\n",
              "      background-color: #E2EBFA;\n",
              "      box-shadow: 0px 1px 2px rgba(60, 64, 67, 0.3), 0px 1px 3px 1px rgba(60, 64, 67, 0.15);\n",
              "      fill: #174EA6;\n",
              "    }\n",
              "\n",
              "    .colab-df-buttons div {\n",
              "      margin-bottom: 4px;\n",
              "    }\n",
              "\n",
              "    [theme=dark] .colab-df-convert {\n",
              "      background-color: #3B4455;\n",
              "      fill: #D2E3FC;\n",
              "    }\n",
              "\n",
              "    [theme=dark] .colab-df-convert:hover {\n",
              "      background-color: #434B5C;\n",
              "      box-shadow: 0px 1px 3px 1px rgba(0, 0, 0, 0.15);\n",
              "      filter: drop-shadow(0px 1px 2px rgba(0, 0, 0, 0.3));\n",
              "      fill: #FFFFFF;\n",
              "    }\n",
              "  </style>\n",
              "\n",
              "    <script>\n",
              "      const buttonEl =\n",
              "        document.querySelector('#df-100e3ed2-cc77-469c-a3b0-8b853ce4ad48 button.colab-df-convert');\n",
              "      buttonEl.style.display =\n",
              "        google.colab.kernel.accessAllowed ? 'block' : 'none';\n",
              "\n",
              "      async function convertToInteractive(key) {\n",
              "        const element = document.querySelector('#df-100e3ed2-cc77-469c-a3b0-8b853ce4ad48');\n",
              "        const dataTable =\n",
              "          await google.colab.kernel.invokeFunction('convertToInteractive',\n",
              "                                                    [key], {});\n",
              "        if (!dataTable) return;\n",
              "\n",
              "        const docLinkHtml = 'Like what you see? Visit the ' +\n",
              "          '<a target=\"_blank\" href=https://colab.research.google.com/notebooks/data_table.ipynb>data table notebook</a>'\n",
              "          + ' to learn more about interactive tables.';\n",
              "        element.innerHTML = '';\n",
              "        dataTable['output_type'] = 'display_data';\n",
              "        await google.colab.output.renderOutput(dataTable, element);\n",
              "        const docLink = document.createElement('div');\n",
              "        docLink.innerHTML = docLinkHtml;\n",
              "        element.appendChild(docLink);\n",
              "      }\n",
              "    </script>\n",
              "  </div>\n",
              "\n",
              "\n",
              "<div id=\"df-2f7423da-3af4-46d7-9099-5d2c9b37c0c4\">\n",
              "  <button class=\"colab-df-quickchart\" onclick=\"quickchart('df-2f7423da-3af4-46d7-9099-5d2c9b37c0c4')\"\n",
              "            title=\"Suggest charts\"\n",
              "            style=\"display:none;\">\n",
              "\n",
              "<svg xmlns=\"http://www.w3.org/2000/svg\" height=\"24px\"viewBox=\"0 0 24 24\"\n",
              "     width=\"24px\">\n",
              "    <g>\n",
              "        <path d=\"M19 3H5c-1.1 0-2 .9-2 2v14c0 1.1.9 2 2 2h14c1.1 0 2-.9 2-2V5c0-1.1-.9-2-2-2zM9 17H7v-7h2v7zm4 0h-2V7h2v10zm4 0h-2v-4h2v4z\"/>\n",
              "    </g>\n",
              "</svg>\n",
              "  </button>\n",
              "\n",
              "<style>\n",
              "  .colab-df-quickchart {\n",
              "      --bg-color: #E8F0FE;\n",
              "      --fill-color: #1967D2;\n",
              "      --hover-bg-color: #E2EBFA;\n",
              "      --hover-fill-color: #174EA6;\n",
              "      --disabled-fill-color: #AAA;\n",
              "      --disabled-bg-color: #DDD;\n",
              "  }\n",
              "\n",
              "  [theme=dark] .colab-df-quickchart {\n",
              "      --bg-color: #3B4455;\n",
              "      --fill-color: #D2E3FC;\n",
              "      --hover-bg-color: #434B5C;\n",
              "      --hover-fill-color: #FFFFFF;\n",
              "      --disabled-bg-color: #3B4455;\n",
              "      --disabled-fill-color: #666;\n",
              "  }\n",
              "\n",
              "  .colab-df-quickchart {\n",
              "    background-color: var(--bg-color);\n",
              "    border: none;\n",
              "    border-radius: 50%;\n",
              "    cursor: pointer;\n",
              "    display: none;\n",
              "    fill: var(--fill-color);\n",
              "    height: 32px;\n",
              "    padding: 0;\n",
              "    width: 32px;\n",
              "  }\n",
              "\n",
              "  .colab-df-quickchart:hover {\n",
              "    background-color: var(--hover-bg-color);\n",
              "    box-shadow: 0 1px 2px rgba(60, 64, 67, 0.3), 0 1px 3px 1px rgba(60, 64, 67, 0.15);\n",
              "    fill: var(--button-hover-fill-color);\n",
              "  }\n",
              "\n",
              "  .colab-df-quickchart-complete:disabled,\n",
              "  .colab-df-quickchart-complete:disabled:hover {\n",
              "    background-color: var(--disabled-bg-color);\n",
              "    fill: var(--disabled-fill-color);\n",
              "    box-shadow: none;\n",
              "  }\n",
              "\n",
              "  .colab-df-spinner {\n",
              "    border: 2px solid var(--fill-color);\n",
              "    border-color: transparent;\n",
              "    border-bottom-color: var(--fill-color);\n",
              "    animation:\n",
              "      spin 1s steps(1) infinite;\n",
              "  }\n",
              "\n",
              "  @keyframes spin {\n",
              "    0% {\n",
              "      border-color: transparent;\n",
              "      border-bottom-color: var(--fill-color);\n",
              "      border-left-color: var(--fill-color);\n",
              "    }\n",
              "    20% {\n",
              "      border-color: transparent;\n",
              "      border-left-color: var(--fill-color);\n",
              "      border-top-color: var(--fill-color);\n",
              "    }\n",
              "    30% {\n",
              "      border-color: transparent;\n",
              "      border-left-color: var(--fill-color);\n",
              "      border-top-color: var(--fill-color);\n",
              "      border-right-color: var(--fill-color);\n",
              "    }\n",
              "    40% {\n",
              "      border-color: transparent;\n",
              "      border-right-color: var(--fill-color);\n",
              "      border-top-color: var(--fill-color);\n",
              "    }\n",
              "    60% {\n",
              "      border-color: transparent;\n",
              "      border-right-color: var(--fill-color);\n",
              "    }\n",
              "    80% {\n",
              "      border-color: transparent;\n",
              "      border-right-color: var(--fill-color);\n",
              "      border-bottom-color: var(--fill-color);\n",
              "    }\n",
              "    90% {\n",
              "      border-color: transparent;\n",
              "      border-bottom-color: var(--fill-color);\n",
              "    }\n",
              "  }\n",
              "</style>\n",
              "\n",
              "  <script>\n",
              "    async function quickchart(key) {\n",
              "      const quickchartButtonEl =\n",
              "        document.querySelector('#' + key + ' button');\n",
              "      quickchartButtonEl.disabled = true;  // To prevent multiple clicks.\n",
              "      quickchartButtonEl.classList.add('colab-df-spinner');\n",
              "      try {\n",
              "        const charts = await google.colab.kernel.invokeFunction(\n",
              "            'suggestCharts', [key], {});\n",
              "      } catch (error) {\n",
              "        console.error('Error during call to suggestCharts:', error);\n",
              "      }\n",
              "      quickchartButtonEl.classList.remove('colab-df-spinner');\n",
              "      quickchartButtonEl.classList.add('colab-df-quickchart-complete');\n",
              "    }\n",
              "    (() => {\n",
              "      let quickchartButtonEl =\n",
              "        document.querySelector('#df-2f7423da-3af4-46d7-9099-5d2c9b37c0c4 button');\n",
              "      quickchartButtonEl.style.display =\n",
              "        google.colab.kernel.accessAllowed ? 'block' : 'none';\n",
              "    })();\n",
              "  </script>\n",
              "</div>\n",
              "    </div>\n",
              "  </div>\n"
            ],
            "application/vnd.google.colaboratory.intrinsic+json": {
              "type": "dataframe",
              "variable_name": "df_train_input",
              "summary": "{\n  \"name\": \"df_train_input\",\n  \"rows\": 2560,\n  \"fields\": [\n    {\n      \"column\": \"label\",\n      \"properties\": {\n        \"dtype\": \"category\",\n        \"num_unique_values\": 9,\n        \"samples\": [\n          \"causal_oversimplification\",\n          \"flag_waving\",\n          \"appeal_to_fear_prejudice\"\n        ],\n        \"semantic_type\": \"\",\n        \"description\": \"\"\n      }\n    },\n    {\n      \"column\": \"tagged_in_context\",\n      \"properties\": {\n        \"dtype\": \"string\",\n        \"num_unique_values\": 2546,\n        \"samples\": [\n          \"Even though Senator Feinstein had the <BOS> letter in hand, she never <EOS> brought up the charge during the public hearing, nor during her own meeting with the judge. \",\n          \"Sessions is <BOS> a <EOS> weak sister. \",\n          \"Often, the American mainstream media becomes a de facto government employee, taking the claims of U.S. officials and reporting them as proven fact \\u2014 and nothing exemplifies this penchant better than reporting on the Gulf of Tonkin incident \\u2014 perhaps one of <BOS> most flagrant lies ever dreamed up <EOS> as a justification for war. \"\n        ],\n        \"semantic_type\": \"\",\n        \"description\": \"\"\n      }\n    }\n  ]\n}"
            }
          },
          "metadata": {},
          "execution_count": 8
        }
      ],
      "source": [
        "df_train_input = pd.read_csv('/content/drive/MyDrive/propaganda_train.tsv', delimiter='\\t', quotechar='|')\n",
        "df_train_input['label'] = df_train_input['label'].str.strip()\n",
        "print(f'No. of records in the training dataset:{df_train_input.count()}')\n",
        "df_train_input.head(5)"
      ]
    },
    {
      "cell_type": "code",
      "execution_count": 9,
      "id": "a9cbe5cf",
      "metadata": {
        "colab": {
          "base_uri": "https://localhost:8080/",
          "height": 258
        },
        "id": "a9cbe5cf",
        "outputId": "ed245664-547c-412c-88ea-17e4122f7361"
      },
      "outputs": [
        {
          "output_type": "stream",
          "name": "stdout",
          "text": [
            "No. of records in the validation dataset:label                640\n",
            "tagged_in_context    640\n",
            "dtype: int64\n"
          ]
        },
        {
          "output_type": "execute_result",
          "data": {
            "text/plain": [
              "                       label  \\\n",
              "0             not_propaganda   \n",
              "1  causal_oversimplification   \n",
              "2   appeal_to_fear_prejudice   \n",
              "3             not_propaganda   \n",
              "4                 repetition   \n",
              "\n",
              "                                   tagged_in_context  \n",
              "0  On average, between 300 and 600 infections are...  \n",
              "1  Mostly because <BOS> the country would not las...  \n",
              "2  Lyndon Johnson <BOS> gets Earl Warren and Sen....  \n",
              "3           <BOS> You <EOS> may opt out at anytime.   \n",
              "4  It must be exacted from him directly in order ...  "
            ],
            "text/html": [
              "\n",
              "  <div id=\"df-fef09b48-b57e-4d7b-b60d-62daf9912731\" class=\"colab-df-container\">\n",
              "    <div>\n",
              "<style scoped>\n",
              "    .dataframe tbody tr th:only-of-type {\n",
              "        vertical-align: middle;\n",
              "    }\n",
              "\n",
              "    .dataframe tbody tr th {\n",
              "        vertical-align: top;\n",
              "    }\n",
              "\n",
              "    .dataframe thead th {\n",
              "        text-align: right;\n",
              "    }\n",
              "</style>\n",
              "<table border=\"1\" class=\"dataframe\">\n",
              "  <thead>\n",
              "    <tr style=\"text-align: right;\">\n",
              "      <th></th>\n",
              "      <th>label</th>\n",
              "      <th>tagged_in_context</th>\n",
              "    </tr>\n",
              "  </thead>\n",
              "  <tbody>\n",
              "    <tr>\n",
              "      <th>0</th>\n",
              "      <td>not_propaganda</td>\n",
              "      <td>On average, between 300 and 600 infections are...</td>\n",
              "    </tr>\n",
              "    <tr>\n",
              "      <th>1</th>\n",
              "      <td>causal_oversimplification</td>\n",
              "      <td>Mostly because &lt;BOS&gt; the country would not las...</td>\n",
              "    </tr>\n",
              "    <tr>\n",
              "      <th>2</th>\n",
              "      <td>appeal_to_fear_prejudice</td>\n",
              "      <td>Lyndon Johnson &lt;BOS&gt; gets Earl Warren and Sen....</td>\n",
              "    </tr>\n",
              "    <tr>\n",
              "      <th>3</th>\n",
              "      <td>not_propaganda</td>\n",
              "      <td>&lt;BOS&gt; You &lt;EOS&gt; may opt out at anytime.</td>\n",
              "    </tr>\n",
              "    <tr>\n",
              "      <th>4</th>\n",
              "      <td>repetition</td>\n",
              "      <td>It must be exacted from him directly in order ...</td>\n",
              "    </tr>\n",
              "  </tbody>\n",
              "</table>\n",
              "</div>\n",
              "    <div class=\"colab-df-buttons\">\n",
              "\n",
              "  <div class=\"colab-df-container\">\n",
              "    <button class=\"colab-df-convert\" onclick=\"convertToInteractive('df-fef09b48-b57e-4d7b-b60d-62daf9912731')\"\n",
              "            title=\"Convert this dataframe to an interactive table.\"\n",
              "            style=\"display:none;\">\n",
              "\n",
              "  <svg xmlns=\"http://www.w3.org/2000/svg\" height=\"24px\" viewBox=\"0 -960 960 960\">\n",
              "    <path d=\"M120-120v-720h720v720H120Zm60-500h600v-160H180v160Zm220 220h160v-160H400v160Zm0 220h160v-160H400v160ZM180-400h160v-160H180v160Zm440 0h160v-160H620v160ZM180-180h160v-160H180v160Zm440 0h160v-160H620v160Z\"/>\n",
              "  </svg>\n",
              "    </button>\n",
              "\n",
              "  <style>\n",
              "    .colab-df-container {\n",
              "      display:flex;\n",
              "      gap: 12px;\n",
              "    }\n",
              "\n",
              "    .colab-df-convert {\n",
              "      background-color: #E8F0FE;\n",
              "      border: none;\n",
              "      border-radius: 50%;\n",
              "      cursor: pointer;\n",
              "      display: none;\n",
              "      fill: #1967D2;\n",
              "      height: 32px;\n",
              "      padding: 0 0 0 0;\n",
              "      width: 32px;\n",
              "    }\n",
              "\n",
              "    .colab-df-convert:hover {\n",
              "      background-color: #E2EBFA;\n",
              "      box-shadow: 0px 1px 2px rgba(60, 64, 67, 0.3), 0px 1px 3px 1px rgba(60, 64, 67, 0.15);\n",
              "      fill: #174EA6;\n",
              "    }\n",
              "\n",
              "    .colab-df-buttons div {\n",
              "      margin-bottom: 4px;\n",
              "    }\n",
              "\n",
              "    [theme=dark] .colab-df-convert {\n",
              "      background-color: #3B4455;\n",
              "      fill: #D2E3FC;\n",
              "    }\n",
              "\n",
              "    [theme=dark] .colab-df-convert:hover {\n",
              "      background-color: #434B5C;\n",
              "      box-shadow: 0px 1px 3px 1px rgba(0, 0, 0, 0.15);\n",
              "      filter: drop-shadow(0px 1px 2px rgba(0, 0, 0, 0.3));\n",
              "      fill: #FFFFFF;\n",
              "    }\n",
              "  </style>\n",
              "\n",
              "    <script>\n",
              "      const buttonEl =\n",
              "        document.querySelector('#df-fef09b48-b57e-4d7b-b60d-62daf9912731 button.colab-df-convert');\n",
              "      buttonEl.style.display =\n",
              "        google.colab.kernel.accessAllowed ? 'block' : 'none';\n",
              "\n",
              "      async function convertToInteractive(key) {\n",
              "        const element = document.querySelector('#df-fef09b48-b57e-4d7b-b60d-62daf9912731');\n",
              "        const dataTable =\n",
              "          await google.colab.kernel.invokeFunction('convertToInteractive',\n",
              "                                                    [key], {});\n",
              "        if (!dataTable) return;\n",
              "\n",
              "        const docLinkHtml = 'Like what you see? Visit the ' +\n",
              "          '<a target=\"_blank\" href=https://colab.research.google.com/notebooks/data_table.ipynb>data table notebook</a>'\n",
              "          + ' to learn more about interactive tables.';\n",
              "        element.innerHTML = '';\n",
              "        dataTable['output_type'] = 'display_data';\n",
              "        await google.colab.output.renderOutput(dataTable, element);\n",
              "        const docLink = document.createElement('div');\n",
              "        docLink.innerHTML = docLinkHtml;\n",
              "        element.appendChild(docLink);\n",
              "      }\n",
              "    </script>\n",
              "  </div>\n",
              "\n",
              "\n",
              "<div id=\"df-5fbb2d16-c392-4262-b127-c2574514b513\">\n",
              "  <button class=\"colab-df-quickchart\" onclick=\"quickchart('df-5fbb2d16-c392-4262-b127-c2574514b513')\"\n",
              "            title=\"Suggest charts\"\n",
              "            style=\"display:none;\">\n",
              "\n",
              "<svg xmlns=\"http://www.w3.org/2000/svg\" height=\"24px\"viewBox=\"0 0 24 24\"\n",
              "     width=\"24px\">\n",
              "    <g>\n",
              "        <path d=\"M19 3H5c-1.1 0-2 .9-2 2v14c0 1.1.9 2 2 2h14c1.1 0 2-.9 2-2V5c0-1.1-.9-2-2-2zM9 17H7v-7h2v7zm4 0h-2V7h2v10zm4 0h-2v-4h2v4z\"/>\n",
              "    </g>\n",
              "</svg>\n",
              "  </button>\n",
              "\n",
              "<style>\n",
              "  .colab-df-quickchart {\n",
              "      --bg-color: #E8F0FE;\n",
              "      --fill-color: #1967D2;\n",
              "      --hover-bg-color: #E2EBFA;\n",
              "      --hover-fill-color: #174EA6;\n",
              "      --disabled-fill-color: #AAA;\n",
              "      --disabled-bg-color: #DDD;\n",
              "  }\n",
              "\n",
              "  [theme=dark] .colab-df-quickchart {\n",
              "      --bg-color: #3B4455;\n",
              "      --fill-color: #D2E3FC;\n",
              "      --hover-bg-color: #434B5C;\n",
              "      --hover-fill-color: #FFFFFF;\n",
              "      --disabled-bg-color: #3B4455;\n",
              "      --disabled-fill-color: #666;\n",
              "  }\n",
              "\n",
              "  .colab-df-quickchart {\n",
              "    background-color: var(--bg-color);\n",
              "    border: none;\n",
              "    border-radius: 50%;\n",
              "    cursor: pointer;\n",
              "    display: none;\n",
              "    fill: var(--fill-color);\n",
              "    height: 32px;\n",
              "    padding: 0;\n",
              "    width: 32px;\n",
              "  }\n",
              "\n",
              "  .colab-df-quickchart:hover {\n",
              "    background-color: var(--hover-bg-color);\n",
              "    box-shadow: 0 1px 2px rgba(60, 64, 67, 0.3), 0 1px 3px 1px rgba(60, 64, 67, 0.15);\n",
              "    fill: var(--button-hover-fill-color);\n",
              "  }\n",
              "\n",
              "  .colab-df-quickchart-complete:disabled,\n",
              "  .colab-df-quickchart-complete:disabled:hover {\n",
              "    background-color: var(--disabled-bg-color);\n",
              "    fill: var(--disabled-fill-color);\n",
              "    box-shadow: none;\n",
              "  }\n",
              "\n",
              "  .colab-df-spinner {\n",
              "    border: 2px solid var(--fill-color);\n",
              "    border-color: transparent;\n",
              "    border-bottom-color: var(--fill-color);\n",
              "    animation:\n",
              "      spin 1s steps(1) infinite;\n",
              "  }\n",
              "\n",
              "  @keyframes spin {\n",
              "    0% {\n",
              "      border-color: transparent;\n",
              "      border-bottom-color: var(--fill-color);\n",
              "      border-left-color: var(--fill-color);\n",
              "    }\n",
              "    20% {\n",
              "      border-color: transparent;\n",
              "      border-left-color: var(--fill-color);\n",
              "      border-top-color: var(--fill-color);\n",
              "    }\n",
              "    30% {\n",
              "      border-color: transparent;\n",
              "      border-left-color: var(--fill-color);\n",
              "      border-top-color: var(--fill-color);\n",
              "      border-right-color: var(--fill-color);\n",
              "    }\n",
              "    40% {\n",
              "      border-color: transparent;\n",
              "      border-right-color: var(--fill-color);\n",
              "      border-top-color: var(--fill-color);\n",
              "    }\n",
              "    60% {\n",
              "      border-color: transparent;\n",
              "      border-right-color: var(--fill-color);\n",
              "    }\n",
              "    80% {\n",
              "      border-color: transparent;\n",
              "      border-right-color: var(--fill-color);\n",
              "      border-bottom-color: var(--fill-color);\n",
              "    }\n",
              "    90% {\n",
              "      border-color: transparent;\n",
              "      border-bottom-color: var(--fill-color);\n",
              "    }\n",
              "  }\n",
              "</style>\n",
              "\n",
              "  <script>\n",
              "    async function quickchart(key) {\n",
              "      const quickchartButtonEl =\n",
              "        document.querySelector('#' + key + ' button');\n",
              "      quickchartButtonEl.disabled = true;  // To prevent multiple clicks.\n",
              "      quickchartButtonEl.classList.add('colab-df-spinner');\n",
              "      try {\n",
              "        const charts = await google.colab.kernel.invokeFunction(\n",
              "            'suggestCharts', [key], {});\n",
              "      } catch (error) {\n",
              "        console.error('Error during call to suggestCharts:', error);\n",
              "      }\n",
              "      quickchartButtonEl.classList.remove('colab-df-spinner');\n",
              "      quickchartButtonEl.classList.add('colab-df-quickchart-complete');\n",
              "    }\n",
              "    (() => {\n",
              "      let quickchartButtonEl =\n",
              "        document.querySelector('#df-5fbb2d16-c392-4262-b127-c2574514b513 button');\n",
              "      quickchartButtonEl.style.display =\n",
              "        google.colab.kernel.accessAllowed ? 'block' : 'none';\n",
              "    })();\n",
              "  </script>\n",
              "</div>\n",
              "    </div>\n",
              "  </div>\n"
            ],
            "application/vnd.google.colaboratory.intrinsic+json": {
              "type": "dataframe",
              "variable_name": "df_validation",
              "summary": "{\n  \"name\": \"df_validation\",\n  \"rows\": 640,\n  \"fields\": [\n    {\n      \"column\": \"label\",\n      \"properties\": {\n        \"dtype\": \"category\",\n        \"num_unique_values\": 9,\n        \"samples\": [\n          \"doubt\",\n          \"causal_oversimplification\",\n          \"loaded_language\"\n        ],\n        \"semantic_type\": \"\",\n        \"description\": \"\"\n      }\n    },\n    {\n      \"column\": \"tagged_in_context\",\n      \"properties\": {\n        \"dtype\": \"string\",\n        \"num_unique_values\": 640,\n        \"samples\": [\n          \"That did not hinder other outlets to add to its <BOS> smear <EOS>. \",\n          \"<BOS> And only one force in the region has the power to reverse the present outcome of Syria's civil war--the United States <EOS>. \",\n          \"To <BOS> achieve that and hold onto power the prime minister, 54, has used methods that critics have called authoritarian, and picked fights with EU partners, especially in the West. <EOS> \"\n        ],\n        \"semantic_type\": \"\",\n        \"description\": \"\"\n      }\n    }\n  ]\n}"
            }
          },
          "metadata": {},
          "execution_count": 9
        }
      ],
      "source": [
        "df_validation = pd.read_csv('/content/drive/MyDrive/propaganda_val.tsv', delimiter='\\t', quotechar='|')\n",
        "df_validation['label'] = df_validation['label'].str.strip()\n",
        "print(f'No. of records in the validation dataset:{df_validation.count()}')\n",
        "df_validation.head(5)"
      ]
    },
    {
      "cell_type": "markdown",
      "id": "2a63625d",
      "metadata": {
        "id": "2a63625d"
      },
      "source": [
        "The specific type of propangada label is not necessary in binary categorization. Instead, all that has to be done is ascertain whether or not something is propaganda. I will create a new field specifically for the binary classification operation."
      ]
    },
    {
      "cell_type": "code",
      "source": [
        "df_train_input['binary_label'] = df_train_input['label'].map(lambda x: 'propaganda' if x != 'not_propaganda' else x)\n",
        "df_validation['binary_label'] = df_validation['label'].map(lambda x: 'propaganda' if x != 'not_propaganda' else x)"
      ],
      "metadata": {
        "id": "YK2ydiDmEmSL"
      },
      "id": "YK2ydiDmEmSL",
      "execution_count": 10,
      "outputs": []
    },
    {
      "cell_type": "markdown",
      "id": "4ba0904c",
      "metadata": {
        "id": "4ba0904c"
      },
      "source": [
        "## **Check the distribution of Training data**"
      ]
    },
    {
      "cell_type": "code",
      "source": [
        "df_train_input"
      ],
      "metadata": {
        "colab": {
          "base_uri": "https://localhost:8080/",
          "height": 424
        },
        "id": "-Cxutlmg00nI",
        "outputId": "3a2b7b85-4f26-414d-e739-80652cf57be6"
      },
      "id": "-Cxutlmg00nI",
      "execution_count": 11,
      "outputs": [
        {
          "output_type": "execute_result",
          "data": {
            "text/plain": [
              "                      label  \\\n",
              "0            not_propaganda   \n",
              "1            not_propaganda   \n",
              "2               flag_waving   \n",
              "3            not_propaganda   \n",
              "4            not_propaganda   \n",
              "...                     ...   \n",
              "2555         not_propaganda   \n",
              "2556         not_propaganda   \n",
              "2557         not_propaganda   \n",
              "2558         not_propaganda   \n",
              "2559  name_calling,labeling   \n",
              "\n",
              "                                      tagged_in_context    binary_label  \n",
              "0            No, <BOS> he <EOS> will not be confirmed.   not_propaganda  \n",
              "1     This declassification effort <BOS> won’t make ...  not_propaganda  \n",
              "2     \"The Obama administration misled the <BOS> Ame...      propaganda  \n",
              "3     “It looks like we’re capturing the demise of t...  not_propaganda  \n",
              "4              <BOS> Location: Westerville, Ohio <EOS>   not_propaganda  \n",
              "...                                                 ...             ...  \n",
              "2555  <BOS> We support and appreciate <EOS> your bus...  not_propaganda  \n",
              "2556  International Atomic Energy Agency (IAEA) Dire...  not_propaganda  \n",
              "2557  What has been done: there has been work on for...  not_propaganda  \n",
              "2558  This is <BOS> the law of gradualness not the g...  not_propaganda  \n",
              "2559  In it, Jews are described as: “arrogant,” “jea...      propaganda  \n",
              "\n",
              "[2560 rows x 3 columns]"
            ],
            "text/html": [
              "\n",
              "  <div id=\"df-8c68a246-23d5-4b1f-8e3e-71d4b0f3dcf6\" class=\"colab-df-container\">\n",
              "    <div>\n",
              "<style scoped>\n",
              "    .dataframe tbody tr th:only-of-type {\n",
              "        vertical-align: middle;\n",
              "    }\n",
              "\n",
              "    .dataframe tbody tr th {\n",
              "        vertical-align: top;\n",
              "    }\n",
              "\n",
              "    .dataframe thead th {\n",
              "        text-align: right;\n",
              "    }\n",
              "</style>\n",
              "<table border=\"1\" class=\"dataframe\">\n",
              "  <thead>\n",
              "    <tr style=\"text-align: right;\">\n",
              "      <th></th>\n",
              "      <th>label</th>\n",
              "      <th>tagged_in_context</th>\n",
              "      <th>binary_label</th>\n",
              "    </tr>\n",
              "  </thead>\n",
              "  <tbody>\n",
              "    <tr>\n",
              "      <th>0</th>\n",
              "      <td>not_propaganda</td>\n",
              "      <td>No, &lt;BOS&gt; he &lt;EOS&gt; will not be confirmed.</td>\n",
              "      <td>not_propaganda</td>\n",
              "    </tr>\n",
              "    <tr>\n",
              "      <th>1</th>\n",
              "      <td>not_propaganda</td>\n",
              "      <td>This declassification effort &lt;BOS&gt; won’t make ...</td>\n",
              "      <td>not_propaganda</td>\n",
              "    </tr>\n",
              "    <tr>\n",
              "      <th>2</th>\n",
              "      <td>flag_waving</td>\n",
              "      <td>\"The Obama administration misled the &lt;BOS&gt; Ame...</td>\n",
              "      <td>propaganda</td>\n",
              "    </tr>\n",
              "    <tr>\n",
              "      <th>3</th>\n",
              "      <td>not_propaganda</td>\n",
              "      <td>“It looks like we’re capturing the demise of t...</td>\n",
              "      <td>not_propaganda</td>\n",
              "    </tr>\n",
              "    <tr>\n",
              "      <th>4</th>\n",
              "      <td>not_propaganda</td>\n",
              "      <td>&lt;BOS&gt; Location: Westerville, Ohio &lt;EOS&gt;</td>\n",
              "      <td>not_propaganda</td>\n",
              "    </tr>\n",
              "    <tr>\n",
              "      <th>...</th>\n",
              "      <td>...</td>\n",
              "      <td>...</td>\n",
              "      <td>...</td>\n",
              "    </tr>\n",
              "    <tr>\n",
              "      <th>2555</th>\n",
              "      <td>not_propaganda</td>\n",
              "      <td>&lt;BOS&gt; We support and appreciate &lt;EOS&gt; your bus...</td>\n",
              "      <td>not_propaganda</td>\n",
              "    </tr>\n",
              "    <tr>\n",
              "      <th>2556</th>\n",
              "      <td>not_propaganda</td>\n",
              "      <td>International Atomic Energy Agency (IAEA) Dire...</td>\n",
              "      <td>not_propaganda</td>\n",
              "    </tr>\n",
              "    <tr>\n",
              "      <th>2557</th>\n",
              "      <td>not_propaganda</td>\n",
              "      <td>What has been done: there has been work on for...</td>\n",
              "      <td>not_propaganda</td>\n",
              "    </tr>\n",
              "    <tr>\n",
              "      <th>2558</th>\n",
              "      <td>not_propaganda</td>\n",
              "      <td>This is &lt;BOS&gt; the law of gradualness not the g...</td>\n",
              "      <td>not_propaganda</td>\n",
              "    </tr>\n",
              "    <tr>\n",
              "      <th>2559</th>\n",
              "      <td>name_calling,labeling</td>\n",
              "      <td>In it, Jews are described as: “arrogant,” “jea...</td>\n",
              "      <td>propaganda</td>\n",
              "    </tr>\n",
              "  </tbody>\n",
              "</table>\n",
              "<p>2560 rows × 3 columns</p>\n",
              "</div>\n",
              "    <div class=\"colab-df-buttons\">\n",
              "\n",
              "  <div class=\"colab-df-container\">\n",
              "    <button class=\"colab-df-convert\" onclick=\"convertToInteractive('df-8c68a246-23d5-4b1f-8e3e-71d4b0f3dcf6')\"\n",
              "            title=\"Convert this dataframe to an interactive table.\"\n",
              "            style=\"display:none;\">\n",
              "\n",
              "  <svg xmlns=\"http://www.w3.org/2000/svg\" height=\"24px\" viewBox=\"0 -960 960 960\">\n",
              "    <path d=\"M120-120v-720h720v720H120Zm60-500h600v-160H180v160Zm220 220h160v-160H400v160Zm0 220h160v-160H400v160ZM180-400h160v-160H180v160Zm440 0h160v-160H620v160ZM180-180h160v-160H180v160Zm440 0h160v-160H620v160Z\"/>\n",
              "  </svg>\n",
              "    </button>\n",
              "\n",
              "  <style>\n",
              "    .colab-df-container {\n",
              "      display:flex;\n",
              "      gap: 12px;\n",
              "    }\n",
              "\n",
              "    .colab-df-convert {\n",
              "      background-color: #E8F0FE;\n",
              "      border: none;\n",
              "      border-radius: 50%;\n",
              "      cursor: pointer;\n",
              "      display: none;\n",
              "      fill: #1967D2;\n",
              "      height: 32px;\n",
              "      padding: 0 0 0 0;\n",
              "      width: 32px;\n",
              "    }\n",
              "\n",
              "    .colab-df-convert:hover {\n",
              "      background-color: #E2EBFA;\n",
              "      box-shadow: 0px 1px 2px rgba(60, 64, 67, 0.3), 0px 1px 3px 1px rgba(60, 64, 67, 0.15);\n",
              "      fill: #174EA6;\n",
              "    }\n",
              "\n",
              "    .colab-df-buttons div {\n",
              "      margin-bottom: 4px;\n",
              "    }\n",
              "\n",
              "    [theme=dark] .colab-df-convert {\n",
              "      background-color: #3B4455;\n",
              "      fill: #D2E3FC;\n",
              "    }\n",
              "\n",
              "    [theme=dark] .colab-df-convert:hover {\n",
              "      background-color: #434B5C;\n",
              "      box-shadow: 0px 1px 3px 1px rgba(0, 0, 0, 0.15);\n",
              "      filter: drop-shadow(0px 1px 2px rgba(0, 0, 0, 0.3));\n",
              "      fill: #FFFFFF;\n",
              "    }\n",
              "  </style>\n",
              "\n",
              "    <script>\n",
              "      const buttonEl =\n",
              "        document.querySelector('#df-8c68a246-23d5-4b1f-8e3e-71d4b0f3dcf6 button.colab-df-convert');\n",
              "      buttonEl.style.display =\n",
              "        google.colab.kernel.accessAllowed ? 'block' : 'none';\n",
              "\n",
              "      async function convertToInteractive(key) {\n",
              "        const element = document.querySelector('#df-8c68a246-23d5-4b1f-8e3e-71d4b0f3dcf6');\n",
              "        const dataTable =\n",
              "          await google.colab.kernel.invokeFunction('convertToInteractive',\n",
              "                                                    [key], {});\n",
              "        if (!dataTable) return;\n",
              "\n",
              "        const docLinkHtml = 'Like what you see? Visit the ' +\n",
              "          '<a target=\"_blank\" href=https://colab.research.google.com/notebooks/data_table.ipynb>data table notebook</a>'\n",
              "          + ' to learn more about interactive tables.';\n",
              "        element.innerHTML = '';\n",
              "        dataTable['output_type'] = 'display_data';\n",
              "        await google.colab.output.renderOutput(dataTable, element);\n",
              "        const docLink = document.createElement('div');\n",
              "        docLink.innerHTML = docLinkHtml;\n",
              "        element.appendChild(docLink);\n",
              "      }\n",
              "    </script>\n",
              "  </div>\n",
              "\n",
              "\n",
              "<div id=\"df-3a33dd43-709e-42c3-864c-baa85bfddbf9\">\n",
              "  <button class=\"colab-df-quickchart\" onclick=\"quickchart('df-3a33dd43-709e-42c3-864c-baa85bfddbf9')\"\n",
              "            title=\"Suggest charts\"\n",
              "            style=\"display:none;\">\n",
              "\n",
              "<svg xmlns=\"http://www.w3.org/2000/svg\" height=\"24px\"viewBox=\"0 0 24 24\"\n",
              "     width=\"24px\">\n",
              "    <g>\n",
              "        <path d=\"M19 3H5c-1.1 0-2 .9-2 2v14c0 1.1.9 2 2 2h14c1.1 0 2-.9 2-2V5c0-1.1-.9-2-2-2zM9 17H7v-7h2v7zm4 0h-2V7h2v10zm4 0h-2v-4h2v4z\"/>\n",
              "    </g>\n",
              "</svg>\n",
              "  </button>\n",
              "\n",
              "<style>\n",
              "  .colab-df-quickchart {\n",
              "      --bg-color: #E8F0FE;\n",
              "      --fill-color: #1967D2;\n",
              "      --hover-bg-color: #E2EBFA;\n",
              "      --hover-fill-color: #174EA6;\n",
              "      --disabled-fill-color: #AAA;\n",
              "      --disabled-bg-color: #DDD;\n",
              "  }\n",
              "\n",
              "  [theme=dark] .colab-df-quickchart {\n",
              "      --bg-color: #3B4455;\n",
              "      --fill-color: #D2E3FC;\n",
              "      --hover-bg-color: #434B5C;\n",
              "      --hover-fill-color: #FFFFFF;\n",
              "      --disabled-bg-color: #3B4455;\n",
              "      --disabled-fill-color: #666;\n",
              "  }\n",
              "\n",
              "  .colab-df-quickchart {\n",
              "    background-color: var(--bg-color);\n",
              "    border: none;\n",
              "    border-radius: 50%;\n",
              "    cursor: pointer;\n",
              "    display: none;\n",
              "    fill: var(--fill-color);\n",
              "    height: 32px;\n",
              "    padding: 0;\n",
              "    width: 32px;\n",
              "  }\n",
              "\n",
              "  .colab-df-quickchart:hover {\n",
              "    background-color: var(--hover-bg-color);\n",
              "    box-shadow: 0 1px 2px rgba(60, 64, 67, 0.3), 0 1px 3px 1px rgba(60, 64, 67, 0.15);\n",
              "    fill: var(--button-hover-fill-color);\n",
              "  }\n",
              "\n",
              "  .colab-df-quickchart-complete:disabled,\n",
              "  .colab-df-quickchart-complete:disabled:hover {\n",
              "    background-color: var(--disabled-bg-color);\n",
              "    fill: var(--disabled-fill-color);\n",
              "    box-shadow: none;\n",
              "  }\n",
              "\n",
              "  .colab-df-spinner {\n",
              "    border: 2px solid var(--fill-color);\n",
              "    border-color: transparent;\n",
              "    border-bottom-color: var(--fill-color);\n",
              "    animation:\n",
              "      spin 1s steps(1) infinite;\n",
              "  }\n",
              "\n",
              "  @keyframes spin {\n",
              "    0% {\n",
              "      border-color: transparent;\n",
              "      border-bottom-color: var(--fill-color);\n",
              "      border-left-color: var(--fill-color);\n",
              "    }\n",
              "    20% {\n",
              "      border-color: transparent;\n",
              "      border-left-color: var(--fill-color);\n",
              "      border-top-color: var(--fill-color);\n",
              "    }\n",
              "    30% {\n",
              "      border-color: transparent;\n",
              "      border-left-color: var(--fill-color);\n",
              "      border-top-color: var(--fill-color);\n",
              "      border-right-color: var(--fill-color);\n",
              "    }\n",
              "    40% {\n",
              "      border-color: transparent;\n",
              "      border-right-color: var(--fill-color);\n",
              "      border-top-color: var(--fill-color);\n",
              "    }\n",
              "    60% {\n",
              "      border-color: transparent;\n",
              "      border-right-color: var(--fill-color);\n",
              "    }\n",
              "    80% {\n",
              "      border-color: transparent;\n",
              "      border-right-color: var(--fill-color);\n",
              "      border-bottom-color: var(--fill-color);\n",
              "    }\n",
              "    90% {\n",
              "      border-color: transparent;\n",
              "      border-bottom-color: var(--fill-color);\n",
              "    }\n",
              "  }\n",
              "</style>\n",
              "\n",
              "  <script>\n",
              "    async function quickchart(key) {\n",
              "      const quickchartButtonEl =\n",
              "        document.querySelector('#' + key + ' button');\n",
              "      quickchartButtonEl.disabled = true;  // To prevent multiple clicks.\n",
              "      quickchartButtonEl.classList.add('colab-df-spinner');\n",
              "      try {\n",
              "        const charts = await google.colab.kernel.invokeFunction(\n",
              "            'suggestCharts', [key], {});\n",
              "      } catch (error) {\n",
              "        console.error('Error during call to suggestCharts:', error);\n",
              "      }\n",
              "      quickchartButtonEl.classList.remove('colab-df-spinner');\n",
              "      quickchartButtonEl.classList.add('colab-df-quickchart-complete');\n",
              "    }\n",
              "    (() => {\n",
              "      let quickchartButtonEl =\n",
              "        document.querySelector('#df-3a33dd43-709e-42c3-864c-baa85bfddbf9 button');\n",
              "      quickchartButtonEl.style.display =\n",
              "        google.colab.kernel.accessAllowed ? 'block' : 'none';\n",
              "    })();\n",
              "  </script>\n",
              "</div>\n",
              "    </div>\n",
              "  </div>\n"
            ],
            "application/vnd.google.colaboratory.intrinsic+json": {
              "type": "dataframe",
              "variable_name": "df_train_input",
              "summary": "{\n  \"name\": \"df_train_input\",\n  \"rows\": 2560,\n  \"fields\": [\n    {\n      \"column\": \"label\",\n      \"properties\": {\n        \"dtype\": \"category\",\n        \"num_unique_values\": 9,\n        \"samples\": [\n          \"causal_oversimplification\",\n          \"flag_waving\",\n          \"appeal_to_fear_prejudice\"\n        ],\n        \"semantic_type\": \"\",\n        \"description\": \"\"\n      }\n    },\n    {\n      \"column\": \"tagged_in_context\",\n      \"properties\": {\n        \"dtype\": \"string\",\n        \"num_unique_values\": 2546,\n        \"samples\": [\n          \"Even though Senator Feinstein had the <BOS> letter in hand, she never <EOS> brought up the charge during the public hearing, nor during her own meeting with the judge. \",\n          \"Sessions is <BOS> a <EOS> weak sister. \",\n          \"Often, the American mainstream media becomes a de facto government employee, taking the claims of U.S. officials and reporting them as proven fact \\u2014 and nothing exemplifies this penchant better than reporting on the Gulf of Tonkin incident \\u2014 perhaps one of <BOS> most flagrant lies ever dreamed up <EOS> as a justification for war. \"\n        ],\n        \"semantic_type\": \"\",\n        \"description\": \"\"\n      }\n    },\n    {\n      \"column\": \"binary_label\",\n      \"properties\": {\n        \"dtype\": \"category\",\n        \"num_unique_values\": 2,\n        \"samples\": [\n          \"propaganda\",\n          \"not_propaganda\"\n        ],\n        \"semantic_type\": \"\",\n        \"description\": \"\"\n      }\n    }\n  ]\n}"
            }
          },
          "metadata": {},
          "execution_count": 11
        }
      ]
    },
    {
      "cell_type": "code",
      "source": [
        "import matplotlib.pyplot as plt\n",
        "\n",
        "fig, (ax1, ax2) = plt.subplots(1, 2, figsize=(16, 6))\n",
        "\n",
        "# Plot for training data\n",
        "df_train_input.groupby('label').count().plot(kind='bar', ax=ax1)\n",
        "ax1.set_xlabel('Label')\n",
        "ax1.set_ylabel('Count')\n",
        "ax1.set_title('Count of Labels (Training Data)')\n",
        "ax1.tick_params(axis='x', rotation=90)\n",
        "\n",
        "# Plot for validation data\n",
        "df_validation.groupby('label').count().plot(kind='bar', ax=ax2)\n",
        "ax2.set_xlabel('Label')\n",
        "ax2.set_ylabel('Count')\n",
        "ax2.set_title('Count of Labels (Validation Data)')\n",
        "ax2.tick_params(axis='x', rotation=90)\n",
        "\n",
        "plt.tight_layout()\n",
        "plt.show()"
      ],
      "metadata": {
        "colab": {
          "base_uri": "https://localhost:8080/",
          "height": 607
        },
        "id": "tGFl4yRq9zdG",
        "outputId": "31ad53a2-3449-476a-b1cd-2a562ddeac8f"
      },
      "id": "tGFl4yRq9zdG",
      "execution_count": 12,
      "outputs": [
        {
          "output_type": "display_data",
          "data": {
            "text/plain": [
              "<Figure size 1600x600 with 2 Axes>"
            ],
            "image/png": "[encoded data removed]"
          },
          "metadata": {}
        }
      ]
    },
    {
      "cell_type": "code",
      "source": [
        "df_train_input.groupby('binary_label').count()"
      ],
      "metadata": {
        "colab": {
          "base_uri": "https://localhost:8080/",
          "height": 143
        },
        "id": "I2dQZogV7zPp",
        "outputId": "6dfc6fe3-bbcd-422f-ad9a-e1c124075b18"
      },
      "id": "I2dQZogV7zPp",
      "execution_count": 13,
      "outputs": [
        {
          "output_type": "execute_result",
          "data": {
            "text/plain": [
              "                label  tagged_in_context\n",
              "binary_label                            \n",
              "not_propaganda   1269               1269\n",
              "propaganda       1291               1291"
            ],
            "text/html": [
              "\n",
              "  <div id=\"df-bd622b7a-7ea5-4d1d-8ca3-71fb2fbd8e37\" class=\"colab-df-container\">\n",
              "    <div>\n",
              "<style scoped>\n",
              "    .dataframe tbody tr th:only-of-type {\n",
              "        vertical-align: middle;\n",
              "    }\n",
              "\n",
              "    .dataframe tbody tr th {\n",
              "        vertical-align: top;\n",
              "    }\n",
              "\n",
              "    .dataframe thead th {\n",
              "        text-align: right;\n",
              "    }\n",
              "</style>\n",
              "<table border=\"1\" class=\"dataframe\">\n",
              "  <thead>\n",
              "    <tr style=\"text-align: right;\">\n",
              "      <th></th>\n",
              "      <th>label</th>\n",
              "      <th>tagged_in_context</th>\n",
              "    </tr>\n",
              "    <tr>\n",
              "      <th>binary_label</th>\n",
              "      <th></th>\n",
              "      <th></th>\n",
              "    </tr>\n",
              "  </thead>\n",
              "  <tbody>\n",
              "    <tr>\n",
              "      <th>not_propaganda</th>\n",
              "      <td>1269</td>\n",
              "      <td>1269</td>\n",
              "    </tr>\n",
              "    <tr>\n",
              "      <th>propaganda</th>\n",
              "      <td>1291</td>\n",
              "      <td>1291</td>\n",
              "    </tr>\n",
              "  </tbody>\n",
              "</table>\n",
              "</div>\n",
              "    <div class=\"colab-df-buttons\">\n",
              "\n",
              "  <div class=\"colab-df-container\">\n",
              "    <button class=\"colab-df-convert\" onclick=\"convertToInteractive('df-bd622b7a-7ea5-4d1d-8ca3-71fb2fbd8e37')\"\n",
              "            title=\"Convert this dataframe to an interactive table.\"\n",
              "            style=\"display:none;\">\n",
              "\n",
              "  <svg xmlns=\"http://www.w3.org/2000/svg\" height=\"24px\" viewBox=\"0 -960 960 960\">\n",
              "    <path d=\"M120-120v-720h720v720H120Zm60-500h600v-160H180v160Zm220 220h160v-160H400v160Zm0 220h160v-160H400v160ZM180-400h160v-160H180v160Zm440 0h160v-160H620v160ZM180-180h160v-160H180v160Zm440 0h160v-160H620v160Z\"/>\n",
              "  </svg>\n",
              "    </button>\n",
              "\n",
              "  <style>\n",
              "    .colab-df-container {\n",
              "      display:flex;\n",
              "      gap: 12px;\n",
              "    }\n",
              "\n",
              "    .colab-df-convert {\n",
              "      background-color: #E8F0FE;\n",
              "      border: none;\n",
              "      border-radius: 50%;\n",
              "      cursor: pointer;\n",
              "      display: none;\n",
              "      fill: #1967D2;\n",
              "      height: 32px;\n",
              "      padding: 0 0 0 0;\n",
              "      width: 32px;\n",
              "    }\n",
              "\n",
              "    .colab-df-convert:hover {\n",
              "      background-color: #E2EBFA;\n",
              "      box-shadow: 0px 1px 2px rgba(60, 64, 67, 0.3), 0px 1px 3px 1px rgba(60, 64, 67, 0.15);\n",
              "      fill: #174EA6;\n",
              "    }\n",
              "\n",
              "    .colab-df-buttons div {\n",
              "      margin-bottom: 4px;\n",
              "    }\n",
              "\n",
              "    [theme=dark] .colab-df-convert {\n",
              "      background-color: #3B4455;\n",
              "      fill: #D2E3FC;\n",
              "    }\n",
              "\n",
              "    [theme=dark] .colab-df-convert:hover {\n",
              "      background-color: #434B5C;\n",
              "      box-shadow: 0px 1px 3px 1px rgba(0, 0, 0, 0.15);\n",
              "      filter: drop-shadow(0px 1px 2px rgba(0, 0, 0, 0.3));\n",
              "      fill: #FFFFFF;\n",
              "    }\n",
              "  </style>\n",
              "\n",
              "    <script>\n",
              "      const buttonEl =\n",
              "        document.querySelector('#df-bd622b7a-7ea5-4d1d-8ca3-71fb2fbd8e37 button.colab-df-convert');\n",
              "      buttonEl.style.display =\n",
              "        google.colab.kernel.accessAllowed ? 'block' : 'none';\n",
              "\n",
              "      async function convertToInteractive(key) {\n",
              "        const element = document.querySelector('#df-bd622b7a-7ea5-4d1d-8ca3-71fb2fbd8e37');\n",
              "        const dataTable =\n",
              "          await google.colab.kernel.invokeFunction('convertToInteractive',\n",
              "                                                    [key], {});\n",
              "        if (!dataTable) return;\n",
              "\n",
              "        const docLinkHtml = 'Like what you see? Visit the ' +\n",
              "          '<a target=\"_blank\" href=https://colab.research.google.com/notebooks/data_table.ipynb>data table notebook</a>'\n",
              "          + ' to learn more about interactive tables.';\n",
              "        element.innerHTML = '';\n",
              "        dataTable['output_type'] = 'display_data';\n",
              "        await google.colab.output.renderOutput(dataTable, element);\n",
              "        const docLink = document.createElement('div');\n",
              "        docLink.innerHTML = docLinkHtml;\n",
              "        element.appendChild(docLink);\n",
              "      }\n",
              "    </script>\n",
              "  </div>\n",
              "\n",
              "\n",
              "<div id=\"df-db789d33-fd03-4d1e-b9c6-0994155e3209\">\n",
              "  <button class=\"colab-df-quickchart\" onclick=\"quickchart('df-db789d33-fd03-4d1e-b9c6-0994155e3209')\"\n",
              "            title=\"Suggest charts\"\n",
              "            style=\"display:none;\">\n",
              "\n",
              "<svg xmlns=\"http://www.w3.org/2000/svg\" height=\"24px\"viewBox=\"0 0 24 24\"\n",
              "     width=\"24px\">\n",
              "    <g>\n",
              "        <path d=\"M19 3H5c-1.1 0-2 .9-2 2v14c0 1.1.9 2 2 2h14c1.1 0 2-.9 2-2V5c0-1.1-.9-2-2-2zM9 17H7v-7h2v7zm4 0h-2V7h2v10zm4 0h-2v-4h2v4z\"/>\n",
              "    </g>\n",
              "</svg>\n",
              "  </button>\n",
              "\n",
              "<style>\n",
              "  .colab-df-quickchart {\n",
              "      --bg-color: #E8F0FE;\n",
              "      --fill-color: #1967D2;\n",
              "      --hover-bg-color: #E2EBFA;\n",
              "      --hover-fill-color: #174EA6;\n",
              "      --disabled-fill-color: #AAA;\n",
              "      --disabled-bg-color: #DDD;\n",
              "  }\n",
              "\n",
              "  [theme=dark] .colab-df-quickchart {\n",
              "      --bg-color: #3B4455;\n",
              "      --fill-color: #D2E3FC;\n",
              "      --hover-bg-color: #434B5C;\n",
              "      --hover-fill-color: #FFFFFF;\n",
              "      --disabled-bg-color: #3B4455;\n",
              "      --disabled-fill-color: #666;\n",
              "  }\n",
              "\n",
              "  .colab-df-quickchart {\n",
              "    background-color: var(--bg-color);\n",
              "    border: none;\n",
              "    border-radius: 50%;\n",
              "    cursor: pointer;\n",
              "    display: none;\n",
              "    fill: var(--fill-color);\n",
              "    height: 32px;\n",
              "    padding: 0;\n",
              "    width: 32px;\n",
              "  }\n",
              "\n",
              "  .colab-df-quickchart:hover {\n",
              "    background-color: var(--hover-bg-color);\n",
              "    box-shadow: 0 1px 2px rgba(60, 64, 67, 0.3), 0 1px 3px 1px rgba(60, 64, 67, 0.15);\n",
              "    fill: var(--button-hover-fill-color);\n",
              "  }\n",
              "\n",
              "  .colab-df-quickchart-complete:disabled,\n",
              "  .colab-df-quickchart-complete:disabled:hover {\n",
              "    background-color: var(--disabled-bg-color);\n",
              "    fill: var(--disabled-fill-color);\n",
              "    box-shadow: none;\n",
              "  }\n",
              "\n",
              "  .colab-df-spinner {\n",
              "    border: 2px solid var(--fill-color);\n",
              "    border-color: transparent;\n",
              "    border-bottom-color: var(--fill-color);\n",
              "    animation:\n",
              "      spin 1s steps(1) infinite;\n",
              "  }\n",
              "\n",
              "  @keyframes spin {\n",
              "    0% {\n",
              "      border-color: transparent;\n",
              "      border-bottom-color: var(--fill-color);\n",
              "      border-left-color: var(--fill-color);\n",
              "    }\n",
              "    20% {\n",
              "      border-color: transparent;\n",
              "      border-left-color: var(--fill-color);\n",
              "      border-top-color: var(--fill-color);\n",
              "    }\n",
              "    30% {\n",
              "      border-color: transparent;\n",
              "      border-left-color: var(--fill-color);\n",
              "      border-top-color: var(--fill-color);\n",
              "      border-right-color: var(--fill-color);\n",
              "    }\n",
              "    40% {\n",
              "      border-color: transparent;\n",
              "      border-right-color: var(--fill-color);\n",
              "      border-top-color: var(--fill-color);\n",
              "    }\n",
              "    60% {\n",
              "      border-color: transparent;\n",
              "      border-right-color: var(--fill-color);\n",
              "    }\n",
              "    80% {\n",
              "      border-color: transparent;\n",
              "      border-right-color: var(--fill-color);\n",
              "      border-bottom-color: var(--fill-color);\n",
              "    }\n",
              "    90% {\n",
              "      border-color: transparent;\n",
              "      border-bottom-color: var(--fill-color);\n",
              "    }\n",
              "  }\n",
              "</style>\n",
              "\n",
              "  <script>\n",
              "    async function quickchart(key) {\n",
              "      const quickchartButtonEl =\n",
              "        document.querySelector('#' + key + ' button');\n",
              "      quickchartButtonEl.disabled = true;  // To prevent multiple clicks.\n",
              "      quickchartButtonEl.classList.add('colab-df-spinner');\n",
              "      try {\n",
              "        const charts = await google.colab.kernel.invokeFunction(\n",
              "            'suggestCharts', [key], {});\n",
              "      } catch (error) {\n",
              "        console.error('Error during call to suggestCharts:', error);\n",
              "      }\n",
              "      quickchartButtonEl.classList.remove('colab-df-spinner');\n",
              "      quickchartButtonEl.classList.add('colab-df-quickchart-complete');\n",
              "    }\n",
              "    (() => {\n",
              "      let quickchartButtonEl =\n",
              "        document.querySelector('#df-db789d33-fd03-4d1e-b9c6-0994155e3209 button');\n",
              "      quickchartButtonEl.style.display =\n",
              "        google.colab.kernel.accessAllowed ? 'block' : 'none';\n",
              "    })();\n",
              "  </script>\n",
              "</div>\n",
              "    </div>\n",
              "  </div>\n"
            ],
            "application/vnd.google.colaboratory.intrinsic+json": {
              "type": "dataframe",
              "summary": "{\n  \"name\": \"df_train_input\",\n  \"rows\": 2,\n  \"fields\": [\n    {\n      \"column\": \"binary_label\",\n      \"properties\": {\n        \"dtype\": \"string\",\n        \"num_unique_values\": 2,\n        \"samples\": [\n          \"propaganda\",\n          \"not_propaganda\"\n        ],\n        \"semantic_type\": \"\",\n        \"description\": \"\"\n      }\n    },\n    {\n      \"column\": \"label\",\n      \"properties\": {\n        \"dtype\": \"number\",\n        \"std\": 15,\n        \"min\": 1269,\n        \"max\": 1291,\n        \"num_unique_values\": 2,\n        \"samples\": [\n          1291,\n          1269\n        ],\n        \"semantic_type\": \"\",\n        \"description\": \"\"\n      }\n    },\n    {\n      \"column\": \"tagged_in_context\",\n      \"properties\": {\n        \"dtype\": \"number\",\n        \"std\": 15,\n        \"min\": 1269,\n        \"max\": 1291,\n        \"num_unique_values\": 2,\n        \"samples\": [\n          1291,\n          1269\n        ],\n        \"semantic_type\": \"\",\n        \"description\": \"\"\n      }\n    }\n  ]\n}"
            }
          },
          "metadata": {},
          "execution_count": 13
        }
      ]
    },
    {
      "cell_type": "markdown",
      "source": [
        "Taking into account the binary classification Task 1, the training dataset is balanced. Since there are only two possible outcomes—\"propaganda\" or \"not_propaganda\"—we can only predict whether the text belongs to one of the two classes in this binary classification test. The dataset is balanced for multiclass classification Task 2 since we just need to predict the type of propaganda included in the text and take into account texts that contain propaganda. Hence, the dataset is balanced since we can eliminate the \"not_propaganda\" rows. The training dataset will now be divided into distinct train and test datasets by me. Twenty percent of the data that are currently in the training class will be included in the testing dataset.\n"
      ],
      "metadata": {
        "id": "9NOSaHZBzGJo"
      },
      "id": "9NOSaHZBzGJo"
    },
    {
      "cell_type": "code",
      "execution_count": 14,
      "id": "4e3b439b",
      "metadata": {
        "colab": {
          "base_uri": "https://localhost:8080/",
          "height": 424
        },
        "id": "4e3b439b",
        "outputId": "c49e0edf-82ce-4274-da91-2c96db7fcb0d"
      },
      "outputs": [
        {
          "output_type": "execute_result",
          "data": {
            "text/plain": [
              "                          label  \\\n",
              "354              not_propaganda   \n",
              "878              not_propaganda   \n",
              "2045             not_propaganda   \n",
              "2444                      doubt   \n",
              "2062             not_propaganda   \n",
              "...                         ...   \n",
              "2187      name_calling,labeling   \n",
              "2489             not_propaganda   \n",
              "1583             not_propaganda   \n",
              "1526  exaggeration,minimisation   \n",
              "1058             not_propaganda   \n",
              "\n",
              "                                      tagged_in_context    binary_label  \n",
              "354   “More than one third of Iran’s population is m...  not_propaganda  \n",
              "878   Those who argue for its abolition do not neces...  not_propaganda  \n",
              "2045  To thank him for his service, Campbell was pai...  not_propaganda  \n",
              "2444  <BOS> He didn’t provide any support for his cl...      propaganda  \n",
              "2062  “She knew this would have a huge effect <BOS> ...  not_propaganda  \n",
              "...                                                 ...             ...  \n",
              "2187  In obedience, strive to live out your priestho...      propaganda  \n",
              "2489  In a statement, Ellison thanked Ellingstad for...  not_propaganda  \n",
              "1583  Yore said that given the Church’s sex abuse cr...  not_propaganda  \n",
              "1526  Its pages, however, are readily available to t...      propaganda  \n",
              "1058  But the third <BOS> was a friend of someone an...  not_propaganda  \n",
              "\n",
              "[512 rows x 3 columns]"
            ],
            "text/html": [
              "\n",
              "  <div id=\"df-a0eca24e-4a37-4473-88f4-6598758eab6c\" class=\"colab-df-container\">\n",
              "    <div>\n",
              "<style scoped>\n",
              "    .dataframe tbody tr th:only-of-type {\n",
              "        vertical-align: middle;\n",
              "    }\n",
              "\n",
              "    .dataframe tbody tr th {\n",
              "        vertical-align: top;\n",
              "    }\n",
              "\n",
              "    .dataframe thead th {\n",
              "        text-align: right;\n",
              "    }\n",
              "</style>\n",
              "<table border=\"1\" class=\"dataframe\">\n",
              "  <thead>\n",
              "    <tr style=\"text-align: right;\">\n",
              "      <th></th>\n",
              "      <th>label</th>\n",
              "      <th>tagged_in_context</th>\n",
              "      <th>binary_label</th>\n",
              "    </tr>\n",
              "  </thead>\n",
              "  <tbody>\n",
              "    <tr>\n",
              "      <th>354</th>\n",
              "      <td>not_propaganda</td>\n",
              "      <td>“More than one third of Iran’s population is m...</td>\n",
              "      <td>not_propaganda</td>\n",
              "    </tr>\n",
              "    <tr>\n",
              "      <th>878</th>\n",
              "      <td>not_propaganda</td>\n",
              "      <td>Those who argue for its abolition do not neces...</td>\n",
              "      <td>not_propaganda</td>\n",
              "    </tr>\n",
              "    <tr>\n",
              "      <th>2045</th>\n",
              "      <td>not_propaganda</td>\n",
              "      <td>To thank him for his service, Campbell was pai...</td>\n",
              "      <td>not_propaganda</td>\n",
              "    </tr>\n",
              "    <tr>\n",
              "      <th>2444</th>\n",
              "      <td>doubt</td>\n",
              "      <td>&lt;BOS&gt; He didn’t provide any support for his cl...</td>\n",
              "      <td>propaganda</td>\n",
              "    </tr>\n",
              "    <tr>\n",
              "      <th>2062</th>\n",
              "      <td>not_propaganda</td>\n",
              "      <td>“She knew this would have a huge effect &lt;BOS&gt; ...</td>\n",
              "      <td>not_propaganda</td>\n",
              "    </tr>\n",
              "    <tr>\n",
              "      <th>...</th>\n",
              "      <td>...</td>\n",
              "      <td>...</td>\n",
              "      <td>...</td>\n",
              "    </tr>\n",
              "    <tr>\n",
              "      <th>2187</th>\n",
              "      <td>name_calling,labeling</td>\n",
              "      <td>In obedience, strive to live out your priestho...</td>\n",
              "      <td>propaganda</td>\n",
              "    </tr>\n",
              "    <tr>\n",
              "      <th>2489</th>\n",
              "      <td>not_propaganda</td>\n",
              "      <td>In a statement, Ellison thanked Ellingstad for...</td>\n",
              "      <td>not_propaganda</td>\n",
              "    </tr>\n",
              "    <tr>\n",
              "      <th>1583</th>\n",
              "      <td>not_propaganda</td>\n",
              "      <td>Yore said that given the Church’s sex abuse cr...</td>\n",
              "      <td>not_propaganda</td>\n",
              "    </tr>\n",
              "    <tr>\n",
              "      <th>1526</th>\n",
              "      <td>exaggeration,minimisation</td>\n",
              "      <td>Its pages, however, are readily available to t...</td>\n",
              "      <td>propaganda</td>\n",
              "    </tr>\n",
              "    <tr>\n",
              "      <th>1058</th>\n",
              "      <td>not_propaganda</td>\n",
              "      <td>But the third &lt;BOS&gt; was a friend of someone an...</td>\n",
              "      <td>not_propaganda</td>\n",
              "    </tr>\n",
              "  </tbody>\n",
              "</table>\n",
              "<p>512 rows × 3 columns</p>\n",
              "</div>\n",
              "    <div class=\"colab-df-buttons\">\n",
              "\n",
              "  <div class=\"colab-df-container\">\n",
              "    <button class=\"colab-df-convert\" onclick=\"convertToInteractive('df-a0eca24e-4a37-4473-88f4-6598758eab6c')\"\n",
              "            title=\"Convert this dataframe to an interactive table.\"\n",
              "            style=\"display:none;\">\n",
              "\n",
              "  <svg xmlns=\"http://www.w3.org/2000/svg\" height=\"24px\" viewBox=\"0 -960 960 960\">\n",
              "    <path d=\"M120-120v-720h720v720H120Zm60-500h600v-160H180v160Zm220 220h160v-160H400v160Zm0 220h160v-160H400v160ZM180-400h160v-160H180v160Zm440 0h160v-160H620v160ZM180-180h160v-160H180v160Zm440 0h160v-160H620v160Z\"/>\n",
              "  </svg>\n",
              "    </button>\n",
              "\n",
              "  <style>\n",
              "    .colab-df-container {\n",
              "      display:flex;\n",
              "      gap: 12px;\n",
              "    }\n",
              "\n",
              "    .colab-df-convert {\n",
              "      background-color: #E8F0FE;\n",
              "      border: none;\n",
              "      border-radius: 50%;\n",
              "      cursor: pointer;\n",
              "      display: none;\n",
              "      fill: #1967D2;\n",
              "      height: 32px;\n",
              "      padding: 0 0 0 0;\n",
              "      width: 32px;\n",
              "    }\n",
              "\n",
              "    .colab-df-convert:hover {\n",
              "      background-color: #E2EBFA;\n",
              "      box-shadow: 0px 1px 2px rgba(60, 64, 67, 0.3), 0px 1px 3px 1px rgba(60, 64, 67, 0.15);\n",
              "      fill: #174EA6;\n",
              "    }\n",
              "\n",
              "    .colab-df-buttons div {\n",
              "      margin-bottom: 4px;\n",
              "    }\n",
              "\n",
              "    [theme=dark] .colab-df-convert {\n",
              "      background-color: #3B4455;\n",
              "      fill: #D2E3FC;\n",
              "    }\n",
              "\n",
              "    [theme=dark] .colab-df-convert:hover {\n",
              "      background-color: #434B5C;\n",
              "      box-shadow: 0px 1px 3px 1px rgba(0, 0, 0, 0.15);\n",
              "      filter: drop-shadow(0px 1px 2px rgba(0, 0, 0, 0.3));\n",
              "      fill: #FFFFFF;\n",
              "    }\n",
              "  </style>\n",
              "\n",
              "    <script>\n",
              "      const buttonEl =\n",
              "        document.querySelector('#df-a0eca24e-4a37-4473-88f4-6598758eab6c button.colab-df-convert');\n",
              "      buttonEl.style.display =\n",
              "        google.colab.kernel.accessAllowed ? 'block' : 'none';\n",
              "\n",
              "      async function convertToInteractive(key) {\n",
              "        const element = document.querySelector('#df-a0eca24e-4a37-4473-88f4-6598758eab6c');\n",
              "        const dataTable =\n",
              "          await google.colab.kernel.invokeFunction('convertToInteractive',\n",
              "                                                    [key], {});\n",
              "        if (!dataTable) return;\n",
              "\n",
              "        const docLinkHtml = 'Like what you see? Visit the ' +\n",
              "          '<a target=\"_blank\" href=https://colab.research.google.com/notebooks/data_table.ipynb>data table notebook</a>'\n",
              "          + ' to learn more about interactive tables.';\n",
              "        element.innerHTML = '';\n",
              "        dataTable['output_type'] = 'display_data';\n",
              "        await google.colab.output.renderOutput(dataTable, element);\n",
              "        const docLink = document.createElement('div');\n",
              "        docLink.innerHTML = docLinkHtml;\n",
              "        element.appendChild(docLink);\n",
              "      }\n",
              "    </script>\n",
              "  </div>\n",
              "\n",
              "\n",
              "<div id=\"df-fa00f192-e43a-4b0c-9f2a-2c1808d6ab13\">\n",
              "  <button class=\"colab-df-quickchart\" onclick=\"quickchart('df-fa00f192-e43a-4b0c-9f2a-2c1808d6ab13')\"\n",
              "            title=\"Suggest charts\"\n",
              "            style=\"display:none;\">\n",
              "\n",
              "<svg xmlns=\"http://www.w3.org/2000/svg\" height=\"24px\"viewBox=\"0 0 24 24\"\n",
              "     width=\"24px\">\n",
              "    <g>\n",
              "        <path d=\"M19 3H5c-1.1 0-2 .9-2 2v14c0 1.1.9 2 2 2h14c1.1 0 2-.9 2-2V5c0-1.1-.9-2-2-2zM9 17H7v-7h2v7zm4 0h-2V7h2v10zm4 0h-2v-4h2v4z\"/>\n",
              "    </g>\n",
              "</svg>\n",
              "  </button>\n",
              "\n",
              "<style>\n",
              "  .colab-df-quickchart {\n",
              "      --bg-color: #E8F0FE;\n",
              "      --fill-color: #1967D2;\n",
              "      --hover-bg-color: #E2EBFA;\n",
              "      --hover-fill-color: #174EA6;\n",
              "      --disabled-fill-color: #AAA;\n",
              "      --disabled-bg-color: #DDD;\n",
              "  }\n",
              "\n",
              "  [theme=dark] .colab-df-quickchart {\n",
              "      --bg-color: #3B4455;\n",
              "      --fill-color: #D2E3FC;\n",
              "      --hover-bg-color: #434B5C;\n",
              "      --hover-fill-color: #FFFFFF;\n",
              "      --disabled-bg-color: #3B4455;\n",
              "      --disabled-fill-color: #666;\n",
              "  }\n",
              "\n",
              "  .colab-df-quickchart {\n",
              "    background-color: var(--bg-color);\n",
              "    border: none;\n",
              "    border-radius: 50%;\n",
              "    cursor: pointer;\n",
              "    display: none;\n",
              "    fill: var(--fill-color);\n",
              "    height: 32px;\n",
              "    padding: 0;\n",
              "    width: 32px;\n",
              "  }\n",
              "\n",
              "  .colab-df-quickchart:hover {\n",
              "    background-color: var(--hover-bg-color);\n",
              "    box-shadow: 0 1px 2px rgba(60, 64, 67, 0.3), 0 1px 3px 1px rgba(60, 64, 67, 0.15);\n",
              "    fill: var(--button-hover-fill-color);\n",
              "  }\n",
              "\n",
              "  .colab-df-quickchart-complete:disabled,\n",
              "  .colab-df-quickchart-complete:disabled:hover {\n",
              "    background-color: var(--disabled-bg-color);\n",
              "    fill: var(--disabled-fill-color);\n",
              "    box-shadow: none;\n",
              "  }\n",
              "\n",
              "  .colab-df-spinner {\n",
              "    border: 2px solid var(--fill-color);\n",
              "    border-color: transparent;\n",
              "    border-bottom-color: var(--fill-color);\n",
              "    animation:\n",
              "      spin 1s steps(1) infinite;\n",
              "  }\n",
              "\n",
              "  @keyframes spin {\n",
              "    0% {\n",
              "      border-color: transparent;\n",
              "      border-bottom-color: var(--fill-color);\n",
              "      border-left-color: var(--fill-color);\n",
              "    }\n",
              "    20% {\n",
              "      border-color: transparent;\n",
              "      border-left-color: var(--fill-color);\n",
              "      border-top-color: var(--fill-color);\n",
              "    }\n",
              "    30% {\n",
              "      border-color: transparent;\n",
              "      border-left-color: var(--fill-color);\n",
              "      border-top-color: var(--fill-color);\n",
              "      border-right-color: var(--fill-color);\n",
              "    }\n",
              "    40% {\n",
              "      border-color: transparent;\n",
              "      border-right-color: var(--fill-color);\n",
              "      border-top-color: var(--fill-color);\n",
              "    }\n",
              "    60% {\n",
              "      border-color: transparent;\n",
              "      border-right-color: var(--fill-color);\n",
              "    }\n",
              "    80% {\n",
              "      border-color: transparent;\n",
              "      border-right-color: var(--fill-color);\n",
              "      border-bottom-color: var(--fill-color);\n",
              "    }\n",
              "    90% {\n",
              "      border-color: transparent;\n",
              "      border-bottom-color: var(--fill-color);\n",
              "    }\n",
              "  }\n",
              "</style>\n",
              "\n",
              "  <script>\n",
              "    async function quickchart(key) {\n",
              "      const quickchartButtonEl =\n",
              "        document.querySelector('#' + key + ' button');\n",
              "      quickchartButtonEl.disabled = true;  // To prevent multiple clicks.\n",
              "      quickchartButtonEl.classList.add('colab-df-spinner');\n",
              "      try {\n",
              "        const charts = await google.colab.kernel.invokeFunction(\n",
              "            'suggestCharts', [key], {});\n",
              "      } catch (error) {\n",
              "        console.error('Error during call to suggestCharts:', error);\n",
              "      }\n",
              "      quickchartButtonEl.classList.remove('colab-df-spinner');\n",
              "      quickchartButtonEl.classList.add('colab-df-quickchart-complete');\n",
              "    }\n",
              "    (() => {\n",
              "      let quickchartButtonEl =\n",
              "        document.querySelector('#df-fa00f192-e43a-4b0c-9f2a-2c1808d6ab13 button');\n",
              "      quickchartButtonEl.style.display =\n",
              "        google.colab.kernel.accessAllowed ? 'block' : 'none';\n",
              "    })();\n",
              "  </script>\n",
              "</div>\n",
              "    </div>\n",
              "  </div>\n"
            ],
            "application/vnd.google.colaboratory.intrinsic+json": {
              "type": "dataframe",
              "variable_name": "df_test",
              "summary": "{\n  \"name\": \"df_test\",\n  \"rows\": 512,\n  \"fields\": [\n    {\n      \"column\": \"label\",\n      \"properties\": {\n        \"dtype\": \"category\",\n        \"num_unique_values\": 9,\n        \"samples\": [\n          \"name_calling,labeling\",\n          \"doubt\",\n          \"causal_oversimplification\"\n        ],\n        \"semantic_type\": \"\",\n        \"description\": \"\"\n      }\n    },\n    {\n      \"column\": \"tagged_in_context\",\n      \"properties\": {\n        \"dtype\": \"string\",\n        \"num_unique_values\": 512,\n        \"samples\": [\n          \"Whosoever shall shed man\\u2019s blood, his blood shall be shed: for man was made to the image of God.\\u201d In other words, <BOS> from that point in history lawful killing in atonement for taking the life of another is sanctioned by God <EOS>. \",\n          \"For example, as Stephen Coughlin has revealed, the \\u201c<BOS> violent extremists <EOS>\\u201d the administration is clearly worried about are the \\u201cright-wing Islamophobes\\u201d whom the administration obviously considers to be the real threat to American security. \",\n          \"Saucier says that that action was \\u201cunfair\\u201d and \\u201cunequal\\u201d compared to the <BOS> corruption and <EOS> criminal activity of Hillary Clinton. \"\n        ],\n        \"semantic_type\": \"\",\n        \"description\": \"\"\n      }\n    },\n    {\n      \"column\": \"binary_label\",\n      \"properties\": {\n        \"dtype\": \"category\",\n        \"num_unique_values\": 2,\n        \"samples\": [\n          \"propaganda\",\n          \"not_propaganda\"\n        ],\n        \"semantic_type\": \"\",\n        \"description\": \"\"\n      }\n    }\n  ]\n}"
            }
          },
          "metadata": {},
          "execution_count": 14
        }
      ],
      "source": [
        "#Split the data into train and test sets.\n",
        "df_train, df_test = train_test_split(df_train_input, test_size=0.2, random_state=seed)\n",
        "df_test"
      ]
    },
    {
      "cell_type": "markdown",
      "id": "576273f6",
      "metadata": {
        "id": "576273f6"
      },
      "source": [
        "# **Task 1 - Binary Classification**"
      ]
    },
    {
      "cell_type": "code",
      "execution_count": 15,
      "id": "20fmj69qLxz_",
      "metadata": {
        "id": "20fmj69qLxz_"
      },
      "outputs": [],
      "source": [
        "#Select the required columns\n",
        "df_train_binary_classification = df_train[['tagged_in_context', 'binary_label']].copy()\n",
        "df_test_binary_classification = df_test[['tagged_in_context', 'binary_label']].copy()\n",
        "df_validation_binary_classification = df_validation[['tagged_in_context', 'binary_label']].copy()"
      ]
    },
    {
      "cell_type": "code",
      "execution_count": 16,
      "id": "49be92c6",
      "metadata": {
        "colab": {
          "base_uri": "https://localhost:8080/"
        },
        "id": "49be92c6",
        "outputId": "e5a10ceb-fca2-492d-f7d7-85cac250b814"
      },
      "outputs": [
        {
          "output_type": "execute_result",
          "data": {
            "text/plain": [
              "{'not_propaganda': 0, 'propaganda': 1}"
            ]
          },
          "metadata": {},
          "execution_count": 16
        }
      ],
      "source": [
        "#Binary Classification labels\n",
        "binary_labels = {label:i for i,label in enumerate(df_train_binary_classification['binary_label'].sort_values().unique().tolist())}\n",
        "binary_labels"
      ]
    },
    {
      "cell_type": "code",
      "execution_count": 17,
      "id": "c63740b1",
      "metadata": {
        "colab": {
          "base_uri": "https://localhost:8080/"
        },
        "id": "c63740b1",
        "outputId": "9b214101-02f3-433a-d3ce-562b5fbcfc60"
      },
      "outputs": [
        {
          "output_type": "execute_result",
          "data": {
            "text/plain": [
              "{0: 'not_propaganda', 1: 'propaganda'}"
            ]
          },
          "metadata": {},
          "execution_count": 17
        }
      ],
      "source": [
        "#Build a reverse index dictionary for easy lookup.\n",
        "reverse_index_binary_label ={v:k for (k,v) in binary_labels.items()}\n",
        "reverse_index_binary_label"
      ]
    },
    {
      "cell_type": "markdown",
      "source": [
        "# **1.1 Bag of words classifier**"
      ],
      "metadata": {
        "id": "euTeMwvXGTdV"
      },
      "id": "euTeMwvXGTdV"
    },
    {
      "cell_type": "code",
      "source": [
        "import pandas as pd\n",
        "from sklearn.feature_extraction.text import CountVectorizer\n",
        "from sklearn.model_selection import train_test_split\n",
        "from sklearn.linear_model import LogisticRegression\n",
        "from sklearn.metrics import accuracy_score, classification_report\n",
        "\n",
        "\n",
        "# Initialize CountVectorizer\n",
        "vectorizer = CountVectorizer()\n",
        "# Tokenize the text\n",
        "x_train = vectorizer.fit_transform(df_train_input['tagged_in_context'])\n",
        "y_train = df_train_input['binary_label']\n",
        "x_test = vectorizer.transform(df_validation['tagged_in_context'])\n",
        "y_test = df_validation['binary_label']\n",
        "\n",
        "\n",
        "# Choose a binary classifier algorithm\n",
        "classifier = LogisticRegression(max_iter=1000)\n",
        "\n",
        "# Train the classifier\n",
        "classifier.fit(x_train, y_train)\n",
        "\n",
        "# Evaluate the classifier\n",
        "y_pred = classifier.predict(x_test)\n",
        "\n",
        "# Report the accuracy and other metrics\n",
        "accuracy = accuracy_score(y_test, y_pred)\n",
        "report = classification_report(y_test, y_pred)\n",
        "\n",
        "print(\"Accuracy:\", accuracy)\n",
        "print(\"Classification Report:\")\n",
        "print(report)"
      ],
      "metadata": {
        "colab": {
          "base_uri": "https://localhost:8080/"
        },
        "id": "AJ6UoE0cEYvD",
        "outputId": "ecb7c3a1-094d-4803-b77b-511013f568d5"
      },
      "id": "AJ6UoE0cEYvD",
      "execution_count": 18,
      "outputs": [
        {
          "output_type": "stream",
          "name": "stdout",
          "text": [
            "Accuracy: 0.725\n",
            "Classification Report:\n",
            "                precision    recall  f1-score   support\n",
            "\n",
            "not_propaganda       0.71      0.78      0.75       331\n",
            "    propaganda       0.74      0.66      0.70       309\n",
            "\n",
            "      accuracy                           0.73       640\n",
            "     macro avg       0.73      0.72      0.72       640\n",
            "  weighted avg       0.73      0.72      0.72       640\n",
            "\n"
          ]
        }
      ]
    },
    {
      "cell_type": "markdown",
      "source": [
        "## **1.1.1 Hypertuning bag of words classifer**"
      ],
      "metadata": {
        "id": "FMk_iJ7bGHAz"
      },
      "id": "FMk_iJ7bGHAz"
    },
    {
      "cell_type": "code",
      "source": [
        "from sklearn.model_selection import train_test_split, RandomizedSearchCV\n",
        "from scipy.stats import uniform\n",
        "from sklearn.exceptions import ConvergenceWarning\n",
        "import warnings\n",
        "\n",
        "#Define the hyperparameter distribution\n",
        "param_dist = {\n",
        "    'C': uniform(loc=0.1, scale=10),\n",
        "    'solver': ['liblinear', 'saga'],\n",
        "    'penalty': ['l1', 'l2']\n",
        "}\n",
        "\n",
        "# Suppress the ConvergenceWarning\n",
        "warnings.filterwarnings(\"ignore\", category=ConvergenceWarning)\n",
        "\n",
        "# Perform randomized search\n",
        "random_search = RandomizedSearchCV(LogisticRegression(max_iter=1000), param_distributions=param_dist, n_iter=10, cv=5, scoring='accuracy', random_state=42)\n",
        "random_search.fit(x_train, y_train)\n",
        "\n",
        "# Get the best model and its parameters\n",
        "best_model = random_search.best_estimator_\n",
        "best_params = random_search.best_params_\n",
        "print(\"Best Parameters:\", best_params)\n",
        "\n",
        "# Evaluate the best model\n",
        "y_pred = best_model.predict(x_test)\n",
        "\n",
        "# Report the accuracy and other metrics\n",
        "accuracy = accuracy_score(y_test, y_pred)\n",
        "report = classification_report(y_test, y_pred)\n",
        "print(\"Accuracy:\", accuracy)\n",
        "print(\"Classification Report:\")\n",
        "print(report)"
      ],
      "metadata": {
        "colab": {
          "base_uri": "https://localhost:8080/"
        },
        "id": "g52dcblHEmap",
        "outputId": "2dc4186c-2174-4256-ad0b-b12fd6ec0cdc"
      },
      "id": "g52dcblHEmap",
      "execution_count": 19,
      "outputs": [
        {
          "output_type": "stream",
          "name": "stdout",
          "text": [
            "Best Parameters: {'C': 0.30584494295802445, 'penalty': 'l2', 'solver': 'saga'}\n",
            "Accuracy: 0.7359375\n",
            "Classification Report:\n",
            "                precision    recall  f1-score   support\n",
            "\n",
            "not_propaganda       0.72      0.80      0.76       331\n",
            "    propaganda       0.76      0.66      0.71       309\n",
            "\n",
            "      accuracy                           0.74       640\n",
            "     macro avg       0.74      0.73      0.73       640\n",
            "  weighted avg       0.74      0.74      0.73       640\n",
            "\n"
          ]
        }
      ]
    },
    {
      "cell_type": "markdown",
      "id": "RdG0bIbkBJE8",
      "metadata": {
        "id": "RdG0bIbkBJE8"
      },
      "source": [
        "## **1.2 GloVe Classifier**\n",
        "\n"
      ]
    },
    {
      "cell_type": "code",
      "execution_count": 20,
      "id": "u359B--6IXPR",
      "metadata": {
        "colab": {
          "base_uri": "https://localhost:8080/"
        },
        "id": "u359B--6IXPR",
        "outputId": "f6d4ea97-6038-4301-d746-09a1b324059a"
      },
      "outputs": [
        {
          "output_type": "stream",
          "name": "stdout",
          "text": [
            "['fasttext-wiki-news-subwords-300', 'conceptnet-numberbatch-17-06-300', 'word2vec-ruscorpora-300', 'word2vec-google-news-300', 'glove-wiki-gigaword-50', 'glove-wiki-gigaword-100', 'glove-wiki-gigaword-200', 'glove-wiki-gigaword-300', 'glove-twitter-25', 'glove-twitter-50', 'glove-twitter-100', 'glove-twitter-200', '__testing_word2vec-matrix-synopsis']\n"
          ]
        }
      ],
      "source": [
        "#Print out the list of pre-trained glove/word2vec embeddings.\n",
        "print(list(gensim.downloader.info()['models'].keys()))"
      ]
    },
    {
      "cell_type": "code",
      "execution_count": 21,
      "id": "jB2QOknNItuO",
      "metadata": {
        "colab": {
          "base_uri": "https://localhost:8080/"
        },
        "id": "jB2QOknNItuO",
        "outputId": "a88ec75c-9135-4fd8-82df-6a2bd00e623a"
      },
      "outputs": [
        {
          "output_type": "stream",
          "name": "stdout",
          "text": [
            "[==================================================] 100.0% 376.1/376.1MB downloaded\n"
          ]
        }
      ],
      "source": [
        "wv = api.load('glove-wiki-gigaword-300')"
      ]
    },
    {
      "cell_type": "code",
      "execution_count": 22,
      "id": "36e2cc13",
      "metadata": {
        "id": "36e2cc13"
      },
      "outputs": [],
      "source": [
        "#If the code throws an error due to the 'en_core_web_sm' package being unavailable on your system/Google Colab, uncomment this code and run\n",
        "#!python -m spacy download en_core_web_sm"
      ]
    },
    {
      "cell_type": "code",
      "execution_count": 23,
      "id": "UoxIyFF_Q4i5",
      "metadata": {
        "id": "UoxIyFF_Q4i5"
      },
      "outputs": [],
      "source": [
        "nlp = spacy.load(\"en_core_web_sm\")\n",
        "stop_words = nlp.Defaults.stop_words\n",
        "punctuations = string.punctuation\n",
        "\n",
        "\n",
        "def sentenceVector(sentence):\n",
        "    \"\"\"\n",
        "    This is a function to loop over every word in a given sentence and find out the vector representation of the word\n",
        "    in the glove-wiki-gigaword-300 pre-trained vector.\n",
        "\n",
        "    Input Parameters:\n",
        "    sentence: A list of words in a given sentence\n",
        "\n",
        "    Output Parameters:\n",
        "    vectorResult: The vector representation of the string.\n",
        "    \"\"\"\n",
        "    vectorSize = wv.vector_size\n",
        "    vectorResult = np.zeros(vectorSize)\n",
        "    counter = 1\n",
        "    for word in sentence:\n",
        "        if word in wv:\n",
        "            counter += 1\n",
        "            vectorResult += wv[word]\n",
        "    vectorResult = vectorResult / counter\n",
        "    return vectorResult\n",
        "\n",
        "def spacyTokenizer(sentence):\n",
        "    \"\"\"\n",
        "    This is a function to tokenize the words in a given sentence by using the pre-trained 'en_core_web_sm' model,\n",
        "    lemmatize each token and filter out the stopwords and punctuations in the sentence.\n",
        "\n",
        "    Input Parameters:\n",
        "    sentence: A list of words or a string contained a list of words\n",
        "\n",
        "    Output Parameters:\n",
        "    filteredTokens: Tokenized, lemmatized and filtered list of tokens.\n",
        "    \"\"\"\n",
        "    # Load the pre-trained spaCy model\n",
        "    doc = nlp(sentence)\n",
        "\n",
        "    # Lemmatize each token and convert each token into lowercase\n",
        "    lemmatizedTokens = [word.lemma_.lower().strip() for word in doc]\n",
        "\n",
        "    # Remove stop words and punctuations\n",
        "    filteredTokens = [word for word in lemmatizedTokens if word not in stop_words and word not in punctuations]\n",
        "\n",
        "    # Return preprocessed list of tokens\n",
        "    return filteredTokens"
      ]
    },
    {
      "cell_type": "code",
      "source": [
        "import torch\n",
        "import torch.nn as nn\n",
        "from torch.optim import Adam\n",
        "from tqdm import tqdm\n",
        "from sklearn.metrics import classification_report\n",
        "\n",
        "class GloveEmbeddedBinaryDataset(torch.utils.data.Dataset):\n",
        "    \"\"\"\n",
        "    This class defines a Dataset that will be used to load the prepare the data for training, validation and testing\n",
        "    \"\"\"\n",
        "    def __init__(self, df, label_dict, column='tagged_in_context'):\n",
        "        self.labels = df['binary_label'].map(label_dict).values\n",
        "        self.texts = [torch.from_numpy(np.array(sentenceVector(spacyTokenizer(text))).astype(np.float32)) for text in df[column]]\n",
        "\n",
        "    def __len__(self):\n",
        "        return len(self.labels)\n",
        "\n",
        "    def __getitem__(self, idx):\n",
        "        return self.texts[idx], self.labels[idx]\n",
        "# defining the neural network architecture\n",
        "class BinaryClassifierNet(nn.Module):\n",
        "    def __init__(self, input_size, hidden_size, output_size):\n",
        "        super(BinaryClassifierNet, self).__init__()\n",
        "        self.fc = nn.Sequential(\n",
        "            nn.Linear(input_size, hidden_size),\n",
        "            nn.ReLU(),\n",
        "            nn.Dropout(0.3),\n",
        "            nn.Linear(hidden_size, output_size)\n",
        "        )\n",
        "\n",
        "    def forward(self, x):\n",
        "        return self.fc(x)\n",
        "# Adapted code from AdvNlp lab week 10 solutions notebook\n",
        "def train_GloveBinaryClassifier(model, train_data, val_data, learning_rate, epochs):\n",
        "    train_dataloader = torch.utils.data.DataLoader(train_data, batch_size=2, shuffle=True)\n",
        "    val_dataloader = torch.utils.data.DataLoader(val_data, batch_size=2)\n",
        "    device = torch.device(\"cuda\" if torch.cuda.is_available() else \"cpu\")\n",
        "    criterion = nn.CrossEntropyLoss()\n",
        "    optimizer = Adam(model.parameters(), lr=learning_rate)\n",
        "\n",
        "    model = model.to(device)\n",
        "    criterion = criterion.to(device)\n",
        "\n",
        "    for epoch_num in range(epochs):\n",
        "        total_acc_train = 0\n",
        "        total_loss_train = 0\n",
        "        model.train()\n",
        "\n",
        "        for train_input, train_label in tqdm(train_dataloader):\n",
        "            train_input, train_label = train_input.to(device), train_label.to(device)\n",
        "            output = model(train_input)\n",
        "            batch_loss = criterion(output, train_label.long())\n",
        "            total_loss_train += batch_loss.item()\n",
        "            acc = (output.argmax(dim=1) == train_label).sum().item()\n",
        "            total_acc_train += acc\n",
        "\n",
        "            optimizer.zero_grad()\n",
        "            batch_loss.backward()\n",
        "            optimizer.step()\n",
        "\n",
        "        total_acc_val = 0\n",
        "        total_loss_val = 0\n",
        "        model.eval()\n",
        "\n",
        "        with torch.no_grad():\n",
        "            for val_input, val_label in val_dataloader:\n",
        "                val_input, val_label = val_input.to(device), val_label.to(device)\n",
        "                output = model(val_input)\n",
        "                batch_loss = criterion(output, val_label.long())\n",
        "                total_loss_val += batch_loss.item()\n",
        "                acc = (output.argmax(dim=1) == val_label).sum().item()\n",
        "                total_acc_val += acc\n",
        "\n",
        "        print(f'Epochs: {epoch_num+1} | Train Loss: {total_loss_train / len(train_data):.3f} | Train Accuracy: {total_acc_train / len(train_data):.3f}')\n",
        "        print(f'Val Loss: {total_loss_val / len(val_data):.3f} | Val Accuracy: {total_acc_val / len(val_data):.3f}')\n",
        "# Adapted code from AdvNlp lab week 10 solutions notebook\n",
        "def evaluate_GloveBinaryClassifier(model, test_dataset, batchsize=4):\n",
        "    model.eval()\n",
        "    test_dataloader = torch.utils.data.DataLoader(test_dataset, batch_size=batchsize)\n",
        "    device = torch.device(\"cuda\" if torch.cuda.is_available() else \"cpu\")\n",
        "    model = model.to(device)\n",
        "\n",
        "    total_acc_test = 0\n",
        "    predictions = []\n",
        "\n",
        "    with torch.no_grad():\n",
        "        for test_input, test_label in tqdm(test_dataloader):\n",
        "            test_input, test_label = test_input.to(device), test_label.to(device)\n",
        "            output = model(test_input)\n",
        "            predictions.extend(output.argmax(dim=1).tolist())\n",
        "            acc = (output.argmax(dim=1) == test_label).sum().item()\n",
        "            total_acc_test += acc\n",
        "\n",
        "    print(f'Test Accuracy: {total_acc_test / len(test_dataset):.3f}')\n",
        "    return predictions, total_acc_test / len(test_dataset)\n",
        "\n",
        "# Load the training, validation, and testing datasets\n",
        "glove_binary_training_df = GloveEmbeddedBinaryDataset(df_train_binary_classification, binary_labels)\n",
        "glove_binary_testing_df = GloveEmbeddedBinaryDataset(df_test_binary_classification, binary_labels)\n",
        "glove_binary_validation_df = GloveEmbeddedBinaryDataset(df_validation_binary_classification, binary_labels)\n",
        "\n",
        "# Create a GloVe Binary text classification model for propaganda detection\n",
        "INPUT_SIZE = 300\n",
        "HIDDEN_SIZE = 150\n",
        "OUTPUT_SIZE = 2\n",
        "gloveBinaryClassifier = BinaryClassifierNet(INPUT_SIZE, HIDDEN_SIZE, OUTPUT_SIZE)\n",
        "\n",
        "# Train the GloveBinaryClassifier\n",
        "EPOCHS = 5\n",
        "LR = 1e-04\n",
        "train_GloveBinaryClassifier(gloveBinaryClassifier, glove_binary_training_df, glove_binary_validation_df, LR, EPOCHS)"
      ],
      "metadata": {
        "colab": {
          "base_uri": "https://localhost:8080/"
        },
        "id": "ozkyng6RhiqL",
        "outputId": "dd20c67a-c30c-4b43-bd29-0d30aa4cc32d"
      },
      "id": "ozkyng6RhiqL",
      "execution_count": 25,
      "outputs": [
        {
          "output_type": "stream",
          "name": "stderr",
          "text": [
            "100%|██████████| 1024/1024 [00:03<00:00, 325.19it/s]\n"
          ]
        },
        {
          "output_type": "stream",
          "name": "stdout",
          "text": [
            "Epochs: 1 | Train Loss: 0.328 | Train Accuracy: 0.655\n",
            "Val Loss: 0.312 | Val Accuracy: 0.691\n"
          ]
        },
        {
          "output_type": "stream",
          "name": "stderr",
          "text": [
            "100%|██████████| 1024/1024 [00:01<00:00, 516.97it/s]\n"
          ]
        },
        {
          "output_type": "stream",
          "name": "stdout",
          "text": [
            "Epochs: 2 | Train Loss: 0.291 | Train Accuracy: 0.718\n",
            "Val Loss: 0.292 | Val Accuracy: 0.706\n"
          ]
        },
        {
          "output_type": "stream",
          "name": "stderr",
          "text": [
            "100%|██████████| 1024/1024 [00:02<00:00, 468.43it/s]\n"
          ]
        },
        {
          "output_type": "stream",
          "name": "stdout",
          "text": [
            "Epochs: 3 | Train Loss: 0.272 | Train Accuracy: 0.730\n",
            "Val Loss: 0.287 | Val Accuracy: 0.706\n"
          ]
        },
        {
          "output_type": "stream",
          "name": "stderr",
          "text": [
            "100%|██████████| 1024/1024 [00:04<00:00, 215.44it/s]\n"
          ]
        },
        {
          "output_type": "stream",
          "name": "stdout",
          "text": [
            "Epochs: 4 | Train Loss: 0.263 | Train Accuracy: 0.737\n",
            "Val Loss: 0.283 | Val Accuracy: 0.717\n"
          ]
        },
        {
          "output_type": "stream",
          "name": "stderr",
          "text": [
            "100%|██████████| 1024/1024 [00:02<00:00, 345.60it/s]\n"
          ]
        },
        {
          "output_type": "stream",
          "name": "stdout",
          "text": [
            "Epochs: 5 | Train Loss: 0.257 | Train Accuracy: 0.748\n",
            "Val Loss: 0.279 | Val Accuracy: 0.723\n"
          ]
        }
      ]
    },
    {
      "cell_type": "code",
      "source": [
        "# Evaluate the performance of the model\n",
        "predictions, acc = evaluate_GloveBinaryClassifier(gloveBinaryClassifier, glove_binary_testing_df, 1)"
      ],
      "metadata": {
        "colab": {
          "base_uri": "https://localhost:8080/"
        },
        "id": "c7eN5diYLs-I",
        "outputId": "5d784e64-475f-4935-936f-3a2c7ee37774"
      },
      "id": "c7eN5diYLs-I",
      "execution_count": 26,
      "outputs": [
        {
          "output_type": "stream",
          "name": "stderr",
          "text": [
            "100%|██████████| 512/512 [00:00<00:00, 1940.00it/s]"
          ]
        },
        {
          "output_type": "stream",
          "name": "stdout",
          "text": [
            "Test Accuracy: 0.727\n"
          ]
        },
        {
          "output_type": "stream",
          "name": "stderr",
          "text": [
            "\n"
          ]
        }
      ]
    },
    {
      "cell_type": "code",
      "execution_count": 27,
      "id": "c00977cc",
      "metadata": {
        "colab": {
          "base_uri": "https://localhost:8080/"
        },
        "id": "c00977cc",
        "outputId": "e6c0aedd-d78c-4d85-e66b-9f86a3fcc464"
      },
      "outputs": [
        {
          "output_type": "stream",
          "name": "stdout",
          "text": [
            "                precision    recall  f1-score   support\n",
            "\n",
            "not_propaganda       0.71      0.74      0.72       249\n",
            "    propaganda       0.74      0.71      0.73       263\n",
            "\n",
            "      accuracy                           0.73       512\n",
            "     macro avg       0.73      0.73      0.73       512\n",
            "  weighted avg       0.73      0.73      0.73       512\n",
            "\n"
          ]
        }
      ],
      "source": [
        "predicted_labels = [reverse_index_binary_label[y] for y in predictions]\n",
        "#Print out the useful metrics after the model has been evaluated.\n",
        "print(classification_report(df_test['binary_label'], predicted_labels))"
      ]
    },
    {
      "cell_type": "code",
      "execution_count": 28,
      "id": "388e4d3c",
      "metadata": {
        "id": "388e4d3c"
      },
      "outputs": [],
      "source": [
        "#Save the GloVe Binary classifier\n",
        "output_dir=\"glove-binary-classifier\"\n",
        "torch.save(gloveBinaryClassifier,output_dir)"
      ]
    },
    {
      "cell_type": "code",
      "execution_count": 29,
      "id": "77d89dfd",
      "metadata": {
        "id": "77d89dfd"
      },
      "outputs": [],
      "source": [
        "#Empty the CUDA cache and perform garbage collection to remove unused/unwanted data. Also delete model from memory\n",
        "#If you need the model for any purpose, uncomment the lines of code in the next cell and load the model.\n",
        "torch.cuda.empty_cache()\n",
        "gc.collect()\n",
        "del gloveBinaryClassifier"
      ]
    },
    {
      "cell_type": "markdown",
      "id": "cyFZK0Hai1gF",
      "metadata": {
        "id": "cyFZK0Hai1gF"
      },
      "source": [
        "## **1.3 BERT Binary Classifier**"
      ]
    },
    {
      "cell_type": "code",
      "execution_count": 30,
      "id": "7g30B1DCi8Am",
      "metadata": {
        "colab": {
          "base_uri": "https://localhost:8080/",
          "height": 249,
          "referenced_widgets": [
            "f3600bf557fe441cb7033ed800b8a9c3",
            "9b5528bcb92f481fab93119ba7895d1a",
            "606db3ad58c34b348aadda96d9ae333d",
            "83f378b55d6747c2a7723cca54d6ea59",
            "e1d8172e61e74c4b8ea3059f163fd632",
            "a60c8d120d2047678d42ed4d241a2ad7",
            "33758edd1cf441898f44b96f4dae4ff7",
            "f0eb532170574ab09347155b1a85e828",
            "0e821b8ca5e44a4aac0127667a6a3c44",
            "b1d9178adce4452db955eafb58fbbd8c",
            "042273d5652b42f78f0d5be3b26c9d87",
            "43d9dbe7daf74f1ba47c697415115710",
            "d9a8206868b2456c8dc96186e4c4bed1",
            "9b421753930440519d6c868d4fa36a10",
            "fb815e4c72554442bfad1c647985dcf2",
            "795444314c6e457d8914e9c2269a27e9",
            "87da18c148c44682812892ad4308f808",
            "5da09ae30986445ea192782378592b78",
            "3cc289970e8c4464a91f00f75bc2e732",
            "988ccd2285fc45c9853b10a3743867ee",
            "0e8a380db8874820ac634bc656d34812",
            "fe7ce7202b374d808040231fcd080a81",
            "6ce52e3c33eb4006aec4dc4b7abedf1e",
            "0c8dc017a54f48d692c20c673802b950",
            "24bcb2ed4681449bbc053f84965f5f17",
            "08fe293a498c478faa867e2503fc5933",
            "29ccd44239fd4c16a0d5a40c022f80e9",
            "5c1cdd804c3e47da9e320469b7ec3379",
            "135d9b8fc2a8467ea160768df9f4fbf7",
            "df9492ea1fd84650984576c2d414cf84",
            "f87996e1add8409e92b9545235bb2af1",
            "3d9eafbea23442699b722c7b7e23e970",
            "b6e3aa847cb344ddada82d3d8734ea9a",
            "88d1726e78d448fdbab49950ac8ea826",
            "2d570f0f1a7a449d9d38f1b81bd481ce",
            "d2eaa98d520b47bb85833a7202e232b4",
            "f2a23495ec3f4b49a1a33fa478e62b74",
            "eebb29c04b8d40d5899ae9d4c38c6c14",
            "6dcd9146f8934c9b94f46f88e9cf7ad0",
            "965f4ef2dd45475589f6edd3fea143e6",
            "6b6234cee6e0420d8f00a50fb8af50d8",
            "3351edd27fb645ebaf6ca9cc5c48effb",
            "9776d7f2d42b4ac5a4367e3634862d9c",
            "bff376ab92c940e2ba40e53616926806"
          ]
        },
        "id": "7g30B1DCi8Am",
        "outputId": "67cb50b5-f78a-4e65-d5bc-aabad85591da"
      },
      "outputs": [
        {
          "output_type": "stream",
          "name": "stderr",
          "text": [
            "/usr/local/lib/python3.10/dist-packages/huggingface_hub/utils/_token.py:88: UserWarning: \n",
            "The secret `HF_TOKEN` does not exist in your Colab secrets.\n",
            "To authenticate with the Hugging Face Hub, create a token in your settings tab (https://huggingface.co/settings/tokens), set it as secret in your Google Colab and restart your session.\n",
            "You will be able to reuse this secret in all of your notebooks.\n",
            "Please note that authentication is recommended but still optional to access public models or datasets.\n",
            "  warnings.warn(\n"
          ]
        },
        {
          "output_type": "display_data",
          "data": {
            "text/plain": [
              "tokenizer_config.json:   0%|          | 0.00/48.0 [00:00<?, ?B/s]"
            ],
            "application/vnd.jupyter.widget-view+json": {
              "version_major": 2,
              "version_minor": 0,
              "model_id": "f3600bf557fe441cb7033ed800b8a9c3"
            }
          },
          "metadata": {}
        },
        {
          "output_type": "display_data",
          "data": {
            "text/plain": [
              "vocab.txt:   0%|          | 0.00/232k [00:00<?, ?B/s]"
            ],
            "application/vnd.jupyter.widget-view+json": {
              "version_major": 2,
              "version_minor": 0,
              "model_id": "43d9dbe7daf74f1ba47c697415115710"
            }
          },
          "metadata": {}
        },
        {
          "output_type": "display_data",
          "data": {
            "text/plain": [
              "tokenizer.json:   0%|          | 0.00/466k [00:00<?, ?B/s]"
            ],
            "application/vnd.jupyter.widget-view+json": {
              "version_major": 2,
              "version_minor": 0,
              "model_id": "6ce52e3c33eb4006aec4dc4b7abedf1e"
            }
          },
          "metadata": {}
        },
        {
          "output_type": "display_data",
          "data": {
            "text/plain": [
              "config.json:   0%|          | 0.00/570 [00:00<?, ?B/s]"
            ],
            "application/vnd.jupyter.widget-view+json": {
              "version_major": 2,
              "version_minor": 0,
              "model_id": "88d1726e78d448fdbab49950ac8ea826"
            }
          },
          "metadata": {}
        }
      ],
      "source": [
        "tokenizer=BertTokenizer.from_pretrained('bert-base-uncased')\n",
        "\n",
        "#Adapted from the Advanced NLP Lab 10 Solutions Notebook\n",
        "class Dataset(torch.utils.data.Dataset):\n",
        "    \"\"\"\n",
        "    Adapted from the Advanced NLP Lab 10 Solutions Notebook\n",
        "    This class defines a Dataset that will be used to load the prepare the data for training, validation and testing\n",
        "    \"\"\"\n",
        "\n",
        "    def __init__(self, df, label_dict, column='tagged_in_context'):\n",
        "        self.labels = [label_dict[label] for label in df['label']]\n",
        "        self.texts = [tokenizer.encode_plus(text.lower(), padding='max_length', max_length=512, truncation=True, return_tensors=\"pt\") for text in df[column]]\n",
        "\n",
        "    def classes(self):\n",
        "        return self.labels\n",
        "\n",
        "    def __len__(self):\n",
        "        return len(self.labels)\n",
        "\n",
        "    def get_batch_labels(self, idx):\n",
        "        return np.array(self.labels[idx])\n",
        "\n",
        "    def get_batch_texts(self, idx):\n",
        "        return self.texts[idx]\n",
        "\n",
        "    def __getitem__(self, idx):\n",
        "        batch_texts = self.get_batch_texts(idx)\n",
        "        batch_y = self.get_batch_labels(idx)\n",
        "\n",
        "        return batch_texts, batch_y"
      ]
    },
    {
      "cell_type": "code",
      "execution_count": 31,
      "id": "MkvgKC_ti_UQ",
      "metadata": {
        "id": "MkvgKC_ti_UQ"
      },
      "outputs": [],
      "source": [
        "def prepare_inputs(input1, label, device):\n",
        "    #Prepare the inputs for the classification task\n",
        "    #Move the required variables to the GPU\n",
        "    label = label.to(device)\n",
        "    mask = input1['attention_mask'].to(device)\n",
        "    input_id = input1['input_ids'].squeeze(1).to(device)\n",
        "    return (input_id, mask, label)"
      ]
    },
    {
      "cell_type": "code",
      "execution_count": 32,
      "id": "5zw8zvQHjXpB",
      "metadata": {
        "id": "5zw8zvQHjXpB"
      },
      "outputs": [],
      "source": [
        "#Adapted from the Advanced NLP Lab 10 Solutions Notebook\n",
        "class BertBinaryClassifier(nn.Module):\n",
        "    \"\"\"\n",
        "    Code adapted from Advanced NLP Week 10 Lab solutions.\n",
        "    This class will define the structure of the neural network used for classification.\n",
        "    It also defines how the output from one layer will be propagated to the next.\n",
        "    This particular netowrk will get the embeddings from the BERToModel\n",
        "\n",
        "    Input Parameters:\n",
        "    input_size: The size of the input data\n",
        "    dropout: The amount of layers to be randomly turned off to avoid overfitting the data.\n",
        "    output_size: The expected number of outputs, labels in the dataset.\n",
        "    \"\"\"\n",
        "\n",
        "    def __init__(self,dropout=0.5,num_classes=2):\n",
        "\n",
        "        super(BertBinaryClassifier,self).__init__()\n",
        "\n",
        "        self.bert=BertModel.from_pretrained('bert-base-uncased')\n",
        "        self.dropout=nn.Dropout(dropout)\n",
        "        self.linear=nn.Linear(768,num_classes)\n",
        "        self.relu=nn.ReLU()\n",
        "\n",
        "    def forward(self,input_id,mask):\n",
        "\n",
        "        last_hidden_layer,pooled_output = self.bert(input_ids=input_id,attention_mask=mask,return_dict=False)\n",
        "        dropout_output=self.dropout(pooled_output)\n",
        "        linear_output=self.linear(dropout_output)\n",
        "        final_layer=self.relu(linear_output)\n",
        "\n",
        "        return final_layer"
      ]
    },
    {
      "cell_type": "code",
      "execution_count": 33,
      "id": "kF46ySinjndc",
      "metadata": {
        "id": "kF46ySinjndc"
      },
      "outputs": [],
      "source": [
        "#Adapted from the Advanced NLP Lab 10 Solutions Notebook\n",
        "def train(model, train_data,val_data,learning_rate,epochs, batch_size=2):\n",
        "    \"\"\"\n",
        "    Code adapted from Advanced NLP Week 10 LAb Solutions\n",
        "    This function is responsible for training the BERT Binary Classifier on the input data.\n",
        "    This will orchestrate loss calculation, backpropagation, evaluation, learning rate\n",
        "\n",
        "    Input Parameters:\n",
        "    model: The instance of the model class to be used for training\n",
        "    train_data: The training 'Dataset' (instance) to be used for training the model\n",
        "    val_data: The validation 'Dataset' (instance) to be used for model validation.\n",
        "    learning_rate: The value that specifies how the model parameters are updated with each iteration\n",
        "    epochs: The number of iterations to be performed during training.\n",
        "\n",
        "    Outputs:\n",
        "    None\n",
        "    Prints the Training iteration, training loss and validation loss\n",
        "    \"\"\"\n",
        "\n",
        "\n",
        "    train_dataloader=torch.utils.data.DataLoader(train_data,batch_size=batch_size,shuffle=True)\n",
        "    val_dataloader=torch.utils.data.DataLoader(val_data,batch_size=2)\n",
        "\n",
        "    use_cuda=torch.cuda.is_available()\n",
        "    device=torch.device(\"cuda\" if use_cuda else \"cpu\")\n",
        "\n",
        "    criterion=nn.CrossEntropyLoss()\n",
        "    optimizer=Adam(model.parameters(),lr=learning_rate)\n",
        "\n",
        "    if use_cuda:\n",
        "        model=model.cuda()\n",
        "        criterion=criterion.cuda()\n",
        "\n",
        "    for epoch_num in range(epochs):\n",
        "        total_acc_train=0\n",
        "        total_loss_train=0\n",
        "        model.train()\n",
        "        for train_input,train_label in tqdm(train_dataloader):\n",
        "\n",
        "            input_id,mask, train_label=prepare_inputs(train_input,train_label,device)\n",
        "\n",
        "            output=model(input_id,mask)\n",
        "\n",
        "            batch_loss=criterion(output,train_label.long())\n",
        "            total_loss_train +=batch_loss.item()\n",
        "\n",
        "            acc=(output.argmax(dim=1)==train_label).sum().item()\n",
        "            total_acc_train+=acc\n",
        "\n",
        "            model.zero_grad()\n",
        "            batch_loss.backward()\n",
        "            optimizer.step()\n",
        "\n",
        "        total_acc_val=0\n",
        "        total_loss_val=0\n",
        "        model.eval()\n",
        "        with torch.no_grad():\n",
        "            for val_input,val_label in val_dataloader:\n",
        "\n",
        "                input_id,mask, val_label=prepare_inputs(val_input,val_label,device)\n",
        "\n",
        "                output=model(input_id,mask)\n",
        "\n",
        "                batch_loss=criterion(output,val_label.long())\n",
        "\n",
        "                total_loss_val+=batch_loss.item()\n",
        "\n",
        "                acc=(output.argmax(dim=1)==val_label).sum().item()\n",
        "                total_acc_val+=acc\n",
        "\n",
        "        print(f'Epochs: {epoch_num+1} | Train Loss: {total_loss_train / len(train_data):.3f} | Train Accuracy: {total_acc_train/len(train_data):.3f}')\n",
        "        print(f'Val loss: {total_loss_val/len(val_data):.3f} | Val Accuracy: {total_acc_val / len(val_data):.3f}')"
      ]
    },
    {
      "cell_type": "code",
      "execution_count": 34,
      "id": "S3_jywGekCUL",
      "metadata": {
        "id": "S3_jywGekCUL"
      },
      "outputs": [],
      "source": [
        "batchsize=4\n",
        "#Adapted from the Advanced NLP Lab 10 Solutions Notebook\n",
        "def evaluate(model,test_dataset,batchsize=4):\n",
        "    \"\"\"\n",
        "    Code adapted from Advanced NLP Week 10 Lab Solutions\n",
        "    This function is responsible for evaluating the model on previously unseen test data(data not used in training/validation)\n",
        "\n",
        "    Input Parameters:\n",
        "    model: The instance of the model class for which evaluation needs to be performed.\n",
        "    test_dataset: The test dataset to be used for testing out to use to perform evaluation of the model\n",
        "\n",
        "    Outputs:\n",
        "    predictions: An array of tensors containing the predictions of the model for each data point in the training dataset\n",
        "    acc: The total accuracy of the model.\n",
        "    \"\"\"\n",
        "    model.eval()\n",
        "    test_dataloader=torch.utils.data.DataLoader(test_dataset,batch_size=batchsize)\n",
        "\n",
        "    use_cuda=torch.cuda.is_available()\n",
        "    device=torch.device(\"cuda\" if use_cuda else \"cpu\")\n",
        "\n",
        "    if use_cuda:\n",
        "        model=model.cuda()\n",
        "\n",
        "    total_acc_test=0\n",
        "    with torch.no_grad():\n",
        "        count=0\n",
        "        predictions=[]\n",
        "        for test_input,test_label in tqdm(test_dataloader):\n",
        "            count+=batchsize\n",
        "            test_label=test_label.to(device)\n",
        "            mask=test_input['attention_mask'].to(device)\n",
        "            input_id=test_input['input_ids'].squeeze(1).to(device)\n",
        "            output=model(input_id,mask)\n",
        "            predictions.append(output.argmax(dim=1))  #save the prediction for further analysis\n",
        "            acc=(output.argmax(dim=1)==test_label).sum().item()\n",
        "\n",
        "            total_acc_test+=acc\n",
        "            if count%100==0:\n",
        "                print(f'Accuracy so far = {total_acc_test/count: .3f}')\n",
        "\n",
        "    print(f'Test accuracy: {total_acc_test/len(test_dataset): .3f}')\n",
        "    return predictions, (total_acc_test/len(test_dataset))"
      ]
    },
    {
      "cell_type": "code",
      "execution_count": 35,
      "id": "qOIsz2gSlqBy",
      "metadata": {
        "id": "qOIsz2gSlqBy"
      },
      "outputs": [],
      "source": [
        "df_train_bert_binary, df_test_bert_binary = train_test_split(df_train_input, test_size=0.2, random_state=seed )\n",
        "df_train_bert_binary = df_train_bert_binary[['tagged_in_context', 'binary_label']].copy()\n",
        "df_test_bert_binary = df_test_bert_binary[['tagged_in_context', 'binary_label']].copy()\n",
        "df_validation_bert_binary = df_validation[['tagged_in_context', 'binary_label']].copy()\n",
        "\n",
        "df_train_bert_binary.rename({'binary_label': 'label'}, axis=1, inplace=True)\n",
        "df_test_bert_binary.rename({'binary_label': 'label'}, axis=1, inplace=True)\n",
        "df_validation_bert_binary.rename({'binary_label': 'label'}, axis=1, inplace=True)"
      ]
    },
    {
      "cell_type": "code",
      "execution_count": 36,
      "id": "T86flZwClON-",
      "metadata": {
        "id": "T86flZwClON-"
      },
      "outputs": [],
      "source": [
        "# Load the training, validation, and testing datasets\n",
        "train_data_bert_binary = Dataset(df_train_bert_binary, binary_labels)\n",
        "test_data_bert_binary = Dataset(df_test_bert_binary, binary_labels)\n",
        "validation_data_bert_binary = Dataset(df_validation_bert_binary, binary_labels)"
      ]
    },
    {
      "cell_type": "code",
      "execution_count": 37,
      "id": "leSKjNlGkRws",
      "metadata": {
        "id": "leSKjNlGkRws",
        "colab": {
          "base_uri": "https://localhost:8080/",
          "height": 49,
          "referenced_widgets": [
            "9ab5f516c21e4bb9be0f6a5d6e3baf73",
            "77270a9abdcb4bff8d39bb8e740aa56b",
            "eae342f04e86446c9148d9028e58e9ef",
            "73a55bad589448e4bb3061f324b9905a",
            "9b0859be64e84520be9362a0ddf32e69",
            "7982094915a24d63a1c47a71f16bdbd1",
            "2abdf9c04aa346769ef22234119e9934",
            "b546ff8ee819447598d2d62b3d8a44c6",
            "43b4dde186a34c3aad3b35b3a38bc26e",
            "03696d4b29ce4ac78f01c8b5aa9919c1",
            "7019c4b8274c410d8739732ab889fcf0"
          ]
        },
        "outputId": "b7fef727-40f3-4d7a-d6b7-503ba9c26c0c"
      },
      "outputs": [
        {
          "output_type": "display_data",
          "data": {
            "text/plain": [
              "model.safetensors:   0%|          | 0.00/440M [00:00<?, ?B/s]"
            ],
            "application/vnd.jupyter.widget-view+json": {
              "version_major": 2,
              "version_minor": 0,
              "model_id": "9ab5f516c21e4bb9be0f6a5d6e3baf73"
            }
          },
          "metadata": {}
        }
      ],
      "source": [
        "EPOCHS=1\n",
        "bert_binary_classifier=BertBinaryClassifier(num_classes=len(binary_labels.keys()))\n",
        "LR=1e-05"
      ]
    },
    {
      "cell_type": "code",
      "execution_count": 38,
      "id": "vLb08hWPkpYC",
      "metadata": {
        "colab": {
          "base_uri": "https://localhost:8080/"
        },
        "id": "vLb08hWPkpYC",
        "outputId": "6e9b6a78-3650-47b6-9124-c6e620b27525"
      },
      "outputs": [
        {
          "output_type": "stream",
          "name": "stderr",
          "text": [
            "100%|██████████| 1024/1024 [03:32<00:00,  4.81it/s]\n"
          ]
        },
        {
          "output_type": "stream",
          "name": "stdout",
          "text": [
            "Epochs: 1 | Train Loss: 0.282 | Train Accuracy: 0.712\n",
            "Val loss: 0.160 | Val Accuracy: 0.867\n"
          ]
        }
      ],
      "source": [
        "train(bert_binary_classifier,train_data_bert_binary,validation_data_bert_binary,LR,EPOCHS)"
      ]
    },
    {
      "cell_type": "code",
      "execution_count": 39,
      "id": "_Crefv8LktWt",
      "metadata": {
        "id": "_Crefv8LktWt",
        "colab": {
          "base_uri": "https://localhost:8080/"
        },
        "outputId": "6799bdf2-4192-4db7-d208-a0ebb60be8f4"
      },
      "outputs": [
        {
          "output_type": "stream",
          "name": "stderr",
          "text": [
            " 20%|██        | 103/512 [00:03<00:15, 25.99it/s]"
          ]
        },
        {
          "output_type": "stream",
          "name": "stdout",
          "text": [
            "Accuracy so far =  0.920\n"
          ]
        },
        {
          "output_type": "stream",
          "name": "stderr",
          "text": [
            " 40%|████      | 205/512 [00:07<00:11, 25.86it/s]"
          ]
        },
        {
          "output_type": "stream",
          "name": "stdout",
          "text": [
            "Accuracy so far =  0.910\n"
          ]
        },
        {
          "output_type": "stream",
          "name": "stderr",
          "text": [
            " 59%|█████▉    | 304/512 [00:11<00:07, 26.06it/s]"
          ]
        },
        {
          "output_type": "stream",
          "name": "stdout",
          "text": [
            "Accuracy so far =  0.900\n"
          ]
        },
        {
          "output_type": "stream",
          "name": "stderr",
          "text": [
            " 79%|███████▊  | 403/512 [00:15<00:04, 26.03it/s]"
          ]
        },
        {
          "output_type": "stream",
          "name": "stdout",
          "text": [
            "Accuracy so far =  0.900\n"
          ]
        },
        {
          "output_type": "stream",
          "name": "stderr",
          "text": [
            " 99%|█████████▊| 505/512 [00:19<00:00, 25.82it/s]"
          ]
        },
        {
          "output_type": "stream",
          "name": "stdout",
          "text": [
            "Accuracy so far =  0.896\n"
          ]
        },
        {
          "output_type": "stream",
          "name": "stderr",
          "text": [
            "100%|██████████| 512/512 [00:19<00:00, 25.96it/s]"
          ]
        },
        {
          "output_type": "stream",
          "name": "stdout",
          "text": [
            "Test accuracy:  0.895\n"
          ]
        },
        {
          "output_type": "stream",
          "name": "stderr",
          "text": [
            "\n"
          ]
        }
      ],
      "source": [
        "predictions, acc=evaluate(bert_binary_classifier, test_data_bert_binary, 1)"
      ]
    },
    {
      "cell_type": "code",
      "execution_count": 40,
      "id": "713f113c",
      "metadata": {
        "id": "713f113c",
        "colab": {
          "base_uri": "https://localhost:8080/"
        },
        "outputId": "1ed685f3-fb41-4f7c-953a-90e9f999985d"
      },
      "outputs": [
        {
          "output_type": "stream",
          "name": "stdout",
          "text": [
            "                precision    recall  f1-score   support\n",
            "\n",
            "not_propaganda       0.94      0.84      0.89       249\n",
            "    propaganda       0.86      0.95      0.90       263\n",
            "\n",
            "      accuracy                           0.89       512\n",
            "     macro avg       0.90      0.89      0.89       512\n",
            "  weighted avg       0.90      0.89      0.89       512\n",
            "\n"
          ]
        }
      ],
      "source": [
        "predicted_labels = [ reverse_index_binary_label[y.item()] for y in predictions]\n",
        "\n",
        "\n",
        "print(classification_report(df_test_bert_binary['label'], predicted_labels))"
      ]
    },
    {
      "cell_type": "code",
      "execution_count": 41,
      "id": "31318b1b",
      "metadata": {
        "id": "31318b1b"
      },
      "outputs": [],
      "source": [
        "#Save the bert Binary classifier\n",
        "output_dir=\"bert-binary-classifier\"\n",
        "torch.save(bert_binary_classifier,output_dir)"
      ]
    },
    {
      "cell_type": "code",
      "execution_count": 42,
      "id": "a75add2b",
      "metadata": {
        "id": "a75add2b"
      },
      "outputs": [],
      "source": [
        "#Clear the CUDA Cache and perform garbage collection to remove unused items from memory and avoid OutOfMemory Execeptions\n",
        "#If you require the model, uncomment the lines in the next cell and execute it to load the model to memory\n",
        "torch.cuda.empty_cache()\n",
        "gc.collect()\n",
        "del bert_binary_classifier"
      ]
    },
    {
      "cell_type": "markdown",
      "id": "83102a15",
      "metadata": {
        "id": "83102a15"
      },
      "source": [
        "# **Task 2 - Multi-class Classification**"
      ]
    },
    {
      "cell_type": "code",
      "execution_count": 43,
      "id": "7WdKaKzv7rDa",
      "metadata": {
        "id": "7WdKaKzv7rDa"
      },
      "outputs": [],
      "source": [
        "# Load the training, validation, and testing after splitting datasets\n",
        "df_train_multiclass_filtered = df_train_input[df_train_input['label']!='not_propaganda']\n",
        "df_test_multiclass_filtered = df_test[df_test['label']!='not_propaganda']\n",
        "df_validation_multiclass_filtered = df_validation[df_validation['label']!='not_propaganda']"
      ]
    },
    {
      "cell_type": "code",
      "execution_count": 44,
      "id": "6d512fe5",
      "metadata": {
        "colab": {
          "base_uri": "https://localhost:8080/",
          "height": 332
        },
        "id": "6d512fe5",
        "outputId": "7cd19f4c-db09-4aab-b1e9-34be735326a3"
      },
      "outputs": [
        {
          "output_type": "execute_result",
          "data": {
            "text/plain": [
              "                           tagged_in_context  binary_label\n",
              "label                                                     \n",
              "appeal_to_fear_prejudice                 157           157\n",
              "causal_oversimplification                165           165\n",
              "doubt                                    157           157\n",
              "exaggeration,minimisation                170           170\n",
              "flag_waving                              155           155\n",
              "loaded_language                          161           161\n",
              "name_calling,labeling                    166           166\n",
              "repetition                               160           160"
            ],
            "text/html": [
              "\n",
              "  <div id=\"df-7b197754-6f2e-4785-a562-eca61654c1bb\" class=\"colab-df-container\">\n",
              "    <div>\n",
              "<style scoped>\n",
              "    .dataframe tbody tr th:only-of-type {\n",
              "        vertical-align: middle;\n",
              "    }\n",
              "\n",
              "    .dataframe tbody tr th {\n",
              "        vertical-align: top;\n",
              "    }\n",
              "\n",
              "    .dataframe thead th {\n",
              "        text-align: right;\n",
              "    }\n",
              "</style>\n",
              "<table border=\"1\" class=\"dataframe\">\n",
              "  <thead>\n",
              "    <tr style=\"text-align: right;\">\n",
              "      <th></th>\n",
              "      <th>tagged_in_context</th>\n",
              "      <th>binary_label</th>\n",
              "    </tr>\n",
              "    <tr>\n",
              "      <th>label</th>\n",
              "      <th></th>\n",
              "      <th></th>\n",
              "    </tr>\n",
              "  </thead>\n",
              "  <tbody>\n",
              "    <tr>\n",
              "      <th>appeal_to_fear_prejudice</th>\n",
              "      <td>157</td>\n",
              "      <td>157</td>\n",
              "    </tr>\n",
              "    <tr>\n",
              "      <th>causal_oversimplification</th>\n",
              "      <td>165</td>\n",
              "      <td>165</td>\n",
              "    </tr>\n",
              "    <tr>\n",
              "      <th>doubt</th>\n",
              "      <td>157</td>\n",
              "      <td>157</td>\n",
              "    </tr>\n",
              "    <tr>\n",
              "      <th>exaggeration,minimisation</th>\n",
              "      <td>170</td>\n",
              "      <td>170</td>\n",
              "    </tr>\n",
              "    <tr>\n",
              "      <th>flag_waving</th>\n",
              "      <td>155</td>\n",
              "      <td>155</td>\n",
              "    </tr>\n",
              "    <tr>\n",
              "      <th>loaded_language</th>\n",
              "      <td>161</td>\n",
              "      <td>161</td>\n",
              "    </tr>\n",
              "    <tr>\n",
              "      <th>name_calling,labeling</th>\n",
              "      <td>166</td>\n",
              "      <td>166</td>\n",
              "    </tr>\n",
              "    <tr>\n",
              "      <th>repetition</th>\n",
              "      <td>160</td>\n",
              "      <td>160</td>\n",
              "    </tr>\n",
              "  </tbody>\n",
              "</table>\n",
              "</div>\n",
              "    <div class=\"colab-df-buttons\">\n",
              "\n",
              "  <div class=\"colab-df-container\">\n",
              "    <button class=\"colab-df-convert\" onclick=\"convertToInteractive('df-7b197754-6f2e-4785-a562-eca61654c1bb')\"\n",
              "            title=\"Convert this dataframe to an interactive table.\"\n",
              "            style=\"display:none;\">\n",
              "\n",
              "  <svg xmlns=\"http://www.w3.org/2000/svg\" height=\"24px\" viewBox=\"0 -960 960 960\">\n",
              "    <path d=\"M120-120v-720h720v720H120Zm60-500h600v-160H180v160Zm220 220h160v-160H400v160Zm0 220h160v-160H400v160ZM180-400h160v-160H180v160Zm440 0h160v-160H620v160ZM180-180h160v-160H180v160Zm440 0h160v-160H620v160Z\"/>\n",
              "  </svg>\n",
              "    </button>\n",
              "\n",
              "  <style>\n",
              "    .colab-df-container {\n",
              "      display:flex;\n",
              "      gap: 12px;\n",
              "    }\n",
              "\n",
              "    .colab-df-convert {\n",
              "      background-color: #E8F0FE;\n",
              "      border: none;\n",
              "      border-radius: 50%;\n",
              "      cursor: pointer;\n",
              "      display: none;\n",
              "      fill: #1967D2;\n",
              "      height: 32px;\n",
              "      padding: 0 0 0 0;\n",
              "      width: 32px;\n",
              "    }\n",
              "\n",
              "    .colab-df-convert:hover {\n",
              "      background-color: #E2EBFA;\n",
              "      box-shadow: 0px 1px 2px rgba(60, 64, 67, 0.3), 0px 1px 3px 1px rgba(60, 64, 67, 0.15);\n",
              "      fill: #174EA6;\n",
              "    }\n",
              "\n",
              "    .colab-df-buttons div {\n",
              "      margin-bottom: 4px;\n",
              "    }\n",
              "\n",
              "    [theme=dark] .colab-df-convert {\n",
              "      background-color: #3B4455;\n",
              "      fill: #D2E3FC;\n",
              "    }\n",
              "\n",
              "    [theme=dark] .colab-df-convert:hover {\n",
              "      background-color: #434B5C;\n",
              "      box-shadow: 0px 1px 3px 1px rgba(0, 0, 0, 0.15);\n",
              "      filter: drop-shadow(0px 1px 2px rgba(0, 0, 0, 0.3));\n",
              "      fill: #FFFFFF;\n",
              "    }\n",
              "  </style>\n",
              "\n",
              "    <script>\n",
              "      const buttonEl =\n",
              "        document.querySelector('#df-7b197754-6f2e-4785-a562-eca61654c1bb button.colab-df-convert');\n",
              "      buttonEl.style.display =\n",
              "        google.colab.kernel.accessAllowed ? 'block' : 'none';\n",
              "\n",
              "      async function convertToInteractive(key) {\n",
              "        const element = document.querySelector('#df-7b197754-6f2e-4785-a562-eca61654c1bb');\n",
              "        const dataTable =\n",
              "          await google.colab.kernel.invokeFunction('convertToInteractive',\n",
              "                                                    [key], {});\n",
              "        if (!dataTable) return;\n",
              "\n",
              "        const docLinkHtml = 'Like what you see? Visit the ' +\n",
              "          '<a target=\"_blank\" href=https://colab.research.google.com/notebooks/data_table.ipynb>data table notebook</a>'\n",
              "          + ' to learn more about interactive tables.';\n",
              "        element.innerHTML = '';\n",
              "        dataTable['output_type'] = 'display_data';\n",
              "        await google.colab.output.renderOutput(dataTable, element);\n",
              "        const docLink = document.createElement('div');\n",
              "        docLink.innerHTML = docLinkHtml;\n",
              "        element.appendChild(docLink);\n",
              "      }\n",
              "    </script>\n",
              "  </div>\n",
              "\n",
              "\n",
              "<div id=\"df-1d6ecd38-65b0-4034-ab5a-f282681ee4df\">\n",
              "  <button class=\"colab-df-quickchart\" onclick=\"quickchart('df-1d6ecd38-65b0-4034-ab5a-f282681ee4df')\"\n",
              "            title=\"Suggest charts\"\n",
              "            style=\"display:none;\">\n",
              "\n",
              "<svg xmlns=\"http://www.w3.org/2000/svg\" height=\"24px\"viewBox=\"0 0 24 24\"\n",
              "     width=\"24px\">\n",
              "    <g>\n",
              "        <path d=\"M19 3H5c-1.1 0-2 .9-2 2v14c0 1.1.9 2 2 2h14c1.1 0 2-.9 2-2V5c0-1.1-.9-2-2-2zM9 17H7v-7h2v7zm4 0h-2V7h2v10zm4 0h-2v-4h2v4z\"/>\n",
              "    </g>\n",
              "</svg>\n",
              "  </button>\n",
              "\n",
              "<style>\n",
              "  .colab-df-quickchart {\n",
              "      --bg-color: #E8F0FE;\n",
              "      --fill-color: #1967D2;\n",
              "      --hover-bg-color: #E2EBFA;\n",
              "      --hover-fill-color: #174EA6;\n",
              "      --disabled-fill-color: #AAA;\n",
              "      --disabled-bg-color: #DDD;\n",
              "  }\n",
              "\n",
              "  [theme=dark] .colab-df-quickchart {\n",
              "      --bg-color: #3B4455;\n",
              "      --fill-color: #D2E3FC;\n",
              "      --hover-bg-color: #434B5C;\n",
              "      --hover-fill-color: #FFFFFF;\n",
              "      --disabled-bg-color: #3B4455;\n",
              "      --disabled-fill-color: #666;\n",
              "  }\n",
              "\n",
              "  .colab-df-quickchart {\n",
              "    background-color: var(--bg-color);\n",
              "    border: none;\n",
              "    border-radius: 50%;\n",
              "    cursor: pointer;\n",
              "    display: none;\n",
              "    fill: var(--fill-color);\n",
              "    height: 32px;\n",
              "    padding: 0;\n",
              "    width: 32px;\n",
              "  }\n",
              "\n",
              "  .colab-df-quickchart:hover {\n",
              "    background-color: var(--hover-bg-color);\n",
              "    box-shadow: 0 1px 2px rgba(60, 64, 67, 0.3), 0 1px 3px 1px rgba(60, 64, 67, 0.15);\n",
              "    fill: var(--button-hover-fill-color);\n",
              "  }\n",
              "\n",
              "  .colab-df-quickchart-complete:disabled,\n",
              "  .colab-df-quickchart-complete:disabled:hover {\n",
              "    background-color: var(--disabled-bg-color);\n",
              "    fill: var(--disabled-fill-color);\n",
              "    box-shadow: none;\n",
              "  }\n",
              "\n",
              "  .colab-df-spinner {\n",
              "    border: 2px solid var(--fill-color);\n",
              "    border-color: transparent;\n",
              "    border-bottom-color: var(--fill-color);\n",
              "    animation:\n",
              "      spin 1s steps(1) infinite;\n",
              "  }\n",
              "\n",
              "  @keyframes spin {\n",
              "    0% {\n",
              "      border-color: transparent;\n",
              "      border-bottom-color: var(--fill-color);\n",
              "      border-left-color: var(--fill-color);\n",
              "    }\n",
              "    20% {\n",
              "      border-color: transparent;\n",
              "      border-left-color: var(--fill-color);\n",
              "      border-top-color: var(--fill-color);\n",
              "    }\n",
              "    30% {\n",
              "      border-color: transparent;\n",
              "      border-left-color: var(--fill-color);\n",
              "      border-top-color: var(--fill-color);\n",
              "      border-right-color: var(--fill-color);\n",
              "    }\n",
              "    40% {\n",
              "      border-color: transparent;\n",
              "      border-right-color: var(--fill-color);\n",
              "      border-top-color: var(--fill-color);\n",
              "    }\n",
              "    60% {\n",
              "      border-color: transparent;\n",
              "      border-right-color: var(--fill-color);\n",
              "    }\n",
              "    80% {\n",
              "      border-color: transparent;\n",
              "      border-right-color: var(--fill-color);\n",
              "      border-bottom-color: var(--fill-color);\n",
              "    }\n",
              "    90% {\n",
              "      border-color: transparent;\n",
              "      border-bottom-color: var(--fill-color);\n",
              "    }\n",
              "  }\n",
              "</style>\n",
              "\n",
              "  <script>\n",
              "    async function quickchart(key) {\n",
              "      const quickchartButtonEl =\n",
              "        document.querySelector('#' + key + ' button');\n",
              "      quickchartButtonEl.disabled = true;  // To prevent multiple clicks.\n",
              "      quickchartButtonEl.classList.add('colab-df-spinner');\n",
              "      try {\n",
              "        const charts = await google.colab.kernel.invokeFunction(\n",
              "            'suggestCharts', [key], {});\n",
              "      } catch (error) {\n",
              "        console.error('Error during call to suggestCharts:', error);\n",
              "      }\n",
              "      quickchartButtonEl.classList.remove('colab-df-spinner');\n",
              "      quickchartButtonEl.classList.add('colab-df-quickchart-complete');\n",
              "    }\n",
              "    (() => {\n",
              "      let quickchartButtonEl =\n",
              "        document.querySelector('#df-1d6ecd38-65b0-4034-ab5a-f282681ee4df button');\n",
              "      quickchartButtonEl.style.display =\n",
              "        google.colab.kernel.accessAllowed ? 'block' : 'none';\n",
              "    })();\n",
              "  </script>\n",
              "</div>\n",
              "    </div>\n",
              "  </div>\n"
            ],
            "application/vnd.google.colaboratory.intrinsic+json": {
              "type": "dataframe",
              "summary": "{\n  \"name\": \"df_train_multiclass_filtered\",\n  \"rows\": 8,\n  \"fields\": [\n    {\n      \"column\": \"label\",\n      \"properties\": {\n        \"dtype\": \"string\",\n        \"num_unique_values\": 8,\n        \"samples\": [\n          \"causal_oversimplification\",\n          \"loaded_language\",\n          \"appeal_to_fear_prejudice\"\n        ],\n        \"semantic_type\": \"\",\n        \"description\": \"\"\n      }\n    },\n    {\n      \"column\": \"tagged_in_context\",\n      \"properties\": {\n        \"dtype\": \"number\",\n        \"std\": 5,\n        \"min\": 155,\n        \"max\": 170,\n        \"num_unique_values\": 7,\n        \"samples\": [\n          157,\n          165,\n          166\n        ],\n        \"semantic_type\": \"\",\n        \"description\": \"\"\n      }\n    },\n    {\n      \"column\": \"binary_label\",\n      \"properties\": {\n        \"dtype\": \"number\",\n        \"std\": 5,\n        \"min\": 155,\n        \"max\": 170,\n        \"num_unique_values\": 7,\n        \"samples\": [\n          157,\n          165,\n          166\n        ],\n        \"semantic_type\": \"\",\n        \"description\": \"\"\n      }\n    }\n  ]\n}"
            }
          },
          "metadata": {},
          "execution_count": 44
        }
      ],
      "source": [
        "df_train_multiclass_filtered.groupby('label').count()"
      ]
    },
    {
      "cell_type": "code",
      "execution_count": 45,
      "id": "63446d6c",
      "metadata": {
        "colab": {
          "base_uri": "https://localhost:8080/"
        },
        "id": "63446d6c",
        "outputId": "0d2b71ad-a5d5-420d-af81-48322158cd9d"
      },
      "outputs": [
        {
          "output_type": "execute_result",
          "data": {
            "text/plain": [
              "{'appeal_to_fear_prejudice': 0,\n",
              " 'causal_oversimplification': 1,\n",
              " 'doubt': 2,\n",
              " 'exaggeration,minimisation': 3,\n",
              " 'flag_waving': 4,\n",
              " 'loaded_language': 5,\n",
              " 'name_calling,labeling': 6,\n",
              " 'repetition': 7}"
            ]
          },
          "metadata": {},
          "execution_count": 45
        }
      ],
      "source": [
        "#Binary Classification labels\n",
        "multiclass_labels = {label:i for i,label in enumerate(df_train_multiclass_filtered['label'].sort_values().unique().tolist())}\n",
        "multiclass_labels"
      ]
    },
    {
      "cell_type": "code",
      "execution_count": 46,
      "id": "53c37309",
      "metadata": {
        "colab": {
          "base_uri": "https://localhost:8080/"
        },
        "id": "53c37309",
        "outputId": "a02b4ce3-614a-473a-871b-e067611a41bf"
      },
      "outputs": [
        {
          "output_type": "execute_result",
          "data": {
            "text/plain": [
              "{0: 'appeal_to_fear_prejudice',\n",
              " 1: 'causal_oversimplification',\n",
              " 2: 'doubt',\n",
              " 3: 'exaggeration,minimisation',\n",
              " 4: 'flag_waving',\n",
              " 5: 'loaded_language',\n",
              " 6: 'name_calling,labeling',\n",
              " 7: 'repetition'}"
            ]
          },
          "metadata": {},
          "execution_count": 46
        }
      ],
      "source": [
        "# Adapted code from AdvNlp lab week 10\n",
        "reverse_index_multiclass_label ={v:k for (k,v) in multiclass_labels.items()}\n",
        "reverse_index_multiclass_label"
      ]
    },
    {
      "cell_type": "code",
      "execution_count": 47,
      "id": "5af86b6c",
      "metadata": {
        "id": "5af86b6c"
      },
      "outputs": [],
      "source": [
        "df_train_multiclass = df_train_multiclass_filtered[['label','tagged_in_context']].copy()\n",
        "df_test_multiclass = df_test_multiclass_filtered[['label','tagged_in_context']].copy()\n",
        "df_validation_multiclass = df_validation_multiclass_filtered[['label','tagged_in_context']].copy()"
      ]
    },
    {
      "cell_type": "code",
      "execution_count": 48,
      "id": "Q3MWCvHFBxFi",
      "metadata": {
        "id": "Q3MWCvHFBxFi"
      },
      "outputs": [],
      "source": [
        "import re\n",
        "# Extracting snippet\n",
        "def extract_snippet(s):\n",
        "  match = re.search(r'<BOS>(.*?)<EOS>', s)\n",
        "  if match:\n",
        "    return match.group(1)\n",
        "  else:\n",
        "    return ''\n",
        "\n",
        "df_train_multiclass['prop_span'] = df_train_multiclass['tagged_in_context'].apply(extract_snippet)\n",
        "df_test_multiclass['prop_span'] = df_test_multiclass['tagged_in_context'].apply(extract_snippet)\n",
        "df_validation_multiclass['prop_span'] = df_validation_multiclass['tagged_in_context'].apply(extract_snippet)\n"
      ]
    },
    {
      "cell_type": "code",
      "execution_count": 49,
      "id": "97068e9c",
      "metadata": {
        "colab": {
          "base_uri": "https://localhost:8080/",
          "height": 424
        },
        "id": "97068e9c",
        "outputId": "73892d95-0835-48d1-9728-2a4b8823a774"
      },
      "outputs": [
        {
          "output_type": "execute_result",
          "data": {
            "text/plain": [
              "                          label  \\\n",
              "2                   flag_waving   \n",
              "5               loaded_language   \n",
              "8                         doubt   \n",
              "10        name_calling,labeling   \n",
              "12     appeal_to_fear_prejudice   \n",
              "...                         ...   \n",
              "2549                 repetition   \n",
              "2551  exaggeration,minimisation   \n",
              "2552                flag_waving   \n",
              "2553  causal_oversimplification   \n",
              "2559      name_calling,labeling   \n",
              "\n",
              "                                      tagged_in_context  \\\n",
              "2     \"The Obama administration misled the <BOS> Ame...   \n",
              "5     Hitler <BOS> annihilated <EOS> 400,000 Germans...   \n",
              "8     As noted above, at this point literally every ...   \n",
              "10    His account was suspended for violating Twitte...   \n",
              "12    A couple of seemingly unrelated events this pa...   \n",
              "...                                                 ...   \n",
              "2549  You might think that would have cured him of f...   \n",
              "2551  “I would like to take this opportunity to make...   \n",
              "2552  Trump To Jeff Sessions: Put An End to Russia P...   \n",
              "2553  <BOS> Neither the Democrat leadership nor the ...   \n",
              "2559  In it, Jews are described as: “arrogant,” “jea...   \n",
              "\n",
              "                                              prop_span  \n",
              "2                                      American people   \n",
              "5                                          annihilated   \n",
              "8                                   so-called evidence   \n",
              "10                                     hateful conduct   \n",
              "12     point to Iran’s positioning itself for more a...  \n",
              "...                                                 ...  \n",
              "2549                                              Nazi   \n",
              "2551             absolutely no place for anti-Semitism   \n",
              "2552   Prosecutors Doing Mueller’s ‘Dirty Work Are A...  \n",
              "2553   Neither the Democrat leadership nor the Democ...  \n",
              "2559                                           selfish   \n",
              "\n",
              "[1291 rows x 3 columns]"
            ],
            "text/html": [
              "\n",
              "  <div id=\"df-b1ffc7c9-4608-408f-96a4-9c52dc87bef8\" class=\"colab-df-container\">\n",
              "    <div>\n",
              "<style scoped>\n",
              "    .dataframe tbody tr th:only-of-type {\n",
              "        vertical-align: middle;\n",
              "    }\n",
              "\n",
              "    .dataframe tbody tr th {\n",
              "        vertical-align: top;\n",
              "    }\n",
              "\n",
              "    .dataframe thead th {\n",
              "        text-align: right;\n",
              "    }\n",
              "</style>\n",
              "<table border=\"1\" class=\"dataframe\">\n",
              "  <thead>\n",
              "    <tr style=\"text-align: right;\">\n",
              "      <th></th>\n",
              "      <th>label</th>\n",
              "      <th>tagged_in_context</th>\n",
              "      <th>prop_span</th>\n",
              "    </tr>\n",
              "  </thead>\n",
              "  <tbody>\n",
              "    <tr>\n",
              "      <th>2</th>\n",
              "      <td>flag_waving</td>\n",
              "      <td>\"The Obama administration misled the &lt;BOS&gt; Ame...</td>\n",
              "      <td>American people</td>\n",
              "    </tr>\n",
              "    <tr>\n",
              "      <th>5</th>\n",
              "      <td>loaded_language</td>\n",
              "      <td>Hitler &lt;BOS&gt; annihilated &lt;EOS&gt; 400,000 Germans...</td>\n",
              "      <td>annihilated</td>\n",
              "    </tr>\n",
              "    <tr>\n",
              "      <th>8</th>\n",
              "      <td>doubt</td>\n",
              "      <td>As noted above, at this point literally every ...</td>\n",
              "      <td>so-called evidence</td>\n",
              "    </tr>\n",
              "    <tr>\n",
              "      <th>10</th>\n",
              "      <td>name_calling,labeling</td>\n",
              "      <td>His account was suspended for violating Twitte...</td>\n",
              "      <td>hateful conduct</td>\n",
              "    </tr>\n",
              "    <tr>\n",
              "      <th>12</th>\n",
              "      <td>appeal_to_fear_prejudice</td>\n",
              "      <td>A couple of seemingly unrelated events this pa...</td>\n",
              "      <td>point to Iran’s positioning itself for more a...</td>\n",
              "    </tr>\n",
              "    <tr>\n",
              "      <th>...</th>\n",
              "      <td>...</td>\n",
              "      <td>...</td>\n",
              "      <td>...</td>\n",
              "    </tr>\n",
              "    <tr>\n",
              "      <th>2549</th>\n",
              "      <td>repetition</td>\n",
              "      <td>You might think that would have cured him of f...</td>\n",
              "      <td>Nazi</td>\n",
              "    </tr>\n",
              "    <tr>\n",
              "      <th>2551</th>\n",
              "      <td>exaggeration,minimisation</td>\n",
              "      <td>“I would like to take this opportunity to make...</td>\n",
              "      <td>absolutely no place for anti-Semitism</td>\n",
              "    </tr>\n",
              "    <tr>\n",
              "      <th>2552</th>\n",
              "      <td>flag_waving</td>\n",
              "      <td>Trump To Jeff Sessions: Put An End to Russia P...</td>\n",
              "      <td>Prosecutors Doing Mueller’s ‘Dirty Work Are A...</td>\n",
              "    </tr>\n",
              "    <tr>\n",
              "      <th>2553</th>\n",
              "      <td>causal_oversimplification</td>\n",
              "      <td>&lt;BOS&gt; Neither the Democrat leadership nor the ...</td>\n",
              "      <td>Neither the Democrat leadership nor the Democ...</td>\n",
              "    </tr>\n",
              "    <tr>\n",
              "      <th>2559</th>\n",
              "      <td>name_calling,labeling</td>\n",
              "      <td>In it, Jews are described as: “arrogant,” “jea...</td>\n",
              "      <td>selfish</td>\n",
              "    </tr>\n",
              "  </tbody>\n",
              "</table>\n",
              "<p>1291 rows × 3 columns</p>\n",
              "</div>\n",
              "    <div class=\"colab-df-buttons\">\n",
              "\n",
              "  <div class=\"colab-df-container\">\n",
              "    <button class=\"colab-df-convert\" onclick=\"convertToInteractive('df-b1ffc7c9-4608-408f-96a4-9c52dc87bef8')\"\n",
              "            title=\"Convert this dataframe to an interactive table.\"\n",
              "            style=\"display:none;\">\n",
              "\n",
              "  <svg xmlns=\"http://www.w3.org/2000/svg\" height=\"24px\" viewBox=\"0 -960 960 960\">\n",
              "    <path d=\"M120-120v-720h720v720H120Zm60-500h600v-160H180v160Zm220 220h160v-160H400v160Zm0 220h160v-160H400v160ZM180-400h160v-160H180v160Zm440 0h160v-160H620v160ZM180-180h160v-160H180v160Zm440 0h160v-160H620v160Z\"/>\n",
              "  </svg>\n",
              "    </button>\n",
              "\n",
              "  <style>\n",
              "    .colab-df-container {\n",
              "      display:flex;\n",
              "      gap: 12px;\n",
              "    }\n",
              "\n",
              "    .colab-df-convert {\n",
              "      background-color: #E8F0FE;\n",
              "      border: none;\n",
              "      border-radius: 50%;\n",
              "      cursor: pointer;\n",
              "      display: none;\n",
              "      fill: #1967D2;\n",
              "      height: 32px;\n",
              "      padding: 0 0 0 0;\n",
              "      width: 32px;\n",
              "    }\n",
              "\n",
              "    .colab-df-convert:hover {\n",
              "      background-color: #E2EBFA;\n",
              "      box-shadow: 0px 1px 2px rgba(60, 64, 67, 0.3), 0px 1px 3px 1px rgba(60, 64, 67, 0.15);\n",
              "      fill: #174EA6;\n",
              "    }\n",
              "\n",
              "    .colab-df-buttons div {\n",
              "      margin-bottom: 4px;\n",
              "    }\n",
              "\n",
              "    [theme=dark] .colab-df-convert {\n",
              "      background-color: #3B4455;\n",
              "      fill: #D2E3FC;\n",
              "    }\n",
              "\n",
              "    [theme=dark] .colab-df-convert:hover {\n",
              "      background-color: #434B5C;\n",
              "      box-shadow: 0px 1px 3px 1px rgba(0, 0, 0, 0.15);\n",
              "      filter: drop-shadow(0px 1px 2px rgba(0, 0, 0, 0.3));\n",
              "      fill: #FFFFFF;\n",
              "    }\n",
              "  </style>\n",
              "\n",
              "    <script>\n",
              "      const buttonEl =\n",
              "        document.querySelector('#df-b1ffc7c9-4608-408f-96a4-9c52dc87bef8 button.colab-df-convert');\n",
              "      buttonEl.style.display =\n",
              "        google.colab.kernel.accessAllowed ? 'block' : 'none';\n",
              "\n",
              "      async function convertToInteractive(key) {\n",
              "        const element = document.querySelector('#df-b1ffc7c9-4608-408f-96a4-9c52dc87bef8');\n",
              "        const dataTable =\n",
              "          await google.colab.kernel.invokeFunction('convertToInteractive',\n",
              "                                                    [key], {});\n",
              "        if (!dataTable) return;\n",
              "\n",
              "        const docLinkHtml = 'Like what you see? Visit the ' +\n",
              "          '<a target=\"_blank\" href=https://colab.research.google.com/notebooks/data_table.ipynb>data table notebook</a>'\n",
              "          + ' to learn more about interactive tables.';\n",
              "        element.innerHTML = '';\n",
              "        dataTable['output_type'] = 'display_data';\n",
              "        await google.colab.output.renderOutput(dataTable, element);\n",
              "        const docLink = document.createElement('div');\n",
              "        docLink.innerHTML = docLinkHtml;\n",
              "        element.appendChild(docLink);\n",
              "      }\n",
              "    </script>\n",
              "  </div>\n",
              "\n",
              "\n",
              "<div id=\"df-14e2c428-d4f7-42ed-9b32-70827e1d2729\">\n",
              "  <button class=\"colab-df-quickchart\" onclick=\"quickchart('df-14e2c428-d4f7-42ed-9b32-70827e1d2729')\"\n",
              "            title=\"Suggest charts\"\n",
              "            style=\"display:none;\">\n",
              "\n",
              "<svg xmlns=\"http://www.w3.org/2000/svg\" height=\"24px\"viewBox=\"0 0 24 24\"\n",
              "     width=\"24px\">\n",
              "    <g>\n",
              "        <path d=\"M19 3H5c-1.1 0-2 .9-2 2v14c0 1.1.9 2 2 2h14c1.1 0 2-.9 2-2V5c0-1.1-.9-2-2-2zM9 17H7v-7h2v7zm4 0h-2V7h2v10zm4 0h-2v-4h2v4z\"/>\n",
              "    </g>\n",
              "</svg>\n",
              "  </button>\n",
              "\n",
              "<style>\n",
              "  .colab-df-quickchart {\n",
              "      --bg-color: #E8F0FE;\n",
              "      --fill-color: #1967D2;\n",
              "      --hover-bg-color: #E2EBFA;\n",
              "      --hover-fill-color: #174EA6;\n",
              "      --disabled-fill-color: #AAA;\n",
              "      --disabled-bg-color: #DDD;\n",
              "  }\n",
              "\n",
              "  [theme=dark] .colab-df-quickchart {\n",
              "      --bg-color: #3B4455;\n",
              "      --fill-color: #D2E3FC;\n",
              "      --hover-bg-color: #434B5C;\n",
              "      --hover-fill-color: #FFFFFF;\n",
              "      --disabled-bg-color: #3B4455;\n",
              "      --disabled-fill-color: #666;\n",
              "  }\n",
              "\n",
              "  .colab-df-quickchart {\n",
              "    background-color: var(--bg-color);\n",
              "    border: none;\n",
              "    border-radius: 50%;\n",
              "    cursor: pointer;\n",
              "    display: none;\n",
              "    fill: var(--fill-color);\n",
              "    height: 32px;\n",
              "    padding: 0;\n",
              "    width: 32px;\n",
              "  }\n",
              "\n",
              "  .colab-df-quickchart:hover {\n",
              "    background-color: var(--hover-bg-color);\n",
              "    box-shadow: 0 1px 2px rgba(60, 64, 67, 0.3), 0 1px 3px 1px rgba(60, 64, 67, 0.15);\n",
              "    fill: var(--button-hover-fill-color);\n",
              "  }\n",
              "\n",
              "  .colab-df-quickchart-complete:disabled,\n",
              "  .colab-df-quickchart-complete:disabled:hover {\n",
              "    background-color: var(--disabled-bg-color);\n",
              "    fill: var(--disabled-fill-color);\n",
              "    box-shadow: none;\n",
              "  }\n",
              "\n",
              "  .colab-df-spinner {\n",
              "    border: 2px solid var(--fill-color);\n",
              "    border-color: transparent;\n",
              "    border-bottom-color: var(--fill-color);\n",
              "    animation:\n",
              "      spin 1s steps(1) infinite;\n",
              "  }\n",
              "\n",
              "  @keyframes spin {\n",
              "    0% {\n",
              "      border-color: transparent;\n",
              "      border-bottom-color: var(--fill-color);\n",
              "      border-left-color: var(--fill-color);\n",
              "    }\n",
              "    20% {\n",
              "      border-color: transparent;\n",
              "      border-left-color: var(--fill-color);\n",
              "      border-top-color: var(--fill-color);\n",
              "    }\n",
              "    30% {\n",
              "      border-color: transparent;\n",
              "      border-left-color: var(--fill-color);\n",
              "      border-top-color: var(--fill-color);\n",
              "      border-right-color: var(--fill-color);\n",
              "    }\n",
              "    40% {\n",
              "      border-color: transparent;\n",
              "      border-right-color: var(--fill-color);\n",
              "      border-top-color: var(--fill-color);\n",
              "    }\n",
              "    60% {\n",
              "      border-color: transparent;\n",
              "      border-right-color: var(--fill-color);\n",
              "    }\n",
              "    80% {\n",
              "      border-color: transparent;\n",
              "      border-right-color: var(--fill-color);\n",
              "      border-bottom-color: var(--fill-color);\n",
              "    }\n",
              "    90% {\n",
              "      border-color: transparent;\n",
              "      border-bottom-color: var(--fill-color);\n",
              "    }\n",
              "  }\n",
              "</style>\n",
              "\n",
              "  <script>\n",
              "    async function quickchart(key) {\n",
              "      const quickchartButtonEl =\n",
              "        document.querySelector('#' + key + ' button');\n",
              "      quickchartButtonEl.disabled = true;  // To prevent multiple clicks.\n",
              "      quickchartButtonEl.classList.add('colab-df-spinner');\n",
              "      try {\n",
              "        const charts = await google.colab.kernel.invokeFunction(\n",
              "            'suggestCharts', [key], {});\n",
              "      } catch (error) {\n",
              "        console.error('Error during call to suggestCharts:', error);\n",
              "      }\n",
              "      quickchartButtonEl.classList.remove('colab-df-spinner');\n",
              "      quickchartButtonEl.classList.add('colab-df-quickchart-complete');\n",
              "    }\n",
              "    (() => {\n",
              "      let quickchartButtonEl =\n",
              "        document.querySelector('#df-14e2c428-d4f7-42ed-9b32-70827e1d2729 button');\n",
              "      quickchartButtonEl.style.display =\n",
              "        google.colab.kernel.accessAllowed ? 'block' : 'none';\n",
              "    })();\n",
              "  </script>\n",
              "</div>\n",
              "    </div>\n",
              "  </div>\n"
            ],
            "application/vnd.google.colaboratory.intrinsic+json": {
              "type": "dataframe",
              "variable_name": "df_train_multiclass",
              "summary": "{\n  \"name\": \"df_train_multiclass\",\n  \"rows\": 1291,\n  \"fields\": [\n    {\n      \"column\": \"label\",\n      \"properties\": {\n        \"dtype\": \"category\",\n        \"num_unique_values\": 8,\n        \"samples\": [\n          \"loaded_language\",\n          \"repetition\",\n          \"flag_waving\"\n        ],\n        \"semantic_type\": \"\",\n        \"description\": \"\"\n      }\n    },\n    {\n      \"column\": \"tagged_in_context\",\n      \"properties\": {\n        \"dtype\": \"string\",\n        \"num_unique_values\": 1283,\n        \"samples\": [\n          \"Although the conspiracy theory is <BOS> baseless nonsense <EOS>, it continues to dog the Trump administration, providing cable television news outlets and late-night talk show hosts with endless fodder in the 24-hour news cycle. \",\n          \"<BOS> Our bishops must make it absolutely clear that the Church's moral theology on homosexuality will not and can not be trumped by the dictates of political correctness <EOS>. \",\n          \"<BOS> TO ARGUE AGAINST THE DEATH PENALTY is to contend with constituted reality <EOS>. \"\n        ],\n        \"semantic_type\": \"\",\n        \"description\": \"\"\n      }\n    },\n    {\n      \"column\": \"prop_span\",\n      \"properties\": {\n        \"dtype\": \"string\",\n        \"num_unique_values\": 1223,\n        \"samples\": [\n          \" dumbed down \",\n          \" Don Lemon thinks things like this, are just fine, and wants these people in the US. He just doesn't want white men here \",\n          \" They warn that the general loss of trust in institutions leads to a general state of chaos, in which laws on the books matter little as citizens turn to their last resort of protecting themselves and their own families \"\n        ],\n        \"semantic_type\": \"\",\n        \"description\": \"\"\n      }\n    }\n  ]\n}"
            }
          },
          "metadata": {},
          "execution_count": 49
        }
      ],
      "source": [
        "df_train_multiclass"
      ]
    },
    {
      "cell_type": "markdown",
      "source": [
        "## **2.1 Multinomial Naive bayes classifier**"
      ],
      "metadata": {
        "id": "WjfLHZWr3gQq"
      },
      "id": "WjfLHZWr3gQq"
    },
    {
      "cell_type": "code",
      "source": [
        "import pandas as pd\n",
        "from sklearn.feature_extraction.text import CountVectorizer\n",
        "from sklearn.model_selection import train_test_split, GridSearchCV\n",
        "from sklearn.naive_bayes import MultinomialNB\n",
        "from sklearn.metrics import accuracy_score, classification_report\n",
        "from sklearn.preprocessing import LabelEncoder\n",
        "\n",
        "\n",
        "\n",
        "df_train_input['snippet'] = df_train_input['tagged_in_context'].apply(extract_snippet)\n",
        "df_validation['snippet'] = df_validation['tagged_in_context'].apply(extract_snippet)\n",
        "# # Encode the labels (propaganda techniques) using LabelEncoder\n",
        "label_encoder = LabelEncoder()\n",
        "df_train_input['encoded_label'] = label_encoder.fit_transform(df_train_input['label'])\n",
        "df_validation['encoded_label'] = label_encoder.fit_transform(df_validation['label'])\n",
        "\n",
        "# Initialize CountVectorizer\n",
        "vectorizer = CountVectorizer()\n",
        "# Tokenize the text\n",
        "x_train = vectorizer.fit_transform(df_train_input['snippet'])\n",
        "y_train = df_train_input['encoded_label']\n",
        "x_test = vectorizer.transform(df_validation['snippet'])\n",
        "y_test = df_validation['encoded_label']\n",
        "\n",
        "\n",
        "# Initialize and train the classifier\n",
        "classifier1 = MultinomialNB()\n",
        "classifier1.fit(x_train, y_train)\n",
        "# Predict labels for the test data\n",
        "y_pred1 = classifier1.predict(x_test)\n",
        "\n",
        "# Evaluate the classifier\n",
        "accuracy1 = accuracy_score(y_test, y_pred1)\n",
        "report1 = classification_report(y_test, y_pred1)\n",
        "\n",
        "print(\"Accuracy:\", accuracy1)\n",
        "print(\"Classification Report:\")\n",
        "print(report1)\n",
        "print()"
      ],
      "metadata": {
        "colab": {
          "base_uri": "https://localhost:8080/"
        },
        "id": "VDT368dQ3raI",
        "outputId": "a56df1a8-64ff-48ae-d2f1-bbc0e20e8329"
      },
      "id": "VDT368dQ3raI",
      "execution_count": 50,
      "outputs": [
        {
          "output_type": "stream",
          "name": "stdout",
          "text": [
            "Accuracy: 0.5640625\n",
            "Classification Report:\n",
            "              precision    recall  f1-score   support\n",
            "\n",
            "           0       0.40      0.09      0.15        43\n",
            "           1       0.50      0.31      0.39        35\n",
            "           2       0.15      0.05      0.07        43\n",
            "           3       0.67      0.13      0.22        30\n",
            "           4       0.83      0.33      0.48        45\n",
            "           5       0.00      0.00      0.00        39\n",
            "           6       0.33      0.03      0.05        34\n",
            "           7       0.57      0.97      0.72       331\n",
            "           8       0.60      0.07      0.13        40\n",
            "\n",
            "    accuracy                           0.56       640\n",
            "   macro avg       0.45      0.22      0.25       640\n",
            "weighted avg       0.51      0.56      0.46       640\n",
            "\n",
            "\n"
          ]
        }
      ]
    },
    {
      "cell_type": "markdown",
      "source": [
        "## **2.1.1 Hypertuning of Multinomial Naive Bayes Classifier**"
      ],
      "metadata": {
        "id": "1JBRkdei399i"
      },
      "id": "1JBRkdei399i"
    },
    {
      "cell_type": "code",
      "source": [
        "from sklearn.model_selection import train_test_split, GridSearchCV\n",
        "\n",
        "# Define the parameter grid\n",
        "param_grid = {'alpha': [0.1, 0.5, 1.0, 2.0, 5.0, 10.0]}\n",
        "\n",
        "# Initialize the classifier\n",
        "classifier = MultinomialNB()\n",
        "\n",
        "# Perform grid search with cross-validation\n",
        "grid_search = GridSearchCV(classifier, param_grid, cv=5, scoring='accuracy')\n",
        "grid_search.fit(x_train, y_train)\n",
        "\n",
        "# Get the best hyperparameters and best score\n",
        "best_params = grid_search.best_params_\n",
        "best_score = grid_search.best_score_\n",
        "\n",
        "print(\"Best hyperparameters:\", best_params)\n",
        "print(\"Best cross-validation score:\", best_score)\n",
        "\n",
        "# Train the classifier with the best hyperparameters\n",
        "best_classifier = MultinomialNB(**best_params)\n",
        "best_classifier.fit(x_train, y_train)\n",
        "\n",
        "# Predict labels for the test data using the best classifier\n",
        "y_pred_best = best_classifier.predict(x_test)\n",
        "\n",
        "# Evaluate the best classifier\n",
        "accuracy_best = accuracy_score(y_test, y_pred_best)\n",
        "report_best = classification_report(y_test, y_pred_best)\n",
        "\n",
        "print(\"Accuracy (best classifier):\", accuracy_best)\n",
        "print(\"Classification Report (best classifier):\")\n",
        "print(report_best)"
      ],
      "metadata": {
        "colab": {
          "base_uri": "https://localhost:8080/"
        },
        "id": "s9B_ar714Kmm",
        "outputId": "9ef3bcb7-4a87-471a-ac30-c58633761e67"
      },
      "id": "s9B_ar714Kmm",
      "execution_count": 51,
      "outputs": [
        {
          "output_type": "stream",
          "name": "stdout",
          "text": [
            "Best hyperparameters: {'alpha': 0.5}\n",
            "Best cross-validation score: 0.5421875\n",
            "Accuracy (best classifier): 0.6015625\n",
            "Classification Report (best classifier):\n",
            "              precision    recall  f1-score   support\n",
            "\n",
            "           0       0.40      0.19      0.25        43\n",
            "           1       0.44      0.46      0.45        35\n",
            "           2       0.35      0.30      0.32        43\n",
            "           3       0.47      0.27      0.34        30\n",
            "           4       0.81      0.47      0.59        45\n",
            "           5       0.70      0.18      0.29        39\n",
            "           6       0.44      0.12      0.19        34\n",
            "           7       0.64      0.91      0.75       331\n",
            "           8       0.60      0.15      0.24        40\n",
            "\n",
            "    accuracy                           0.60       640\n",
            "   macro avg       0.54      0.34      0.38       640\n",
            "weighted avg       0.59      0.60      0.55       640\n",
            "\n"
          ]
        }
      ]
    },
    {
      "cell_type": "markdown",
      "id": "c9490205",
      "metadata": {
        "id": "c9490205"
      },
      "source": [
        "## **2.2 - GloVe**"
      ]
    },
    {
      "cell_type": "code",
      "source": [
        "import torch\n",
        "import torch.nn as nn\n",
        "from torch.optim import Adam\n",
        "from tqdm import tqdm\n",
        "from sklearn.metrics import classification_report\n",
        "\n",
        "class GloveEmbeddedMultiClassDataset(torch.utils.data.Dataset):\n",
        "    def __init__(self, df, label_dict, context_column='tagged_in_context', span_column='prop_span'):\n",
        "        self.labels = [label_dict[label] for label in df['label']]\n",
        "        self.context_texts = [torch.from_numpy(np.array(sentenceVector(spacyTokenizer(text))).astype(np.float32)) for text in df[context_column]]\n",
        "        self.span_texts = [torch.from_numpy(np.array(sentenceVector(spacyTokenizer(text))).astype(np.float32)) for text in df[span_column]]\n",
        "\n",
        "    def __len__(self):\n",
        "        return len(self.labels)\n",
        "\n",
        "    def __getitem__(self, idx):\n",
        "        return self.context_texts[idx], self.span_texts[idx], self.labels[idx]\n",
        "\n",
        "class GloveMultiClassifierNet(nn.Module):\n",
        "    def __init__(self, input_size, hidden_size, output_size, dropout=0.3):\n",
        "        super(GloveMultiClassifierNet, self).__init__()\n",
        "        self.fc1 = nn.Linear(input_size, 512)\n",
        "        self.bn1 = nn.BatchNorm1d(512)\n",
        "        self.fc2 = nn.Linear(512, 256)\n",
        "        self.bn2 = nn.BatchNorm1d(256)\n",
        "        self.fc3 = nn.Linear(256, 128)\n",
        "        self.bn3 = nn.BatchNorm1d(128)\n",
        "        self.fc4 = nn.Linear(128, output_size)\n",
        "        self.dropout = nn.Dropout(dropout)\n",
        "        self.leakyrelu = nn.LeakyReLU(0.1)\n",
        "\n",
        "    def forward(self, x1, x2):\n",
        "        x = torch.cat((x1, x2), dim=1)\n",
        "        x = self.leakyrelu(self.bn1(self.fc1(x)))\n",
        "        x = self.dropout(x)\n",
        "        x = self.leakyrelu(self.bn2(self.fc2(x)))\n",
        "        x = self.dropout(x)\n",
        "        x = self.leakyrelu(self.bn3(self.fc3(x)))\n",
        "        x = self.dropout(x)\n",
        "        x = nn.functional.softmax(self.fc4(x), dim=1)\n",
        "        return x\n",
        "\n",
        "def train_GloveMultiClassClassifier(model, train_data, val_data, learning_rate, epochs, batch_size=4):\n",
        "    train_dataloader = torch.utils.data.DataLoader(train_data, batch_size=batch_size, shuffle=True)\n",
        "    val_dataloader = torch.utils.data.DataLoader(val_data, batch_size=4)\n",
        "    device = torch.device(\"cuda\" if torch.cuda.is_available() else \"cpu\")\n",
        "    criterion = nn.CrossEntropyLoss()\n",
        "    optimizer = Adam(model.parameters(), lr=learning_rate)\n",
        "    model.to(device)\n",
        "\n",
        "    for epoch_num in range(epochs):\n",
        "        total_acc_train = 0\n",
        "        total_loss_train = 0\n",
        "        model.train()\n",
        "        for tagged_context, span_text, train_label in tqdm(train_dataloader):\n",
        "            tagged_context, span_text, train_label = tagged_context.to(device), span_text.to(device), train_label.to(device)\n",
        "            output = model(tagged_context, span_text)\n",
        "            batch_loss = criterion(output, train_label.long())\n",
        "            total_loss_train += batch_loss.item()\n",
        "            acc = (output.argmax(dim=1) == train_label).sum().item()\n",
        "            total_acc_train += acc\n",
        "            model.zero_grad()\n",
        "            batch_loss.backward()\n",
        "            optimizer.step()\n",
        "\n",
        "        total_acc_val = 0\n",
        "        total_loss_val = 0\n",
        "        model.eval()\n",
        "        with torch.no_grad():\n",
        "            for val_tagged_context, val_span_text, val_label in val_dataloader:\n",
        "                val_tagged_context, val_span_text, val_label = val_tagged_context.to(device), val_span_text.to(device), val_label.to(device)\n",
        "                output = model(val_tagged_context, val_span_text)\n",
        "                batch_loss = criterion(output, val_label.long())\n",
        "                total_loss_val += batch_loss.item()\n",
        "                acc = (output.argmax(dim=1) == val_label).sum().item()\n",
        "                total_acc_val += acc\n",
        "\n",
        "        print(f'Epochs: {epoch_num+1} | Train Loss: {total_loss_train / len(train_data):.3f} | Train Accuracy: {total_acc_train/len(train_data):.3f}')\n",
        "        print(f'Val loss: {total_loss_val/len(val_data):.3f} | Val Accuracy: {total_acc_val / len(val_data):.3f}')\n",
        "\n",
        "def evaluate_GloveMultiClassClassifier(model, test_dataset, batchsize=4):\n",
        "    model.eval()\n",
        "    test_dataloader = torch.utils.data.DataLoader(test_dataset, batch_size=batchsize)\n",
        "    device = torch.device(\"cuda\" if torch.cuda.is_available() else \"cpu\")\n",
        "    model.to(device)\n",
        "\n",
        "    total_acc_test = 0\n",
        "    predictions = []\n",
        "    with torch.no_grad():\n",
        "        for test_context, test_span, test_label in tqdm(test_dataloader):\n",
        "            test_context, test_span, test_label = test_context.to(device), test_span.to(device), test_label.to(device)\n",
        "            output = model(test_context, test_span)\n",
        "            predictions.append(output.argmax(dim=1))\n",
        "            acc = (output.argmax(dim=1) == test_label).sum().item()\n",
        "            total_acc_test += acc\n",
        "\n",
        "    print(f'Test accuracy: {total_acc_test/len(test_dataset): .3f}')\n",
        "    return predictions, (total_acc_test/len(test_dataset))\n",
        "\n",
        "# Prepare datasets\n",
        "glove_multiclass_training_df = GloveEmbeddedMultiClassDataset(df_train_multiclass, multiclass_labels)\n",
        "glove_multiclass_testing_df = GloveEmbeddedMultiClassDataset(df_test_multiclass, multiclass_labels)\n",
        "glove_multiclass_validation_df = GloveEmbeddedMultiClassDataset(df_validation_multiclass, multiclass_labels)\n",
        "\n",
        "# Set hyperparameters\n",
        "INPUT_SIZE = 600\n",
        "HIDDEN_SIZE = 300\n",
        "OUTPUT_SIZE = len(multiclass_labels.keys())\n",
        "EPOCHS = 20\n",
        "LR = 1e-04\n",
        "\n",
        "# Train and evaluate the model\n",
        "gloveMulticlassClassifier = GloveMultiClassifierNet(INPUT_SIZE, HIDDEN_SIZE, OUTPUT_SIZE)\n",
        "train_GloveMultiClassClassifier(gloveMulticlassClassifier, glove_multiclass_training_df, glove_multiclass_validation_df, LR, EPOCHS)\n",
        "predictions, acc = evaluate_GloveMultiClassClassifier(gloveMulticlassClassifier, glove_multiclass_testing_df, 1)\n"
      ],
      "metadata": {
        "colab": {
          "base_uri": "https://localhost:8080/"
        },
        "id": "xWOxDDBWibjP",
        "outputId": "dd9fad93-fc91-412d-f119-9a0ecae229b1"
      },
      "id": "xWOxDDBWibjP",
      "execution_count": 52,
      "outputs": [
        {
          "output_type": "stream",
          "name": "stderr",
          "text": [
            "100%|██████████| 323/323 [00:01<00:00, 291.88it/s]\n"
          ]
        },
        {
          "output_type": "stream",
          "name": "stdout",
          "text": [
            "Epochs: 1 | Train Loss: 0.518 | Train Accuracy: 0.180\n",
            "Val loss: 0.517 | Val Accuracy: 0.320\n"
          ]
        },
        {
          "output_type": "stream",
          "name": "stderr",
          "text": [
            "100%|██████████| 323/323 [00:01<00:00, 304.57it/s]\n"
          ]
        },
        {
          "output_type": "stream",
          "name": "stdout",
          "text": [
            "Epochs: 2 | Train Loss: 0.510 | Train Accuracy: 0.271\n",
            "Val loss: 0.509 | Val Accuracy: 0.359\n"
          ]
        },
        {
          "output_type": "stream",
          "name": "stderr",
          "text": [
            "100%|██████████| 323/323 [00:01<00:00, 274.04it/s]\n"
          ]
        },
        {
          "output_type": "stream",
          "name": "stdout",
          "text": [
            "Epochs: 3 | Train Loss: 0.504 | Train Accuracy: 0.301\n",
            "Val loss: 0.500 | Val Accuracy: 0.411\n"
          ]
        },
        {
          "output_type": "stream",
          "name": "stderr",
          "text": [
            "100%|██████████| 323/323 [00:01<00:00, 276.16it/s]\n"
          ]
        },
        {
          "output_type": "stream",
          "name": "stdout",
          "text": [
            "Epochs: 4 | Train Loss: 0.498 | Train Accuracy: 0.309\n",
            "Val loss: 0.493 | Val Accuracy: 0.414\n"
          ]
        },
        {
          "output_type": "stream",
          "name": "stderr",
          "text": [
            "100%|██████████| 323/323 [00:00<00:00, 391.26it/s]\n"
          ]
        },
        {
          "output_type": "stream",
          "name": "stdout",
          "text": [
            "Epochs: 5 | Train Loss: 0.493 | Train Accuracy: 0.344\n",
            "Val loss: 0.486 | Val Accuracy: 0.417\n"
          ]
        },
        {
          "output_type": "stream",
          "name": "stderr",
          "text": [
            "100%|██████████| 323/323 [00:00<00:00, 390.02it/s]\n"
          ]
        },
        {
          "output_type": "stream",
          "name": "stdout",
          "text": [
            "Epochs: 6 | Train Loss: 0.485 | Train Accuracy: 0.377\n",
            "Val loss: 0.482 | Val Accuracy: 0.443\n"
          ]
        },
        {
          "output_type": "stream",
          "name": "stderr",
          "text": [
            "100%|██████████| 323/323 [00:01<00:00, 298.07it/s]\n"
          ]
        },
        {
          "output_type": "stream",
          "name": "stdout",
          "text": [
            "Epochs: 7 | Train Loss: 0.479 | Train Accuracy: 0.424\n",
            "Val loss: 0.476 | Val Accuracy: 0.456\n"
          ]
        },
        {
          "output_type": "stream",
          "name": "stderr",
          "text": [
            "100%|██████████| 323/323 [00:01<00:00, 175.31it/s]\n"
          ]
        },
        {
          "output_type": "stream",
          "name": "stdout",
          "text": [
            "Epochs: 8 | Train Loss: 0.475 | Train Accuracy: 0.426\n",
            "Val loss: 0.475 | Val Accuracy: 0.437\n"
          ]
        },
        {
          "output_type": "stream",
          "name": "stderr",
          "text": [
            "100%|██████████| 323/323 [00:01<00:00, 189.22it/s]\n"
          ]
        },
        {
          "output_type": "stream",
          "name": "stdout",
          "text": [
            "Epochs: 9 | Train Loss: 0.471 | Train Accuracy: 0.458\n",
            "Val loss: 0.473 | Val Accuracy: 0.463\n"
          ]
        },
        {
          "output_type": "stream",
          "name": "stderr",
          "text": [
            "100%|██████████| 323/323 [00:01<00:00, 231.25it/s]\n"
          ]
        },
        {
          "output_type": "stream",
          "name": "stdout",
          "text": [
            "Epochs: 10 | Train Loss: 0.464 | Train Accuracy: 0.483\n",
            "Val loss: 0.470 | Val Accuracy: 0.472\n"
          ]
        },
        {
          "output_type": "stream",
          "name": "stderr",
          "text": [
            "100%|██████████| 323/323 [00:01<00:00, 252.01it/s]\n"
          ]
        },
        {
          "output_type": "stream",
          "name": "stdout",
          "text": [
            "Epochs: 11 | Train Loss: 0.459 | Train Accuracy: 0.510\n",
            "Val loss: 0.465 | Val Accuracy: 0.469\n"
          ]
        },
        {
          "output_type": "stream",
          "name": "stderr",
          "text": [
            "100%|██████████| 323/323 [00:01<00:00, 208.05it/s]\n"
          ]
        },
        {
          "output_type": "stream",
          "name": "stdout",
          "text": [
            "Epochs: 12 | Train Loss: 0.455 | Train Accuracy: 0.508\n",
            "Val loss: 0.463 | Val Accuracy: 0.476\n"
          ]
        },
        {
          "output_type": "stream",
          "name": "stderr",
          "text": [
            "100%|██████████| 323/323 [00:01<00:00, 191.04it/s]\n"
          ]
        },
        {
          "output_type": "stream",
          "name": "stdout",
          "text": [
            "Epochs: 13 | Train Loss: 0.451 | Train Accuracy: 0.521\n",
            "Val loss: 0.463 | Val Accuracy: 0.485\n"
          ]
        },
        {
          "output_type": "stream",
          "name": "stderr",
          "text": [
            "100%|██████████| 323/323 [00:01<00:00, 184.80it/s]\n"
          ]
        },
        {
          "output_type": "stream",
          "name": "stdout",
          "text": [
            "Epochs: 14 | Train Loss: 0.452 | Train Accuracy: 0.509\n",
            "Val loss: 0.459 | Val Accuracy: 0.489\n"
          ]
        },
        {
          "output_type": "stream",
          "name": "stderr",
          "text": [
            "100%|██████████| 323/323 [00:01<00:00, 267.82it/s]\n"
          ]
        },
        {
          "output_type": "stream",
          "name": "stdout",
          "text": [
            "Epochs: 15 | Train Loss: 0.444 | Train Accuracy: 0.547\n",
            "Val loss: 0.459 | Val Accuracy: 0.482\n"
          ]
        },
        {
          "output_type": "stream",
          "name": "stderr",
          "text": [
            "100%|██████████| 323/323 [00:01<00:00, 211.26it/s]\n"
          ]
        },
        {
          "output_type": "stream",
          "name": "stdout",
          "text": [
            "Epochs: 16 | Train Loss: 0.441 | Train Accuracy: 0.560\n",
            "Val loss: 0.458 | Val Accuracy: 0.472\n"
          ]
        },
        {
          "output_type": "stream",
          "name": "stderr",
          "text": [
            "100%|██████████| 323/323 [00:02<00:00, 128.54it/s]\n"
          ]
        },
        {
          "output_type": "stream",
          "name": "stdout",
          "text": [
            "Epochs: 17 | Train Loss: 0.436 | Train Accuracy: 0.576\n",
            "Val loss: 0.457 | Val Accuracy: 0.466\n"
          ]
        },
        {
          "output_type": "stream",
          "name": "stderr",
          "text": [
            "100%|██████████| 323/323 [00:01<00:00, 166.47it/s]\n"
          ]
        },
        {
          "output_type": "stream",
          "name": "stdout",
          "text": [
            "Epochs: 18 | Train Loss: 0.440 | Train Accuracy: 0.559\n",
            "Val loss: 0.456 | Val Accuracy: 0.479\n"
          ]
        },
        {
          "output_type": "stream",
          "name": "stderr",
          "text": [
            "100%|██████████| 323/323 [00:02<00:00, 160.88it/s]\n"
          ]
        },
        {
          "output_type": "stream",
          "name": "stdout",
          "text": [
            "Epochs: 19 | Train Loss: 0.432 | Train Accuracy: 0.587\n",
            "Val loss: 0.456 | Val Accuracy: 0.466\n"
          ]
        },
        {
          "output_type": "stream",
          "name": "stderr",
          "text": [
            "100%|██████████| 323/323 [00:01<00:00, 174.50it/s]\n"
          ]
        },
        {
          "output_type": "stream",
          "name": "stdout",
          "text": [
            "Epochs: 20 | Train Loss: 0.434 | Train Accuracy: 0.572\n",
            "Val loss: 0.456 | Val Accuracy: 0.466\n"
          ]
        },
        {
          "output_type": "stream",
          "name": "stderr",
          "text": [
            "100%|██████████| 263/263 [00:00<00:00, 591.75it/s]"
          ]
        },
        {
          "output_type": "stream",
          "name": "stdout",
          "text": [
            "Test accuracy:  0.753\n"
          ]
        },
        {
          "output_type": "stream",
          "name": "stderr",
          "text": [
            "\n"
          ]
        }
      ]
    },
    {
      "cell_type": "code",
      "source": [
        "# Generate classification report\n",
        "predicted_labels = [reverse_index_multiclass_label[y.item()] for y in predictions]\n",
        "print(classification_report(df_test_multiclass['label'], predicted_labels))"
      ],
      "metadata": {
        "colab": {
          "base_uri": "https://localhost:8080/"
        },
        "id": "dgJ5B8IuWS8i",
        "outputId": "c300d634-89c1-4a60-9d2c-56d343e8ee11"
      },
      "id": "dgJ5B8IuWS8i",
      "execution_count": 53,
      "outputs": [
        {
          "output_type": "stream",
          "name": "stdout",
          "text": [
            "                           precision    recall  f1-score   support\n",
            "\n",
            " appeal_to_fear_prejudice       0.76      0.68      0.72        28\n",
            "causal_oversimplification       0.78      0.74      0.76        42\n",
            "                    doubt       0.76      0.76      0.76        34\n",
            "exaggeration,minimisation       0.72      0.77      0.74        30\n",
            "              flag_waving       0.74      0.81      0.77        21\n",
            "          loaded_language       0.72      0.89      0.80        37\n",
            "    name_calling,labeling       0.71      0.83      0.76        35\n",
            "               repetition       0.91      0.56      0.69        36\n",
            "\n",
            "                 accuracy                           0.75       263\n",
            "                macro avg       0.76      0.75      0.75       263\n",
            "             weighted avg       0.76      0.75      0.75       263\n",
            "\n"
          ]
        }
      ]
    },
    {
      "cell_type": "code",
      "execution_count": 54,
      "id": "cc6ffb51",
      "metadata": {
        "id": "cc6ffb51"
      },
      "outputs": [],
      "source": [
        "#Save the GloVe Multiclass classifier\n",
        "output_dir=\"glove-multiclass-classifier\"\n",
        "torch.save(gloveMulticlassClassifier,output_dir)\n",
        "\n",
        "#Empty the CUDA cache and perform garbage collection to remove unused/unwanted data. Also delete model from memory\n",
        "#If you need the model for any purpose, uncomment the lines of code in the next cell and load the model.\n",
        "torch.cuda.empty_cache()\n",
        "gc.collect()\n",
        "del gloveMulticlassClassifier"
      ]
    },
    {
      "cell_type": "markdown",
      "id": "ac98879e",
      "metadata": {
        "id": "ac98879e"
      },
      "source": [
        "## **2.3. - BERT Multiclass Classifier**"
      ]
    },
    {
      "cell_type": "code",
      "execution_count": 55,
      "id": "47ba58c2",
      "metadata": {
        "id": "47ba58c2"
      },
      "outputs": [],
      "source": [
        "# Load the training, validation, and testing datasets\n",
        "train_data = Dataset(df_train_multiclass, multiclass_labels)\n",
        "test_data = Dataset(df_test_multiclass, multiclass_labels)\n",
        "validation_data = Dataset(df_validation_multiclass, multiclass_labels)"
      ]
    },
    {
      "cell_type": "code",
      "execution_count": 56,
      "id": "73794c9c",
      "metadata": {
        "id": "73794c9c"
      },
      "outputs": [],
      "source": [
        "class BertMulticlassClassifier(nn.Module):\n",
        "    \"\"\"\n",
        "    Code adapted from Advanced NLP Week 10 Lab solutions.\n",
        "    This class will define the structure of the neural network used for classification.\n",
        "    It also defines how the output from one layer will be propagated to the next.\n",
        "    This particular netowrk will get the embeddings from the pretrained BERT Model.\n",
        "\n",
        "    Input Parameters:\n",
        "    input_size: The size of the input data\n",
        "    output_size: The expected number of outputs, labels in the dataset.\n",
        "    dropout: The amount of layers to be randomly turned off to avoid overfitting the data.\n",
        "    \"\"\"\n",
        "    def __init__(self, num_classes=8):\n",
        "        super(BertMulticlassClassifier, self).__init__()\n",
        "        self.bert = BertModel.from_pretrained('bert-base-uncased')\n",
        "        self.dropout = nn.Dropout(0.1)\n",
        "        self.fc1 = nn.Linear(768, 400)\n",
        "        self.fc2 = nn.Linear(400, 100)\n",
        "        self.fc3 = nn.Linear(100, num_classes)\n",
        "        self.leakyrelu = nn.LeakyReLU(0.1)\n",
        "        self.softmax = nn.Softmax(dim=1)\n",
        "\n",
        "    def forward(self, input_ids, attention_mask):\n",
        "        _, pooled_output = self.bert(input_ids=input_ids, attention_mask=attention_mask, return_dict=False)\n",
        "        x = self.fc1(pooled_output)\n",
        "        x = self.leakyrelu(x)\n",
        "        x = self.dropout(x)\n",
        "        x = self.fc2(x)\n",
        "        x = self.leakyrelu(x)\n",
        "        x = self.dropout(x)\n",
        "        x = self.fc3(x)\n",
        "        x = self.leakyrelu(x)\n",
        "        final_output = self.softmax(x)\n",
        "\n",
        "        return final_output"
      ]
    },
    {
      "cell_type": "code",
      "execution_count": 57,
      "id": "74b39f2c",
      "metadata": {
        "id": "74b39f2c"
      },
      "outputs": [],
      "source": [
        "EPOCHS=2\n",
        "LR=1e-05\n",
        "model=BertMulticlassClassifier(num_classes=len(multiclass_labels.keys()))\n"
      ]
    },
    {
      "cell_type": "code",
      "execution_count": 58,
      "id": "f8ed22cb",
      "metadata": {
        "colab": {
          "base_uri": "https://localhost:8080/"
        },
        "id": "f8ed22cb",
        "outputId": "c6a87201-114c-44d1-ec4d-ef325812e654"
      },
      "outputs": [
        {
          "output_type": "stream",
          "name": "stderr",
          "text": [
            "100%|██████████| 323/323 [02:02<00:00,  2.63it/s]\n"
          ]
        },
        {
          "output_type": "stream",
          "name": "stdout",
          "text": [
            "Epochs: 1 | Train Loss: 0.519 | Train Accuracy: 0.168\n",
            "Val loss: 1.034 | Val Accuracy: 0.194\n"
          ]
        },
        {
          "output_type": "stream",
          "name": "stderr",
          "text": [
            "100%|██████████| 323/323 [02:08<00:00,  2.51it/s]\n"
          ]
        },
        {
          "output_type": "stream",
          "name": "stdout",
          "text": [
            "Epochs: 2 | Train Loss: 0.513 | Train Accuracy: 0.197\n",
            "Val loss: 1.029 | Val Accuracy: 0.184\n"
          ]
        }
      ],
      "source": [
        "train(model,train_data,validation_data,LR,EPOCHS, 4)"
      ]
    },
    {
      "cell_type": "code",
      "execution_count": 59,
      "id": "VG4iWednbC99",
      "metadata": {
        "id": "VG4iWednbC99",
        "colab": {
          "base_uri": "https://localhost:8080/"
        },
        "outputId": "6d53f5d5-74d1-4567-97a3-2e730a9c6a7c"
      },
      "outputs": [
        {
          "output_type": "stream",
          "name": "stderr",
          "text": [
            " 40%|███▉      | 105/263 [00:04<00:06, 25.65it/s]"
          ]
        },
        {
          "output_type": "stream",
          "name": "stdout",
          "text": [
            "Accuracy so far =  0.300\n"
          ]
        },
        {
          "output_type": "stream",
          "name": "stderr",
          "text": [
            " 78%|███████▊  | 204/263 [00:07<00:02, 25.89it/s]"
          ]
        },
        {
          "output_type": "stream",
          "name": "stdout",
          "text": [
            "Accuracy so far =  0.290\n"
          ]
        },
        {
          "output_type": "stream",
          "name": "stderr",
          "text": [
            "100%|██████████| 263/263 [00:10<00:00, 25.81it/s]"
          ]
        },
        {
          "output_type": "stream",
          "name": "stdout",
          "text": [
            "Test accuracy:  0.270\n"
          ]
        },
        {
          "output_type": "stream",
          "name": "stderr",
          "text": [
            "\n"
          ]
        }
      ],
      "source": [
        "predictions, acc=evaluate(model, test_data, 1)"
      ]
    },
    {
      "cell_type": "code",
      "execution_count": 60,
      "id": "5e829e7d",
      "metadata": {
        "id": "5e829e7d"
      },
      "outputs": [],
      "source": [
        "output_dir=\"bert-base-multiclass_classifier\"\n",
        "torch.save(model,output_dir)"
      ]
    },
    {
      "cell_type": "code",
      "execution_count": 61,
      "id": "1c08b0db",
      "metadata": {
        "id": "1c08b0db"
      },
      "outputs": [],
      "source": [
        "# #Empty the CUDA cache and perform garbage collection to remove unused/unwanted data. Also delete model from memory\n",
        "# #If you need the model for any purpose, uncomment the lines of code in the next cell and load the model.\n",
        "torch.cuda.empty_cache()\n",
        "gc.collect()\n",
        "del model"
      ]
    },
    {
      "cell_type": "code",
      "source": [],
      "metadata": {
        "id": "-pvi0c409sVZ"
      },
      "id": "-pvi0c409sVZ",
      "execution_count": null,
      "outputs": []
    }
  ],
  "metadata": {
    "accelerator": "GPU",
    "colab": {
      "gpuType": "T4",
      "provenance": []
    },
    "kernelspec": {
      "display_name": "Python 3",
      "name": "python3"
    },
    "language_info": {
      "codemirror_mode": {
        "name": "ipython",
        "version": 3
      },
      "file_extension": ".py",
      "mimetype": "text/x-python",
      "name": "python",
      "nbconvert_exporter": "python",
      "pygments_lexer": "ipython3",
      "version": "3.11.4"
    },
    "widgets": {
      "application/vnd.jupyter.widget-state+json": {
        "f3600bf557fe441cb7033ed800b8a9c3": {
          "model_module": "@jupyter-widgets/controls",
          "model_name": "HBoxModel",
          "model_module_version": "1.5.0",
          "state": {
            "_dom_classes": [],
            "_model_module": "@jupyter-widgets/controls",
            "_model_module_version": "1.5.0",
            "_model_name": "HBoxModel",
            "_view_count": null,
            "_view_module": "@jupyter-widgets/controls",
            "_view_module_version": "1.5.0",
            "_view_name": "HBoxView",
            "box_style": "",
            "children": [
              "IPY_MODEL_9b5528bcb92f481fab93119ba7895d1a",
              "IPY_MODEL_606db3ad58c34b348aadda96d9ae333d",
              "IPY_MODEL_83f378b55d6747c2a7723cca54d6ea59"
            ],
            "layout": "IPY_MODEL_e1d8172e61e74c4b8ea3059f163fd632"
          }
        },
        "9b5528bcb92f481fab93119ba7895d1a": {
          "model_module": "@jupyter-widgets/controls",
          "model_name": "HTMLModel",
          "model_module_version": "1.5.0",
          "state": {
            "_dom_classes": [],
            "_model_module": "@jupyter-widgets/controls",
            "_model_module_version": "1.5.0",
            "_model_name": "HTMLModel",
            "_view_count": null,
            "_view_module": "@jupyter-widgets/controls",
            "_view_module_version": "1.5.0",
            "_view_name": "HTMLView",
            "description": "",
            "description_tooltip": null,
            "layout": "IPY_MODEL_a60c8d120d2047678d42ed4d241a2ad7",
            "placeholder": "​",
            "style": "IPY_MODEL_33758edd1cf441898f44b96f4dae4ff7",
            "value": "tokenizer_config.json: 100%"
          }
        },
        "606db3ad58c34b348aadda96d9ae333d": {
          "model_module": "@jupyter-widgets/controls",
          "model_name": "FloatProgressModel",
          "model_module_version": "1.5.0",
          "state": {
            "_dom_classes": [],
            "_model_module": "@jupyter-widgets/controls",
            "_model_module_version": "1.5.0",
            "_model_name": "FloatProgressModel",
            "_view_count": null,
            "_view_module": "@jupyter-widgets/controls",
            "_view_module_version": "1.5.0",
            "_view_name": "ProgressView",
            "bar_style": "success",
            "description": "",
            "description_tooltip": null,
            "layout": "IPY_MODEL_f0eb532170574ab09347155b1a85e828",
            "max": 48,
            "min": 0,
            "orientation": "horizontal",
            "style": "IPY_MODEL_0e821b8ca5e44a4aac0127667a6a3c44",
            "value": 48
          }
        },
        "83f378b55d6747c2a7723cca54d6ea59": {
          "model_module": "@jupyter-widgets/controls",
          "model_name": "HTMLModel",
          "model_module_version": "1.5.0",
          "state": {
            "_dom_classes": [],
            "_model_module": "@jupyter-widgets/controls",
            "_model_module_version": "1.5.0",
            "_model_name": "HTMLModel",
            "_view_count": null,
            "_view_module": "@jupyter-widgets/controls",
            "_view_module_version": "1.5.0",
            "_view_name": "HTMLView",
            "description": "",
            "description_tooltip": null,
            "layout": "IPY_MODEL_b1d9178adce4452db955eafb58fbbd8c",
            "placeholder": "​",
            "style": "IPY_MODEL_042273d5652b42f78f0d5be3b26c9d87",
            "value": " 48.0/48.0 [00:00&lt;00:00, 1.92kB/s]"
          }
        },
        "e1d8172e61e74c4b8ea3059f163fd632": {
          "model_module": "@jupyter-widgets/base",
          "model_name": "LayoutModel",
          "model_module_version": "1.2.0",
          "state": {
            "_model_module": "@jupyter-widgets/base",
            "_model_module_version": "1.2.0",
            "_model_name": "LayoutModel",
            "_view_count": null,
            "_view_module": "@jupyter-widgets/base",
            "_view_module_version": "1.2.0",
            "_view_name": "LayoutView",
            "align_content": null,
            "align_items": null,
            "align_self": null,
            "border": null,
            "bottom": null,
            "display": null,
            "flex": null,
            "flex_flow": null,
            "grid_area": null,
            "grid_auto_columns": null,
            "grid_auto_flow": null,
            "grid_auto_rows": null,
            "grid_column": null,
            "grid_gap": null,
            "grid_row": null,
            "grid_template_areas": null,
            "grid_template_columns": null,
            "grid_template_rows": null,
            "height": null,
            "justify_content": null,
            "justify_items": null,
            "left": null,
            "margin": null,
            "max_height": null,
            "max_width": null,
            "min_height": null,
            "min_width": null,
            "object_fit": null,
            "object_position": null,
            "order": null,
            "overflow": null,
            "overflow_x": null,
            "overflow_y": null,
            "padding": null,
            "right": null,
            "top": null,
            "visibility": null,
            "width": null
          }
        },
        "a60c8d120d2047678d42ed4d241a2ad7": {
          "model_module": "@jupyter-widgets/base",
          "model_name": "LayoutModel",
          "model_module_version": "1.2.0",
          "state": {
            "_model_module": "@jupyter-widgets/base",
            "_model_module_version": "1.2.0",
            "_model_name": "LayoutModel",
            "_view_count": null,
            "_view_module": "@jupyter-widgets/base",
            "_view_module_version": "1.2.0",
            "_view_name": "LayoutView",
            "align_content": null,
            "align_items": null,
            "align_self": null,
            "border": null,
            "bottom": null,
            "display": null,
            "flex": null,
            "flex_flow": null,
            "grid_area": null,
            "grid_auto_columns": null,
            "grid_auto_flow": null,
            "grid_auto_rows": null,
            "grid_column": null,
            "grid_gap": null,
            "grid_row": null,
            "grid_template_areas": null,
            "grid_template_columns": null,
            "grid_template_rows": null,
            "height": null,
            "justify_content": null,
            "justify_items": null,
            "left": null,
            "margin": null,
            "max_height": null,
            "max_width": null,
            "min_height": null,
            "min_width": null,
            "object_fit": null,
            "object_position": null,
            "order": null,
            "overflow": null,
            "overflow_x": null,
            "overflow_y": null,
            "padding": null,
            "right": null,
            "top": null,
            "visibility": null,
            "width": null
          }
        },
        "33758edd1cf441898f44b96f4dae4ff7": {
          "model_module": "@jupyter-widgets/controls",
          "model_name": "DescriptionStyleModel",
          "model_module_version": "1.5.0",
          "state": {
            "_model_module": "@jupyter-widgets/controls",
            "_model_module_version": "1.5.0",
            "_model_name": "DescriptionStyleModel",
            "_view_count": null,
            "_view_module": "@jupyter-widgets/base",
            "_view_module_version": "1.2.0",
            "_view_name": "StyleView",
            "description_width": ""
          }
        },
        "f0eb532170574ab09347155b1a85e828": {
          "model_module": "@jupyter-widgets/base",
          "model_name": "LayoutModel",
          "model_module_version": "1.2.0",
          "state": {
            "_model_module": "@jupyter-widgets/base",
            "_model_module_version": "1.2.0",
            "_model_name": "LayoutModel",
            "_view_count": null,
            "_view_module": "@jupyter-widgets/base",
            "_view_module_version": "1.2.0",
            "_view_name": "LayoutView",
            "align_content": null,
            "align_items": null,
            "align_self": null,
            "border": null,
            "bottom": null,
            "display": null,
            "flex": null,
            "flex_flow": null,
            "grid_area": null,
            "grid_auto_columns": null,
            "grid_auto_flow": null,
            "grid_auto_rows": null,
            "grid_column": null,
            "grid_gap": null,
            "grid_row": null,
            "grid_template_areas": null,
            "grid_template_columns": null,
            "grid_template_rows": null,
            "height": null,
            "justify_content": null,
            "justify_items": null,
            "left": null,
            "margin": null,
            "max_height": null,
            "max_width": null,
            "min_height": null,
            "min_width": null,
            "object_fit": null,
            "object_position": null,
            "order": null,
            "overflow": null,
            "overflow_x": null,
            "overflow_y": null,
            "padding": null,
            "right": null,
            "top": null,
            "visibility": null,
            "width": null
          }
        },
        "0e821b8ca5e44a4aac0127667a6a3c44": {
          "model_module": "@jupyter-widgets/controls",
          "model_name": "ProgressStyleModel",
          "model_module_version": "1.5.0",
          "state": {
            "_model_module": "@jupyter-widgets/controls",
            "_model_module_version": "1.5.0",
            "_model_name": "ProgressStyleModel",
            "_view_count": null,
            "_view_module": "@jupyter-widgets/base",
            "_view_module_version": "1.2.0",
            "_view_name": "StyleView",
            "bar_color": null,
            "description_width": ""
          }
        },
        "b1d9178adce4452db955eafb58fbbd8c": {
          "model_module": "@jupyter-widgets/base",
          "model_name": "LayoutModel",
          "model_module_version": "1.2.0",
          "state": {
            "_model_module": "@jupyter-widgets/base",
            "_model_module_version": "1.2.0",
            "_model_name": "LayoutModel",
            "_view_count": null,
            "_view_module": "@jupyter-widgets/base",
            "_view_module_version": "1.2.0",
            "_view_name": "LayoutView",
            "align_content": null,
            "align_items": null,
            "align_self": null,
            "border": null,
            "bottom": null,
            "display": null,
            "flex": null,
            "flex_flow": null,
            "grid_area": null,
            "grid_auto_columns": null,
            "grid_auto_flow": null,
            "grid_auto_rows": null,
            "grid_column": null,
            "grid_gap": null,
            "grid_row": null,
            "grid_template_areas": null,
            "grid_template_columns": null,
            "grid_template_rows": null,
            "height": null,
            "justify_content": null,
            "justify_items": null,
            "left": null,
            "margin": null,
            "max_height": null,
            "max_width": null,
            "min_height": null,
            "min_width": null,
            "object_fit": null,
            "object_position": null,
            "order": null,
            "overflow": null,
            "overflow_x": null,
            "overflow_y": null,
            "padding": null,
            "right": null,
            "top": null,
            "visibility": null,
            "width": null
          }
        },
        "042273d5652b42f78f0d5be3b26c9d87": {
          "model_module": "@jupyter-widgets/controls",
          "model_name": "DescriptionStyleModel",
          "model_module_version": "1.5.0",
          "state": {
            "_model_module": "@jupyter-widgets/controls",
            "_model_module_version": "1.5.0",
            "_model_name": "DescriptionStyleModel",
            "_view_count": null,
            "_view_module": "@jupyter-widgets/base",
            "_view_module_version": "1.2.0",
            "_view_name": "StyleView",
            "description_width": ""
          }
        },
        "43d9dbe7daf74f1ba47c697415115710": {
          "model_module": "@jupyter-widgets/controls",
          "model_name": "HBoxModel",
          "model_module_version": "1.5.0",
          "state": {
            "_dom_classes": [],
            "_model_module": "@jupyter-widgets/controls",
            "_model_module_version": "1.5.0",
            "_model_name": "HBoxModel",
            "_view_count": null,
            "_view_module": "@jupyter-widgets/controls",
            "_view_module_version": "1.5.0",
            "_view_name": "HBoxView",
            "box_style": "",
            "children": [
              "IPY_MODEL_d9a8206868b2456c8dc96186e4c4bed1",
              "IPY_MODEL_9b421753930440519d6c868d4fa36a10",
              "IPY_MODEL_fb815e4c72554442bfad1c647985dcf2"
            ],
            "layout": "IPY_MODEL_795444314c6e457d8914e9c2269a27e9"
          }
        },
        "d9a8206868b2456c8dc96186e4c4bed1": {
          "model_module": "@jupyter-widgets/controls",
          "model_name": "HTMLModel",
          "model_module_version": "1.5.0",
          "state": {
            "_dom_classes": [],
            "_model_module": "@jupyter-widgets/controls",
            "_model_module_version": "1.5.0",
            "_model_name": "HTMLModel",
            "_view_count": null,
            "_view_module": "@jupyter-widgets/controls",
            "_view_module_version": "1.5.0",
            "_view_name": "HTMLView",
            "description": "",
            "description_tooltip": null,
            "layout": "IPY_MODEL_87da18c148c44682812892ad4308f808",
            "placeholder": "​",
            "style": "IPY_MODEL_5da09ae30986445ea192782378592b78",
            "value": "vocab.txt: 100%"
          }
        },
        "9b421753930440519d6c868d4fa36a10": {
          "model_module": "@jupyter-widgets/controls",
          "model_name": "FloatProgressModel",
          "model_module_version": "1.5.0",
          "state": {
            "_dom_classes": [],
            "_model_module": "@jupyter-widgets/controls",
            "_model_module_version": "1.5.0",
            "_model_name": "FloatProgressModel",
            "_view_count": null,
            "_view_module": "@jupyter-widgets/controls",
            "_view_module_version": "1.5.0",
            "_view_name": "ProgressView",
            "bar_style": "success",
            "description": "",
            "description_tooltip": null,
            "layout": "IPY_MODEL_3cc289970e8c4464a91f00f75bc2e732",
            "max": 231508,
            "min": 0,
            "orientation": "horizontal",
            "style": "IPY_MODEL_988ccd2285fc45c9853b10a3743867ee",
            "value": 231508
          }
        },
        "fb815e4c72554442bfad1c647985dcf2": {
          "model_module": "@jupyter-widgets/controls",
          "model_name": "HTMLModel",
          "model_module_version": "1.5.0",
          "state": {
            "_dom_classes": [],
            "_model_module": "@jupyter-widgets/controls",
            "_model_module_version": "1.5.0",
            "_model_name": "HTMLModel",
            "_view_count": null,
            "_view_module": "@jupyter-widgets/controls",
            "_view_module_version": "1.5.0",
            "_view_name": "HTMLView",
            "description": "",
            "description_tooltip": null,
            "layout": "IPY_MODEL_0e8a380db8874820ac634bc656d34812",
            "placeholder": "​",
            "style": "IPY_MODEL_fe7ce7202b374d808040231fcd080a81",
            "value": " 232k/232k [00:00&lt;00:00, 7.30MB/s]"
          }
        },
        "795444314c6e457d8914e9c2269a27e9": {
          "model_module": "@jupyter-widgets/base",
          "model_name": "LayoutModel",
          "model_module_version": "1.2.0",
          "state": {
            "_model_module": "@jupyter-widgets/base",
            "_model_module_version": "1.2.0",
            "_model_name": "LayoutModel",
            "_view_count": null,
            "_view_module": "@jupyter-widgets/base",
            "_view_module_version": "1.2.0",
            "_view_name": "LayoutView",
            "align_content": null,
            "align_items": null,
            "align_self": null,
            "border": null,
            "bottom": null,
            "display": null,
            "flex": null,
            "flex_flow": null,
            "grid_area": null,
            "grid_auto_columns": null,
            "grid_auto_flow": null,
            "grid_auto_rows": null,
            "grid_column": null,
            "grid_gap": null,
            "grid_row": null,
            "grid_template_areas": null,
            "grid_template_columns": null,
            "grid_template_rows": null,
            "height": null,
            "justify_content": null,
            "justify_items": null,
            "left": null,
            "margin": null,
            "max_height": null,
            "max_width": null,
            "min_height": null,
            "min_width": null,
            "object_fit": null,
            "object_position": null,
            "order": null,
            "overflow": null,
            "overflow_x": null,
            "overflow_y": null,
            "padding": null,
            "right": null,
            "top": null,
            "visibility": null,
            "width": null
          }
        },
        "87da18c148c44682812892ad4308f808": {
          "model_module": "@jupyter-widgets/base",
          "model_name": "LayoutModel",
          "model_module_version": "1.2.0",
          "state": {
            "_model_module": "@jupyter-widgets/base",
            "_model_module_version": "1.2.0",
            "_model_name": "LayoutModel",
            "_view_count": null,
            "_view_module": "@jupyter-widgets/base",
            "_view_module_version": "1.2.0",
            "_view_name": "LayoutView",
            "align_content": null,
            "align_items": null,
            "align_self": null,
            "border": null,
            "bottom": null,
            "display": null,
            "flex": null,
            "flex_flow": null,
            "grid_area": null,
            "grid_auto_columns": null,
            "grid_auto_flow": null,
            "grid_auto_rows": null,
            "grid_column": null,
            "grid_gap": null,
            "grid_row": null,
            "grid_template_areas": null,
            "grid_template_columns": null,
            "grid_template_rows": null,
            "height": null,
            "justify_content": null,
            "justify_items": null,
            "left": null,
            "margin": null,
            "max_height": null,
            "max_width": null,
            "min_height": null,
            "min_width": null,
            "object_fit": null,
            "object_position": null,
            "order": null,
            "overflow": null,
            "overflow_x": null,
            "overflow_y": null,
            "padding": null,
            "right": null,
            "top": null,
            "visibility": null,
            "width": null
          }
        },
        "5da09ae30986445ea192782378592b78": {
          "model_module": "@jupyter-widgets/controls",
          "model_name": "DescriptionStyleModel",
          "model_module_version": "1.5.0",
          "state": {
            "_model_module": "@jupyter-widgets/controls",
            "_model_module_version": "1.5.0",
            "_model_name": "DescriptionStyleModel",
            "_view_count": null,
            "_view_module": "@jupyter-widgets/base",
            "_view_module_version": "1.2.0",
            "_view_name": "StyleView",
            "description_width": ""
          }
        },
        "3cc289970e8c4464a91f00f75bc2e732": {
          "model_module": "@jupyter-widgets/base",
          "model_name": "LayoutModel",
          "model_module_version": "1.2.0",
          "state": {
            "_model_module": "@jupyter-widgets/base",
            "_model_module_version": "1.2.0",
            "_model_name": "LayoutModel",
            "_view_count": null,
            "_view_module": "@jupyter-widgets/base",
            "_view_module_version": "1.2.0",
            "_view_name": "LayoutView",
            "align_content": null,
            "align_items": null,
            "align_self": null,
            "border": null,
            "bottom": null,
            "display": null,
            "flex": null,
            "flex_flow": null,
            "grid_area": null,
            "grid_auto_columns": null,
            "grid_auto_flow": null,
            "grid_auto_rows": null,
            "grid_column": null,
            "grid_gap": null,
            "grid_row": null,
            "grid_template_areas": null,
            "grid_template_columns": null,
            "grid_template_rows": null,
            "height": null,
            "justify_content": null,
            "justify_items": null,
            "left": null,
            "margin": null,
            "max_height": null,
            "max_width": null,
            "min_height": null,
            "min_width": null,
            "object_fit": null,
            "object_position": null,
            "order": null,
            "overflow": null,
            "overflow_x": null,
            "overflow_y": null,
            "padding": null,
            "right": null,
            "top": null,
            "visibility": null,
            "width": null
          }
        },
        "988ccd2285fc45c9853b10a3743867ee": {
          "model_module": "@jupyter-widgets/controls",
          "model_name": "ProgressStyleModel",
          "model_module_version": "1.5.0",
          "state": {
            "_model_module": "@jupyter-widgets/controls",
            "_model_module_version": "1.5.0",
            "_model_name": "ProgressStyleModel",
            "_view_count": null,
            "_view_module": "@jupyter-widgets/base",
            "_view_module_version": "1.2.0",
            "_view_name": "StyleView",
            "bar_color": null,
            "description_width": ""
          }
        },
        "0e8a380db8874820ac634bc656d34812": {
          "model_module": "@jupyter-widgets/base",
          "model_name": "LayoutModel",
          "model_module_version": "1.2.0",
          "state": {
            "_model_module": "@jupyter-widgets/base",
            "_model_module_version": "1.2.0",
            "_model_name": "LayoutModel",
            "_view_count": null,
            "_view_module": "@jupyter-widgets/base",
            "_view_module_version": "1.2.0",
            "_view_name": "LayoutView",
            "align_content": null,
            "align_items": null,
            "align_self": null,
            "border": null,
            "bottom": null,
            "display": null,
            "flex": null,
            "flex_flow": null,
            "grid_area": null,
            "grid_auto_columns": null,
            "grid_auto_flow": null,
            "grid_auto_rows": null,
            "grid_column": null,
            "grid_gap": null,
            "grid_row": null,
            "grid_template_areas": null,
            "grid_template_columns": null,
            "grid_template_rows": null,
            "height": null,
            "justify_content": null,
            "justify_items": null,
            "left": null,
            "margin": null,
            "max_height": null,
            "max_width": null,
            "min_height": null,
            "min_width": null,
            "object_fit": null,
            "object_position": null,
            "order": null,
            "overflow": null,
            "overflow_x": null,
            "overflow_y": null,
            "padding": null,
            "right": null,
            "top": null,
            "visibility": null,
            "width": null
          }
        },
        "fe7ce7202b374d808040231fcd080a81": {
          "model_module": "@jupyter-widgets/controls",
          "model_name": "DescriptionStyleModel",
          "model_module_version": "1.5.0",
          "state": {
            "_model_module": "@jupyter-widgets/controls",
            "_model_module_version": "1.5.0",
            "_model_name": "DescriptionStyleModel",
            "_view_count": null,
            "_view_module": "@jupyter-widgets/base",
            "_view_module_version": "1.2.0",
            "_view_name": "StyleView",
            "description_width": ""
          }
        },
        "6ce52e3c33eb4006aec4dc4b7abedf1e": {
          "model_module": "@jupyter-widgets/controls",
          "model_name": "HBoxModel",
          "model_module_version": "1.5.0",
          "state": {
            "_dom_classes": [],
            "_model_module": "@jupyter-widgets/controls",
            "_model_module_version": "1.5.0",
            "_model_name": "HBoxModel",
            "_view_count": null,
            "_view_module": "@jupyter-widgets/controls",
            "_view_module_version": "1.5.0",
            "_view_name": "HBoxView",
            "box_style": "",
            "children": [
              "IPY_MODEL_0c8dc017a54f48d692c20c673802b950",
              "IPY_MODEL_24bcb2ed4681449bbc053f84965f5f17",
              "IPY_MODEL_08fe293a498c478faa867e2503fc5933"
            ],
            "layout": "IPY_MODEL_29ccd44239fd4c16a0d5a40c022f80e9"
          }
        },
        "0c8dc017a54f48d692c20c673802b950": {
          "model_module": "@jupyter-widgets/controls",
          "model_name": "HTMLModel",
          "model_module_version": "1.5.0",
          "state": {
            "_dom_classes": [],
            "_model_module": "@jupyter-widgets/controls",
            "_model_module_version": "1.5.0",
            "_model_name": "HTMLModel",
            "_view_count": null,
            "_view_module": "@jupyter-widgets/controls",
            "_view_module_version": "1.5.0",
            "_view_name": "HTMLView",
            "description": "",
            "description_tooltip": null,
            "layout": "IPY_MODEL_5c1cdd804c3e47da9e320469b7ec3379",
            "placeholder": "​",
            "style": "IPY_MODEL_135d9b8fc2a8467ea160768df9f4fbf7",
            "value": "tokenizer.json: 100%"
          }
        },
        "24bcb2ed4681449bbc053f84965f5f17": {
          "model_module": "@jupyter-widgets/controls",
          "model_name": "FloatProgressModel",
          "model_module_version": "1.5.0",
          "state": {
            "_dom_classes": [],
            "_model_module": "@jupyter-widgets/controls",
            "_model_module_version": "1.5.0",
            "_model_name": "FloatProgressModel",
            "_view_count": null,
            "_view_module": "@jupyter-widgets/controls",
            "_view_module_version": "1.5.0",
            "_view_name": "ProgressView",
            "bar_style": "success",
            "description": "",
            "description_tooltip": null,
            "layout": "IPY_MODEL_df9492ea1fd84650984576c2d414cf84",
            "max": 466062,
            "min": 0,
            "orientation": "horizontal",
            "style": "IPY_MODEL_f87996e1add8409e92b9545235bb2af1",
            "value": 466062
          }
        },
        "08fe293a498c478faa867e2503fc5933": {
          "model_module": "@jupyter-widgets/controls",
          "model_name": "HTMLModel",
          "model_module_version": "1.5.0",
          "state": {
            "_dom_classes": [],
            "_model_module": "@jupyter-widgets/controls",
            "_model_module_version": "1.5.0",
            "_model_name": "HTMLModel",
            "_view_count": null,
            "_view_module": "@jupyter-widgets/controls",
            "_view_module_version": "1.5.0",
            "_view_name": "HTMLView",
            "description": "",
            "description_tooltip": null,
            "layout": "IPY_MODEL_3d9eafbea23442699b722c7b7e23e970",
            "placeholder": "​",
            "style": "IPY_MODEL_b6e3aa847cb344ddada82d3d8734ea9a",
            "value": " 466k/466k [00:00&lt;00:00, 2.80MB/s]"
          }
        },
        "29ccd44239fd4c16a0d5a40c022f80e9": {
          "model_module": "@jupyter-widgets/base",
          "model_name": "LayoutModel",
          "model_module_version": "1.2.0",
          "state": {
            "_model_module": "@jupyter-widgets/base",
            "_model_module_version": "1.2.0",
            "_model_name": "LayoutModel",
            "_view_count": null,
            "_view_module": "@jupyter-widgets/base",
            "_view_module_version": "1.2.0",
            "_view_name": "LayoutView",
            "align_content": null,
            "align_items": null,
            "align_self": null,
            "border": null,
            "bottom": null,
            "display": null,
            "flex": null,
            "flex_flow": null,
            "grid_area": null,
            "grid_auto_columns": null,
            "grid_auto_flow": null,
            "grid_auto_rows": null,
            "grid_column": null,
            "grid_gap": null,
            "grid_row": null,
            "grid_template_areas": null,
            "grid_template_columns": null,
            "grid_template_rows": null,
            "height": null,
            "justify_content": null,
            "justify_items": null,
            "left": null,
            "margin": null,
            "max_height": null,
            "max_width": null,
            "min_height": null,
            "min_width": null,
            "object_fit": null,
            "object_position": null,
            "order": null,
            "overflow": null,
            "overflow_x": null,
            "overflow_y": null,
            "padding": null,
            "right": null,
            "top": null,
            "visibility": null,
            "width": null
          }
        },
        "5c1cdd804c3e47da9e320469b7ec3379": {
          "model_module": "@jupyter-widgets/base",
          "model_name": "LayoutModel",
          "model_module_version": "1.2.0",
          "state": {
            "_model_module": "@jupyter-widgets/base",
            "_model_module_version": "1.2.0",
            "_model_name": "LayoutModel",
            "_view_count": null,
            "_view_module": "@jupyter-widgets/base",
            "_view_module_version": "1.2.0",
            "_view_name": "LayoutView",
            "align_content": null,
            "align_items": null,
            "align_self": null,
            "border": null,
            "bottom": null,
            "display": null,
            "flex": null,
            "flex_flow": null,
            "grid_area": null,
            "grid_auto_columns": null,
            "grid_auto_flow": null,
            "grid_auto_rows": null,
            "grid_column": null,
            "grid_gap": null,
            "grid_row": null,
            "grid_template_areas": null,
            "grid_template_columns": null,
            "grid_template_rows": null,
            "height": null,
            "justify_content": null,
            "justify_items": null,
            "left": null,
            "margin": null,
            "max_height": null,
            "max_width": null,
            "min_height": null,
            "min_width": null,
            "object_fit": null,
            "object_position": null,
            "order": null,
            "overflow": null,
            "overflow_x": null,
            "overflow_y": null,
            "padding": null,
            "right": null,
            "top": null,
            "visibility": null,
            "width": null
          }
        },
        "135d9b8fc2a8467ea160768df9f4fbf7": {
          "model_module": "@jupyter-widgets/controls",
          "model_name": "DescriptionStyleModel",
          "model_module_version": "1.5.0",
          "state": {
            "_model_module": "@jupyter-widgets/controls",
            "_model_module_version": "1.5.0",
            "_model_name": "DescriptionStyleModel",
            "_view_count": null,
            "_view_module": "@jupyter-widgets/base",
            "_view_module_version": "1.2.0",
            "_view_name": "StyleView",
            "description_width": ""
          }
        },
        "df9492ea1fd84650984576c2d414cf84": {
          "model_module": "@jupyter-widgets/base",
          "model_name": "LayoutModel",
          "model_module_version": "1.2.0",
          "state": {
            "_model_module": "@jupyter-widgets/base",
            "_model_module_version": "1.2.0",
            "_model_name": "LayoutModel",
            "_view_count": null,
            "_view_module": "@jupyter-widgets/base",
            "_view_module_version": "1.2.0",
            "_view_name": "LayoutView",
            "align_content": null,
            "align_items": null,
            "align_self": null,
            "border": null,
            "bottom": null,
            "display": null,
            "flex": null,
            "flex_flow": null,
            "grid_area": null,
            "grid_auto_columns": null,
            "grid_auto_flow": null,
            "grid_auto_rows": null,
            "grid_column": null,
            "grid_gap": null,
            "grid_row": null,
            "grid_template_areas": null,
            "grid_template_columns": null,
            "grid_template_rows": null,
            "height": null,
            "justify_content": null,
            "justify_items": null,
            "left": null,
            "margin": null,
            "max_height": null,
            "max_width": null,
            "min_height": null,
            "min_width": null,
            "object_fit": null,
            "object_position": null,
            "order": null,
            "overflow": null,
            "overflow_x": null,
            "overflow_y": null,
            "padding": null,
            "right": null,
            "top": null,
            "visibility": null,
            "width": null
          }
        },
        "f87996e1add8409e92b9545235bb2af1": {
          "model_module": "@jupyter-widgets/controls",
          "model_name": "ProgressStyleModel",
          "model_module_version": "1.5.0",
          "state": {
            "_model_module": "@jupyter-widgets/controls",
            "_model_module_version": "1.5.0",
            "_model_name": "ProgressStyleModel",
            "_view_count": null,
            "_view_module": "@jupyter-widgets/base",
            "_view_module_version": "1.2.0",
            "_view_name": "StyleView",
            "bar_color": null,
            "description_width": ""
          }
        },
        "3d9eafbea23442699b722c7b7e23e970": {
          "model_module": "@jupyter-widgets/base",
          "model_name": "LayoutModel",
          "model_module_version": "1.2.0",
          "state": {
            "_model_module": "@jupyter-widgets/base",
            "_model_module_version": "1.2.0",
            "_model_name": "LayoutModel",
            "_view_count": null,
            "_view_module": "@jupyter-widgets/base",
            "_view_module_version": "1.2.0",
            "_view_name": "LayoutView",
            "align_content": null,
            "align_items": null,
            "align_self": null,
            "border": null,
            "bottom": null,
            "display": null,
            "flex": null,
            "flex_flow": null,
            "grid_area": null,
            "grid_auto_columns": null,
            "grid_auto_flow": null,
            "grid_auto_rows": null,
            "grid_column": null,
            "grid_gap": null,
            "grid_row": null,
            "grid_template_areas": null,
            "grid_template_columns": null,
            "grid_template_rows": null,
            "height": null,
            "justify_content": null,
            "justify_items": null,
            "left": null,
            "margin": null,
            "max_height": null,
            "max_width": null,
            "min_height": null,
            "min_width": null,
            "object_fit": null,
            "object_position": null,
            "order": null,
            "overflow": null,
            "overflow_x": null,
            "overflow_y": null,
            "padding": null,
            "right": null,
            "top": null,
            "visibility": null,
            "width": null
          }
        },
        "b6e3aa847cb344ddada82d3d8734ea9a": {
          "model_module": "@jupyter-widgets/controls",
          "model_name": "DescriptionStyleModel",
          "model_module_version": "1.5.0",
          "state": {
            "_model_module": "@jupyter-widgets/controls",
            "_model_module_version": "1.5.0",
            "_model_name": "DescriptionStyleModel",
            "_view_count": null,
            "_view_module": "@jupyter-widgets/base",
            "_view_module_version": "1.2.0",
            "_view_name": "StyleView",
            "description_width": ""
          }
        },
        "88d1726e78d448fdbab49950ac8ea826": {
          "model_module": "@jupyter-widgets/controls",
          "model_name": "HBoxModel",
          "model_module_version": "1.5.0",
          "state": {
            "_dom_classes": [],
            "_model_module": "@jupyter-widgets/controls",
            "_model_module_version": "1.5.0",
            "_model_name": "HBoxModel",
            "_view_count": null,
            "_view_module": "@jupyter-widgets/controls",
            "_view_module_version": "1.5.0",
            "_view_name": "HBoxView",
            "box_style": "",
            "children": [
              "IPY_MODEL_2d570f0f1a7a449d9d38f1b81bd481ce",
              "IPY_MODEL_d2eaa98d520b47bb85833a7202e232b4",
              "IPY_MODEL_f2a23495ec3f4b49a1a33fa478e62b74"
            ],
            "layout": "IPY_MODEL_eebb29c04b8d40d5899ae9d4c38c6c14"
          }
        },
        "2d570f0f1a7a449d9d38f1b81bd481ce": {
          "model_module": "@jupyter-widgets/controls",
          "model_name": "HTMLModel",
          "model_module_version": "1.5.0",
          "state": {
            "_dom_classes": [],
            "_model_module": "@jupyter-widgets/controls",
            "_model_module_version": "1.5.0",
            "_model_name": "HTMLModel",
            "_view_count": null,
            "_view_module": "@jupyter-widgets/controls",
            "_view_module_version": "1.5.0",
            "_view_name": "HTMLView",
            "description": "",
            "description_tooltip": null,
            "layout": "IPY_MODEL_6dcd9146f8934c9b94f46f88e9cf7ad0",
            "placeholder": "​",
            "style": "IPY_MODEL_965f4ef2dd45475589f6edd3fea143e6",
            "value": "config.json: 100%"
          }
        },
        "d2eaa98d520b47bb85833a7202e232b4": {
          "model_module": "@jupyter-widgets/controls",
          "model_name": "FloatProgressModel",
          "model_module_version": "1.5.0",
          "state": {
            "_dom_classes": [],
            "_model_module": "@jupyter-widgets/controls",
            "_model_module_version": "1.5.0",
            "_model_name": "FloatProgressModel",
            "_view_count": null,
            "_view_module": "@jupyter-widgets/controls",
            "_view_module_version": "1.5.0",
            "_view_name": "ProgressView",
            "bar_style": "success",
            "description": "",
            "description_tooltip": null,
            "layout": "IPY_MODEL_6b6234cee6e0420d8f00a50fb8af50d8",
            "max": 570,
            "min": 0,
            "orientation": "horizontal",
            "style": "IPY_MODEL_3351edd27fb645ebaf6ca9cc5c48effb",
            "value": 570
          }
        },
        "f2a23495ec3f4b49a1a33fa478e62b74": {
          "model_module": "@jupyter-widgets/controls",
          "model_name": "HTMLModel",
          "model_module_version": "1.5.0",
          "state": {
            "_dom_classes": [],
            "_model_module": "@jupyter-widgets/controls",
            "_model_module_version": "1.5.0",
            "_model_name": "HTMLModel",
            "_view_count": null,
            "_view_module": "@jupyter-widgets/controls",
            "_view_module_version": "1.5.0",
            "_view_name": "HTMLView",
            "description": "",
            "description_tooltip": null,
            "layout": "IPY_MODEL_9776d7f2d42b4ac5a4367e3634862d9c",
            "placeholder": "​",
            "style": "IPY_MODEL_bff376ab92c940e2ba40e53616926806",
            "value": " 570/570 [00:00&lt;00:00, 18.6kB/s]"
          }
        },
        "eebb29c04b8d40d5899ae9d4c38c6c14": {
          "model_module": "@jupyter-widgets/base",
          "model_name": "LayoutModel",
          "model_module_version": "1.2.0",
          "state": {
            "_model_module": "@jupyter-widgets/base",
            "_model_module_version": "1.2.0",
            "_model_name": "LayoutModel",
            "_view_count": null,
            "_view_module": "@jupyter-widgets/base",
            "_view_module_version": "1.2.0",
            "_view_name": "LayoutView",
            "align_content": null,
            "align_items": null,
            "align_self": null,
            "border": null,
            "bottom": null,
            "display": null,
            "flex": null,
            "flex_flow": null,
            "grid_area": null,
            "grid_auto_columns": null,
            "grid_auto_flow": null,
            "grid_auto_rows": null,
            "grid_column": null,
            "grid_gap": null,
            "grid_row": null,
            "grid_template_areas": null,
            "grid_template_columns": null,
            "grid_template_rows": null,
            "height": null,
            "justify_content": null,
            "justify_items": null,
            "left": null,
            "margin": null,
            "max_height": null,
            "max_width": null,
            "min_height": null,
            "min_width": null,
            "object_fit": null,
            "object_position": null,
            "order": null,
            "overflow": null,
            "overflow_x": null,
            "overflow_y": null,
            "padding": null,
            "right": null,
            "top": null,
            "visibility": null,
            "width": null
          }
        },
        "6dcd9146f8934c9b94f46f88e9cf7ad0": {
          "model_module": "@jupyter-widgets/base",
          "model_name": "LayoutModel",
          "model_module_version": "1.2.0",
          "state": {
            "_model_module": "@jupyter-widgets/base",
            "_model_module_version": "1.2.0",
            "_model_name": "LayoutModel",
            "_view_count": null,
            "_view_module": "@jupyter-widgets/base",
            "_view_module_version": "1.2.0",
            "_view_name": "LayoutView",
            "align_content": null,
            "align_items": null,
            "align_self": null,
            "border": null,
            "bottom": null,
            "display": null,
            "flex": null,
            "flex_flow": null,
            "grid_area": null,
            "grid_auto_columns": null,
            "grid_auto_flow": null,
            "grid_auto_rows": null,
            "grid_column": null,
            "grid_gap": null,
            "grid_row": null,
            "grid_template_areas": null,
            "grid_template_columns": null,
            "grid_template_rows": null,
            "height": null,
            "justify_content": null,
            "justify_items": null,
            "left": null,
            "margin": null,
            "max_height": null,
            "max_width": null,
            "min_height": null,
            "min_width": null,
            "object_fit": null,
            "object_position": null,
            "order": null,
            "overflow": null,
            "overflow_x": null,
            "overflow_y": null,
            "padding": null,
            "right": null,
            "top": null,
            "visibility": null,
            "width": null
          }
        },
        "965f4ef2dd45475589f6edd3fea143e6": {
          "model_module": "@jupyter-widgets/controls",
          "model_name": "DescriptionStyleModel",
          "model_module_version": "1.5.0",
          "state": {
            "_model_module": "@jupyter-widgets/controls",
            "_model_module_version": "1.5.0",
            "_model_name": "DescriptionStyleModel",
            "_view_count": null,
            "_view_module": "@jupyter-widgets/base",
            "_view_module_version": "1.2.0",
            "_view_name": "StyleView",
            "description_width": ""
          }
        },
        "6b6234cee6e0420d8f00a50fb8af50d8": {
          "model_module": "@jupyter-widgets/base",
          "model_name": "LayoutModel",
          "model_module_version": "1.2.0",
          "state": {
            "_model_module": "@jupyter-widgets/base",
            "_model_module_version": "1.2.0",
            "_model_name": "LayoutModel",
            "_view_count": null,
            "_view_module": "@jupyter-widgets/base",
            "_view_module_version": "1.2.0",
            "_view_name": "LayoutView",
            "align_content": null,
            "align_items": null,
            "align_self": null,
            "border": null,
            "bottom": null,
            "display": null,
            "flex": null,
            "flex_flow": null,
            "grid_area": null,
            "grid_auto_columns": null,
            "grid_auto_flow": null,
            "grid_auto_rows": null,
            "grid_column": null,
            "grid_gap": null,
            "grid_row": null,
            "grid_template_areas": null,
            "grid_template_columns": null,
            "grid_template_rows": null,
            "height": null,
            "justify_content": null,
            "justify_items": null,
            "left": null,
            "margin": null,
            "max_height": null,
            "max_width": null,
            "min_height": null,
            "min_width": null,
            "object_fit": null,
            "object_position": null,
            "order": null,
            "overflow": null,
            "overflow_x": null,
            "overflow_y": null,
            "padding": null,
            "right": null,
            "top": null,
            "visibility": null,
            "width": null
          }
        },
        "3351edd27fb645ebaf6ca9cc5c48effb": {
          "model_module": "@jupyter-widgets/controls",
          "model_name": "ProgressStyleModel",
          "model_module_version": "1.5.0",
          "state": {
            "_model_module": "@jupyter-widgets/controls",
            "_model_module_version": "1.5.0",
            "_model_name": "ProgressStyleModel",
            "_view_count": null,
            "_view_module": "@jupyter-widgets/base",
            "_view_module_version": "1.2.0",
            "_view_name": "StyleView",
            "bar_color": null,
            "description_width": ""
          }
        },
        "9776d7f2d42b4ac5a4367e3634862d9c": {
          "model_module": "@jupyter-widgets/base",
          "model_name": "LayoutModel",
          "model_module_version": "1.2.0",
          "state": {
            "_model_module": "@jupyter-widgets/base",
            "_model_module_version": "1.2.0",
            "_model_name": "LayoutModel",
            "_view_count": null,
            "_view_module": "@jupyter-widgets/base",
            "_view_module_version": "1.2.0",
            "_view_name": "LayoutView",
            "align_content": null,
            "align_items": null,
            "align_self": null,
            "border": null,
            "bottom": null,
            "display": null,
            "flex": null,
            "flex_flow": null,
            "grid_area": null,
            "grid_auto_columns": null,
            "grid_auto_flow": null,
            "grid_auto_rows": null,
            "grid_column": null,
            "grid_gap": null,
            "grid_row": null,
            "grid_template_areas": null,
            "grid_template_columns": null,
            "grid_template_rows": null,
            "height": null,
            "justify_content": null,
            "justify_items": null,
            "left": null,
            "margin": null,
            "max_height": null,
            "max_width": null,
            "min_height": null,
            "min_width": null,
            "object_fit": null,
            "object_position": null,
            "order": null,
            "overflow": null,
            "overflow_x": null,
            "overflow_y": null,
            "padding": null,
            "right": null,
            "top": null,
            "visibility": null,
            "width": null
          }
        },
        "bff376ab92c940e2ba40e53616926806": {
          "model_module": "@jupyter-widgets/controls",
          "model_name": "DescriptionStyleModel",
          "model_module_version": "1.5.0",
          "state": {
            "_model_module": "@jupyter-widgets/controls",
            "_model_module_version": "1.5.0",
            "_model_name": "DescriptionStyleModel",
            "_view_count": null,
            "_view_module": "@jupyter-widgets/base",
            "_view_module_version": "1.2.0",
            "_view_name": "StyleView",
            "description_width": ""
          }
        },
        "9ab5f516c21e4bb9be0f6a5d6e3baf73": {
          "model_module": "@jupyter-widgets/controls",
          "model_name": "HBoxModel",
          "model_module_version": "1.5.0",
          "state": {
            "_dom_classes": [],
            "_model_module": "@jupyter-widgets/controls",
            "_model_module_version": "1.5.0",
            "_model_name": "HBoxModel",
            "_view_count": null,
            "_view_module": "@jupyter-widgets/controls",
            "_view_module_version": "1.5.0",
            "_view_name": "HBoxView",
            "box_style": "",
            "children": [
              "IPY_MODEL_77270a9abdcb4bff8d39bb8e740aa56b",
              "IPY_MODEL_eae342f04e86446c9148d9028e58e9ef",
              "IPY_MODEL_73a55bad589448e4bb3061f324b9905a"
            ],
            "layout": "IPY_MODEL_9b0859be64e84520be9362a0ddf32e69"
          }
        },
        "77270a9abdcb4bff8d39bb8e740aa56b": {
          "model_module": "@jupyter-widgets/controls",
          "model_name": "HTMLModel",
          "model_module_version": "1.5.0",
          "state": {
            "_dom_classes": [],
            "_model_module": "@jupyter-widgets/controls",
            "_model_module_version": "1.5.0",
            "_model_name": "HTMLModel",
            "_view_count": null,
            "_view_module": "@jupyter-widgets/controls",
            "_view_module_version": "1.5.0",
            "_view_name": "HTMLView",
            "description": "",
            "description_tooltip": null,
            "layout": "IPY_MODEL_7982094915a24d63a1c47a71f16bdbd1",
            "placeholder": "​",
            "style": "IPY_MODEL_2abdf9c04aa346769ef22234119e9934",
            "value": "model.safetensors: 100%"
          }
        },
        "eae342f04e86446c9148d9028e58e9ef": {
          "model_module": "@jupyter-widgets/controls",
          "model_name": "FloatProgressModel",
          "model_module_version": "1.5.0",
          "state": {
            "_dom_classes": [],
            "_model_module": "@jupyter-widgets/controls",
            "_model_module_version": "1.5.0",
            "_model_name": "FloatProgressModel",
            "_view_count": null,
            "_view_module": "@jupyter-widgets/controls",
            "_view_module_version": "1.5.0",
            "_view_name": "ProgressView",
            "bar_style": "success",
            "description": "",
            "description_tooltip": null,
            "layout": "IPY_MODEL_b546ff8ee819447598d2d62b3d8a44c6",
            "max": 440449768,
            "min": 0,
            "orientation": "horizontal",
            "style": "IPY_MODEL_43b4dde186a34c3aad3b35b3a38bc26e",
            "value": 440449768
          }
        },
        "73a55bad589448e4bb3061f324b9905a": {
          "model_module": "@jupyter-widgets/controls",
          "model_name": "HTMLModel",
          "model_module_version": "1.5.0",
          "state": {
            "_dom_classes": [],
            "_model_module": "@jupyter-widgets/controls",
            "_model_module_version": "1.5.0",
            "_model_name": "HTMLModel",
            "_view_count": null,
            "_view_module": "@jupyter-widgets/controls",
            "_view_module_version": "1.5.0",
            "_view_name": "HTMLView",
            "description": "",
            "description_tooltip": null,
            "layout": "IPY_MODEL_03696d4b29ce4ac78f01c8b5aa9919c1",
            "placeholder": "​",
            "style": "IPY_MODEL_7019c4b8274c410d8739732ab889fcf0",
            "value": " 440M/440M [00:03&lt;00:00, 150MB/s]"
          }
        },
        "9b0859be64e84520be9362a0ddf32e69": {
          "model_module": "@jupyter-widgets/base",
          "model_name": "LayoutModel",
          "model_module_version": "1.2.0",
          "state": {
            "_model_module": "@jupyter-widgets/base",
            "_model_module_version": "1.2.0",
            "_model_name": "LayoutModel",
            "_view_count": null,
            "_view_module": "@jupyter-widgets/base",
            "_view_module_version": "1.2.0",
            "_view_name": "LayoutView",
            "align_content": null,
            "align_items": null,
            "align_self": null,
            "border": null,
            "bottom": null,
            "display": null,
            "flex": null,
            "flex_flow": null,
            "grid_area": null,
            "grid_auto_columns": null,
            "grid_auto_flow": null,
            "grid_auto_rows": null,
            "grid_column": null,
            "grid_gap": null,
            "grid_row": null,
            "grid_template_areas": null,
            "grid_template_columns": null,
            "grid_template_rows": null,
            "height": null,
            "justify_content": null,
            "justify_items": null,
            "left": null,
            "margin": null,
            "max_height": null,
            "max_width": null,
            "min_height": null,
            "min_width": null,
            "object_fit": null,
            "object_position": null,
            "order": null,
            "overflow": null,
            "overflow_x": null,
            "overflow_y": null,
            "padding": null,
            "right": null,
            "top": null,
            "visibility": null,
            "width": null
          }
        },
        "7982094915a24d63a1c47a71f16bdbd1": {
          "model_module": "@jupyter-widgets/base",
          "model_name": "LayoutModel",
          "model_module_version": "1.2.0",
          "state": {
            "_model_module": "@jupyter-widgets/base",
            "_model_module_version": "1.2.0",
            "_model_name": "LayoutModel",
            "_view_count": null,
            "_view_module": "@jupyter-widgets/base",
            "_view_module_version": "1.2.0",
            "_view_name": "LayoutView",
            "align_content": null,
            "align_items": null,
            "align_self": null,
            "border": null,
            "bottom": null,
            "display": null,
            "flex": null,
            "flex_flow": null,
            "grid_area": null,
            "grid_auto_columns": null,
            "grid_auto_flow": null,
            "grid_auto_rows": null,
            "grid_column": null,
            "grid_gap": null,
            "grid_row": null,
            "grid_template_areas": null,
            "grid_template_columns": null,
            "grid_template_rows": null,
            "height": null,
            "justify_content": null,
            "justify_items": null,
            "left": null,
            "margin": null,
            "max_height": null,
            "max_width": null,
            "min_height": null,
            "min_width": null,
            "object_fit": null,
            "object_position": null,
            "order": null,
            "overflow": null,
            "overflow_x": null,
            "overflow_y": null,
            "padding": null,
            "right": null,
            "top": null,
            "visibility": null,
            "width": null
          }
        },
        "2abdf9c04aa346769ef22234119e9934": {
          "model_module": "@jupyter-widgets/controls",
          "model_name": "DescriptionStyleModel",
          "model_module_version": "1.5.0",
          "state": {
            "_model_module": "@jupyter-widgets/controls",
            "_model_module_version": "1.5.0",
            "_model_name": "DescriptionStyleModel",
            "_view_count": null,
            "_view_module": "@jupyter-widgets/base",
            "_view_module_version": "1.2.0",
            "_view_name": "StyleView",
            "description_width": ""
          }
        },
        "b546ff8ee819447598d2d62b3d8a44c6": {
          "model_module": "@jupyter-widgets/base",
          "model_name": "LayoutModel",
          "model_module_version": "1.2.0",
          "state": {
            "_model_module": "@jupyter-widgets/base",
            "_model_module_version": "1.2.0",
            "_model_name": "LayoutModel",
            "_view_count": null,
            "_view_module": "@jupyter-widgets/base",
            "_view_module_version": "1.2.0",
            "_view_name": "LayoutView",
            "align_content": null,
            "align_items": null,
            "align_self": null,
            "border": null,
            "bottom": null,
            "display": null,
            "flex": null,
            "flex_flow": null,
            "grid_area": null,
            "grid_auto_columns": null,
            "grid_auto_flow": null,
            "grid_auto_rows": null,
            "grid_column": null,
            "grid_gap": null,
            "grid_row": null,
            "grid_template_areas": null,
            "grid_template_columns": null,
            "grid_template_rows": null,
            "height": null,
            "justify_content": null,
            "justify_items": null,
            "left": null,
            "margin": null,
            "max_height": null,
            "max_width": null,
            "min_height": null,
            "min_width": null,
            "object_fit": null,
            "object_position": null,
            "order": null,
            "overflow": null,
            "overflow_x": null,
            "overflow_y": null,
            "padding": null,
            "right": null,
            "top": null,
            "visibility": null,
            "width": null
          }
        },
        "43b4dde186a34c3aad3b35b3a38bc26e": {
          "model_module": "@jupyter-widgets/controls",
          "model_name": "ProgressStyleModel",
          "model_module_version": "1.5.0",
          "state": {
            "_model_module": "@jupyter-widgets/controls",
            "_model_module_version": "1.5.0",
            "_model_name": "ProgressStyleModel",
            "_view_count": null,
            "_view_module": "@jupyter-widgets/base",
            "_view_module_version": "1.2.0",
            "_view_name": "StyleView",
            "bar_color": null,
            "description_width": ""
          }
        },
        "03696d4b29ce4ac78f01c8b5aa9919c1": {
          "model_module": "@jupyter-widgets/base",
          "model_name": "LayoutModel",
          "model_module_version": "1.2.0",
          "state": {
            "_model_module": "@jupyter-widgets/base",
            "_model_module_version": "1.2.0",
            "_model_name": "LayoutModel",
            "_view_count": null,
            "_view_module": "@jupyter-widgets/base",
            "_view_module_version": "1.2.0",
            "_view_name": "LayoutView",
            "align_content": null,
            "align_items": null,
            "align_self": null,
            "border": null,
            "bottom": null,
            "display": null,
            "flex": null,
            "flex_flow": null,
            "grid_area": null,
            "grid_auto_columns": null,
            "grid_auto_flow": null,
            "grid_auto_rows": null,
            "grid_column": null,
            "grid_gap": null,
            "grid_row": null,
            "grid_template_areas": null,
            "grid_template_columns": null,
            "grid_template_rows": null,
            "height": null,
            "justify_content": null,
            "justify_items": null,
            "left": null,
            "margin": null,
            "max_height": null,
            "max_width": null,
            "min_height": null,
            "min_width": null,
            "object_fit": null,
            "object_position": null,
            "order": null,
            "overflow": null,
            "overflow_x": null,
            "overflow_y": null,
            "padding": null,
            "right": null,
            "top": null,
            "visibility": null,
            "width": null
          }
        },
        "7019c4b8274c410d8739732ab889fcf0": {
          "model_module": "@jupyter-widgets/controls",
          "model_name": "DescriptionStyleModel",
          "model_module_version": "1.5.0",
          "state": {
            "_model_module": "@jupyter-widgets/controls",
            "_model_module_version": "1.5.0",
            "_model_name": "DescriptionStyleModel",
            "_view_count": null,
            "_view_module": "@jupyter-widgets/base",
            "_view_module_version": "1.2.0",
            "_view_name": "StyleView",
            "description_width": ""
          }
        }
      }
    }
  },
  "nbformat": 4,
  "nbformat_minor": 5
}